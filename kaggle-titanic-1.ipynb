{
 "cells": [
  {
   "cell_type": "code",
   "execution_count": 1,
   "id": "17e0e6a3",
   "metadata": {
    "execution": {
     "iopub.execute_input": "2024-07-30T07:03:07.186442Z",
     "iopub.status.busy": "2024-07-30T07:03:07.186008Z",
     "iopub.status.idle": "2024-07-30T07:03:08.088235Z",
     "shell.execute_reply": "2024-07-30T07:03:08.087051Z"
    },
    "papermill": {
     "duration": 0.929451,
     "end_time": "2024-07-30T07:03:08.090802",
     "exception": false,
     "start_time": "2024-07-30T07:03:07.161351",
     "status": "completed"
    },
    "tags": []
   },
   "outputs": [],
   "source": [
    "import pandas as pd\n",
    "import numpy as np"
   ]
  },
  {
   "cell_type": "code",
   "execution_count": 2,
   "id": "4581ee4d",
   "metadata": {
    "_cell_guid": "b1076dfc-b9ad-4769-8c92-a6c4dae69d19",
    "_uuid": "8f2839f25d086af736a60e9eeb907d3b93b6e0e5",
    "execution": {
     "iopub.execute_input": "2024-07-30T07:03:08.139760Z",
     "iopub.status.busy": "2024-07-30T07:03:08.139168Z",
     "iopub.status.idle": "2024-07-30T07:03:08.147264Z",
     "shell.execute_reply": "2024-07-30T07:03:08.146092Z"
    },
    "papermill": {
     "duration": 0.034467,
     "end_time": "2024-07-30T07:03:08.149530",
     "exception": false,
     "start_time": "2024-07-30T07:03:08.115063",
     "status": "completed"
    },
    "tags": []
   },
   "outputs": [
    {
     "name": "stdout",
     "output_type": "stream",
     "text": [
      "/kaggle/input/titanic/train.csv\n",
      "/kaggle/input/titanic/test.csv\n",
      "/kaggle/input/titanic/gender_submission.csv\n"
     ]
    }
   ],
   "source": [
    "# This Python 3 environment comes with many helpful analytics libraries installed\n",
    "# It is defined by the kaggle/python Docker image: https://github.com/kaggle/docker-python\n",
    "# For example, here's several helpful packages to load\n",
    "\n",
    "import numpy as np # linear algebra\n",
    "import pandas as pd # data processing, CSV file I/O (e.g. pd.read_csv)\n",
    "\n",
    "# Input data files are available in the read-only \"../input/\" directory\n",
    "# For example, running this (by clicking run or pressing Shift+Enter) will list all files under the input directory\n",
    "\n",
    "import os\n",
    "for dirname, _, filenames in os.walk('/kaggle/input'):\n",
    "    for filename in filenames:\n",
    "        print(os.path.join(dirname, filename))\n",
    "\n",
    "# You can write up to 20GB to the current directory (/kaggle/working/) that gets preserved as output when you create a version using \"Save & Run All\" \n",
    "# You can also write temporary files to /kaggle/temp/, but they won't be saved outside of the current session"
   ]
  },
  {
   "cell_type": "code",
   "execution_count": 3,
   "id": "dc9a42a1",
   "metadata": {
    "execution": {
     "iopub.execute_input": "2024-07-30T07:03:08.197660Z",
     "iopub.status.busy": "2024-07-30T07:03:08.196836Z",
     "iopub.status.idle": "2024-07-30T07:03:08.234437Z",
     "shell.execute_reply": "2024-07-30T07:03:08.233423Z"
    },
    "papermill": {
     "duration": 0.064016,
     "end_time": "2024-07-30T07:03:08.237007",
     "exception": false,
     "start_time": "2024-07-30T07:03:08.172991",
     "status": "completed"
    },
    "tags": []
   },
   "outputs": [],
   "source": [
    "train_df = pd.read_csv('/kaggle/input/titanic/train.csv')\n",
    "test_df = pd.read_csv('/kaggle/input/titanic/test.csv')\n",
    "submission = pd.read_csv('/kaggle/input/titanic/gender_submission.csv')"
   ]
  },
  {
   "cell_type": "code",
   "execution_count": 4,
   "id": "fe3811b5",
   "metadata": {
    "execution": {
     "iopub.execute_input": "2024-07-30T07:03:08.284974Z",
     "iopub.status.busy": "2024-07-30T07:03:08.284168Z",
     "iopub.status.idle": "2024-07-30T07:03:08.289258Z",
     "shell.execute_reply": "2024-07-30T07:03:08.288056Z"
    },
    "papermill": {
     "duration": 0.031307,
     "end_time": "2024-07-30T07:03:08.291551",
     "exception": false,
     "start_time": "2024-07-30T07:03:08.260244",
     "status": "completed"
    },
    "tags": []
   },
   "outputs": [],
   "source": [
    "import random\n",
    "np.random.seed(1234)\n",
    "random.seed(1234)"
   ]
  },
  {
   "cell_type": "markdown",
   "id": "a351fc60",
   "metadata": {
    "papermill": {
     "duration": 0.022829,
     "end_time": "2024-07-30T07:03:08.337152",
     "exception": false,
     "start_time": "2024-07-30T07:03:08.314323",
     "status": "completed"
    },
    "tags": []
   },
   "source": [
    "# 1. EDA"
   ]
  },
  {
   "cell_type": "markdown",
   "id": "ab6f9b04",
   "metadata": {
    "papermill": {
     "duration": 0.022152,
     "end_time": "2024-07-30T07:03:08.382402",
     "exception": false,
     "start_time": "2024-07-30T07:03:08.360250",
     "status": "completed"
    },
    "tags": []
   },
   "source": [
    "### 데이터의 행과 열 확인하기"
   ]
  },
  {
   "cell_type": "code",
   "execution_count": 5,
   "id": "51ad72a5",
   "metadata": {
    "execution": {
     "iopub.execute_input": "2024-07-30T07:03:08.430220Z",
     "iopub.status.busy": "2024-07-30T07:03:08.429800Z",
     "iopub.status.idle": "2024-07-30T07:03:08.435222Z",
     "shell.execute_reply": "2024-07-30T07:03:08.434157Z"
    },
    "papermill": {
     "duration": 0.033098,
     "end_time": "2024-07-30T07:03:08.437980",
     "exception": false,
     "start_time": "2024-07-30T07:03:08.404882",
     "status": "completed"
    },
    "tags": []
   },
   "outputs": [
    {
     "name": "stdout",
     "output_type": "stream",
     "text": [
      "(891, 12)\n",
      "(418, 11)\n"
     ]
    }
   ],
   "source": [
    "print(train_df.shape)\n",
    "print(test_df.shape)"
   ]
  },
  {
   "cell_type": "markdown",
   "id": "48664c71",
   "metadata": {
    "papermill": {
     "duration": 0.022481,
     "end_time": "2024-07-30T07:03:08.483125",
     "exception": false,
     "start_time": "2024-07-30T07:03:08.460644",
     "status": "completed"
    },
    "tags": []
   },
   "source": [
    "### 데이터 내용 미리보기"
   ]
  },
  {
   "cell_type": "code",
   "execution_count": 6,
   "id": "935017e5",
   "metadata": {
    "execution": {
     "iopub.execute_input": "2024-07-30T07:03:08.529764Z",
     "iopub.status.busy": "2024-07-30T07:03:08.529403Z",
     "iopub.status.idle": "2024-07-30T07:03:08.534337Z",
     "shell.execute_reply": "2024-07-30T07:03:08.533309Z"
    },
    "papermill": {
     "duration": 0.030946,
     "end_time": "2024-07-30T07:03:08.536602",
     "exception": false,
     "start_time": "2024-07-30T07:03:08.505656",
     "status": "completed"
    },
    "tags": []
   },
   "outputs": [],
   "source": [
    "pd.set_option(\"display.max_columns\", 50)\n",
    "pd.set_option(\"display.max_rows\", 50)"
   ]
  },
  {
   "cell_type": "code",
   "execution_count": 7,
   "id": "5b2fc310",
   "metadata": {
    "execution": {
     "iopub.execute_input": "2024-07-30T07:03:08.644524Z",
     "iopub.status.busy": "2024-07-30T07:03:08.644139Z",
     "iopub.status.idle": "2024-07-30T07:03:08.673508Z",
     "shell.execute_reply": "2024-07-30T07:03:08.672360Z"
    },
    "papermill": {
     "duration": 0.11652,
     "end_time": "2024-07-30T07:03:08.675815",
     "exception": false,
     "start_time": "2024-07-30T07:03:08.559295",
     "status": "completed"
    },
    "tags": []
   },
   "outputs": [
    {
     "data": {
      "text/html": [
       "<div>\n",
       "<style scoped>\n",
       "    .dataframe tbody tr th:only-of-type {\n",
       "        vertical-align: middle;\n",
       "    }\n",
       "\n",
       "    .dataframe tbody tr th {\n",
       "        vertical-align: top;\n",
       "    }\n",
       "\n",
       "    .dataframe thead th {\n",
       "        text-align: right;\n",
       "    }\n",
       "</style>\n",
       "<table border=\"1\" class=\"dataframe\">\n",
       "  <thead>\n",
       "    <tr style=\"text-align: right;\">\n",
       "      <th></th>\n",
       "      <th>PassengerId</th>\n",
       "      <th>Survived</th>\n",
       "      <th>Pclass</th>\n",
       "      <th>Name</th>\n",
       "      <th>Sex</th>\n",
       "      <th>Age</th>\n",
       "      <th>SibSp</th>\n",
       "      <th>Parch</th>\n",
       "      <th>Ticket</th>\n",
       "      <th>Fare</th>\n",
       "      <th>Cabin</th>\n",
       "      <th>Embarked</th>\n",
       "    </tr>\n",
       "  </thead>\n",
       "  <tbody>\n",
       "    <tr>\n",
       "      <th>0</th>\n",
       "      <td>1</td>\n",
       "      <td>0</td>\n",
       "      <td>3</td>\n",
       "      <td>Braund, Mr. Owen Harris</td>\n",
       "      <td>male</td>\n",
       "      <td>22.0</td>\n",
       "      <td>1</td>\n",
       "      <td>0</td>\n",
       "      <td>A/5 21171</td>\n",
       "      <td>7.2500</td>\n",
       "      <td>NaN</td>\n",
       "      <td>S</td>\n",
       "    </tr>\n",
       "    <tr>\n",
       "      <th>1</th>\n",
       "      <td>2</td>\n",
       "      <td>1</td>\n",
       "      <td>1</td>\n",
       "      <td>Cumings, Mrs. John Bradley (Florence Briggs Th...</td>\n",
       "      <td>female</td>\n",
       "      <td>38.0</td>\n",
       "      <td>1</td>\n",
       "      <td>0</td>\n",
       "      <td>PC 17599</td>\n",
       "      <td>71.2833</td>\n",
       "      <td>C85</td>\n",
       "      <td>C</td>\n",
       "    </tr>\n",
       "    <tr>\n",
       "      <th>2</th>\n",
       "      <td>3</td>\n",
       "      <td>1</td>\n",
       "      <td>3</td>\n",
       "      <td>Heikkinen, Miss. Laina</td>\n",
       "      <td>female</td>\n",
       "      <td>26.0</td>\n",
       "      <td>0</td>\n",
       "      <td>0</td>\n",
       "      <td>STON/O2. 3101282</td>\n",
       "      <td>7.9250</td>\n",
       "      <td>NaN</td>\n",
       "      <td>S</td>\n",
       "    </tr>\n",
       "    <tr>\n",
       "      <th>3</th>\n",
       "      <td>4</td>\n",
       "      <td>1</td>\n",
       "      <td>1</td>\n",
       "      <td>Futrelle, Mrs. Jacques Heath (Lily May Peel)</td>\n",
       "      <td>female</td>\n",
       "      <td>35.0</td>\n",
       "      <td>1</td>\n",
       "      <td>0</td>\n",
       "      <td>113803</td>\n",
       "      <td>53.1000</td>\n",
       "      <td>C123</td>\n",
       "      <td>S</td>\n",
       "    </tr>\n",
       "    <tr>\n",
       "      <th>4</th>\n",
       "      <td>5</td>\n",
       "      <td>0</td>\n",
       "      <td>3</td>\n",
       "      <td>Allen, Mr. William Henry</td>\n",
       "      <td>male</td>\n",
       "      <td>35.0</td>\n",
       "      <td>0</td>\n",
       "      <td>0</td>\n",
       "      <td>373450</td>\n",
       "      <td>8.0500</td>\n",
       "      <td>NaN</td>\n",
       "      <td>S</td>\n",
       "    </tr>\n",
       "  </tbody>\n",
       "</table>\n",
       "</div>"
      ],
      "text/plain": [
       "   PassengerId  Survived  Pclass  \\\n",
       "0            1         0       3   \n",
       "1            2         1       1   \n",
       "2            3         1       3   \n",
       "3            4         1       1   \n",
       "4            5         0       3   \n",
       "\n",
       "                                                Name     Sex   Age  SibSp  \\\n",
       "0                            Braund, Mr. Owen Harris    male  22.0      1   \n",
       "1  Cumings, Mrs. John Bradley (Florence Briggs Th...  female  38.0      1   \n",
       "2                             Heikkinen, Miss. Laina  female  26.0      0   \n",
       "3       Futrelle, Mrs. Jacques Heath (Lily May Peel)  female  35.0      1   \n",
       "4                           Allen, Mr. William Henry    male  35.0      0   \n",
       "\n",
       "   Parch            Ticket     Fare Cabin Embarked  \n",
       "0      0         A/5 21171   7.2500   NaN        S  \n",
       "1      0          PC 17599  71.2833   C85        C  \n",
       "2      0  STON/O2. 3101282   7.9250   NaN        S  \n",
       "3      0            113803  53.1000  C123        S  \n",
       "4      0            373450   8.0500   NaN        S  "
      ]
     },
     "execution_count": 7,
     "metadata": {},
     "output_type": "execute_result"
    }
   ],
   "source": [
    "train_df.head()"
   ]
  },
  {
   "cell_type": "code",
   "execution_count": 8,
   "id": "35cb1001",
   "metadata": {
    "execution": {
     "iopub.execute_input": "2024-07-30T07:03:08.723770Z",
     "iopub.status.busy": "2024-07-30T07:03:08.723424Z",
     "iopub.status.idle": "2024-07-30T07:03:08.738938Z",
     "shell.execute_reply": "2024-07-30T07:03:08.737879Z"
    },
    "papermill": {
     "duration": 0.042284,
     "end_time": "2024-07-30T07:03:08.741249",
     "exception": false,
     "start_time": "2024-07-30T07:03:08.698965",
     "status": "completed"
    },
    "tags": []
   },
   "outputs": [
    {
     "data": {
      "text/html": [
       "<div>\n",
       "<style scoped>\n",
       "    .dataframe tbody tr th:only-of-type {\n",
       "        vertical-align: middle;\n",
       "    }\n",
       "\n",
       "    .dataframe tbody tr th {\n",
       "        vertical-align: top;\n",
       "    }\n",
       "\n",
       "    .dataframe thead th {\n",
       "        text-align: right;\n",
       "    }\n",
       "</style>\n",
       "<table border=\"1\" class=\"dataframe\">\n",
       "  <thead>\n",
       "    <tr style=\"text-align: right;\">\n",
       "      <th></th>\n",
       "      <th>PassengerId</th>\n",
       "      <th>Pclass</th>\n",
       "      <th>Name</th>\n",
       "      <th>Sex</th>\n",
       "      <th>Age</th>\n",
       "      <th>SibSp</th>\n",
       "      <th>Parch</th>\n",
       "      <th>Ticket</th>\n",
       "      <th>Fare</th>\n",
       "      <th>Cabin</th>\n",
       "      <th>Embarked</th>\n",
       "    </tr>\n",
       "  </thead>\n",
       "  <tbody>\n",
       "    <tr>\n",
       "      <th>0</th>\n",
       "      <td>892</td>\n",
       "      <td>3</td>\n",
       "      <td>Kelly, Mr. James</td>\n",
       "      <td>male</td>\n",
       "      <td>34.5</td>\n",
       "      <td>0</td>\n",
       "      <td>0</td>\n",
       "      <td>330911</td>\n",
       "      <td>7.8292</td>\n",
       "      <td>NaN</td>\n",
       "      <td>Q</td>\n",
       "    </tr>\n",
       "    <tr>\n",
       "      <th>1</th>\n",
       "      <td>893</td>\n",
       "      <td>3</td>\n",
       "      <td>Wilkes, Mrs. James (Ellen Needs)</td>\n",
       "      <td>female</td>\n",
       "      <td>47.0</td>\n",
       "      <td>1</td>\n",
       "      <td>0</td>\n",
       "      <td>363272</td>\n",
       "      <td>7.0000</td>\n",
       "      <td>NaN</td>\n",
       "      <td>S</td>\n",
       "    </tr>\n",
       "    <tr>\n",
       "      <th>2</th>\n",
       "      <td>894</td>\n",
       "      <td>2</td>\n",
       "      <td>Myles, Mr. Thomas Francis</td>\n",
       "      <td>male</td>\n",
       "      <td>62.0</td>\n",
       "      <td>0</td>\n",
       "      <td>0</td>\n",
       "      <td>240276</td>\n",
       "      <td>9.6875</td>\n",
       "      <td>NaN</td>\n",
       "      <td>Q</td>\n",
       "    </tr>\n",
       "    <tr>\n",
       "      <th>3</th>\n",
       "      <td>895</td>\n",
       "      <td>3</td>\n",
       "      <td>Wirz, Mr. Albert</td>\n",
       "      <td>male</td>\n",
       "      <td>27.0</td>\n",
       "      <td>0</td>\n",
       "      <td>0</td>\n",
       "      <td>315154</td>\n",
       "      <td>8.6625</td>\n",
       "      <td>NaN</td>\n",
       "      <td>S</td>\n",
       "    </tr>\n",
       "    <tr>\n",
       "      <th>4</th>\n",
       "      <td>896</td>\n",
       "      <td>3</td>\n",
       "      <td>Hirvonen, Mrs. Alexander (Helga E Lindqvist)</td>\n",
       "      <td>female</td>\n",
       "      <td>22.0</td>\n",
       "      <td>1</td>\n",
       "      <td>1</td>\n",
       "      <td>3101298</td>\n",
       "      <td>12.2875</td>\n",
       "      <td>NaN</td>\n",
       "      <td>S</td>\n",
       "    </tr>\n",
       "  </tbody>\n",
       "</table>\n",
       "</div>"
      ],
      "text/plain": [
       "   PassengerId  Pclass                                          Name     Sex  \\\n",
       "0          892       3                              Kelly, Mr. James    male   \n",
       "1          893       3              Wilkes, Mrs. James (Ellen Needs)  female   \n",
       "2          894       2                     Myles, Mr. Thomas Francis    male   \n",
       "3          895       3                              Wirz, Mr. Albert    male   \n",
       "4          896       3  Hirvonen, Mrs. Alexander (Helga E Lindqvist)  female   \n",
       "\n",
       "    Age  SibSp  Parch   Ticket     Fare Cabin Embarked  \n",
       "0  34.5      0      0   330911   7.8292   NaN        Q  \n",
       "1  47.0      1      0   363272   7.0000   NaN        S  \n",
       "2  62.0      0      0   240276   9.6875   NaN        Q  \n",
       "3  27.0      0      0   315154   8.6625   NaN        S  \n",
       "4  22.0      1      1  3101298  12.2875   NaN        S  "
      ]
     },
     "execution_count": 8,
     "metadata": {},
     "output_type": "execute_result"
    }
   ],
   "source": [
    "test_df.head()"
   ]
  },
  {
   "cell_type": "markdown",
   "id": "d7cfb949",
   "metadata": {
    "papermill": {
     "duration": 0.023216,
     "end_time": "2024-07-30T07:03:08.787948",
     "exception": false,
     "start_time": "2024-07-30T07:03:08.764732",
     "status": "completed"
    },
    "tags": []
   },
   "source": [
    "### 데이터 속성 확인하기"
   ]
  },
  {
   "cell_type": "code",
   "execution_count": 9,
   "id": "e85733ca",
   "metadata": {
    "execution": {
     "iopub.execute_input": "2024-07-30T07:03:08.836563Z",
     "iopub.status.busy": "2024-07-30T07:03:08.836217Z",
     "iopub.status.idle": "2024-07-30T07:03:08.844082Z",
     "shell.execute_reply": "2024-07-30T07:03:08.842972Z"
    },
    "papermill": {
     "duration": 0.034921,
     "end_time": "2024-07-30T07:03:08.846379",
     "exception": false,
     "start_time": "2024-07-30T07:03:08.811458",
     "status": "completed"
    },
    "tags": []
   },
   "outputs": [
    {
     "data": {
      "text/plain": [
       "PassengerId      int64\n",
       "Survived         int64\n",
       "Pclass           int64\n",
       "Name            object\n",
       "Sex             object\n",
       "Age            float64\n",
       "SibSp            int64\n",
       "Parch            int64\n",
       "Ticket          object\n",
       "Fare           float64\n",
       "Cabin           object\n",
       "Embarked        object\n",
       "dtype: object"
      ]
     },
     "execution_count": 9,
     "metadata": {},
     "output_type": "execute_result"
    }
   ],
   "source": [
    "train_df.dtypes"
   ]
  },
  {
   "cell_type": "markdown",
   "id": "b8e04928",
   "metadata": {
    "papermill": {
     "duration": 0.023155,
     "end_time": "2024-07-30T07:03:08.893078",
     "exception": false,
     "start_time": "2024-07-30T07:03:08.869923",
     "status": "completed"
    },
    "tags": []
   },
   "source": [
    "### 양적 데이터 통계량 확인하기"
   ]
  },
  {
   "cell_type": "code",
   "execution_count": 10,
   "id": "db248582",
   "metadata": {
    "execution": {
     "iopub.execute_input": "2024-07-30T07:03:08.942354Z",
     "iopub.status.busy": "2024-07-30T07:03:08.941971Z",
     "iopub.status.idle": "2024-07-30T07:03:08.974626Z",
     "shell.execute_reply": "2024-07-30T07:03:08.973325Z"
    },
    "papermill": {
     "duration": 0.060487,
     "end_time": "2024-07-30T07:03:08.977124",
     "exception": false,
     "start_time": "2024-07-30T07:03:08.916637",
     "status": "completed"
    },
    "tags": []
   },
   "outputs": [
    {
     "data": {
      "text/html": [
       "<div>\n",
       "<style scoped>\n",
       "    .dataframe tbody tr th:only-of-type {\n",
       "        vertical-align: middle;\n",
       "    }\n",
       "\n",
       "    .dataframe tbody tr th {\n",
       "        vertical-align: top;\n",
       "    }\n",
       "\n",
       "    .dataframe thead th {\n",
       "        text-align: right;\n",
       "    }\n",
       "</style>\n",
       "<table border=\"1\" class=\"dataframe\">\n",
       "  <thead>\n",
       "    <tr style=\"text-align: right;\">\n",
       "      <th></th>\n",
       "      <th>PassengerId</th>\n",
       "      <th>Survived</th>\n",
       "      <th>Pclass</th>\n",
       "      <th>Age</th>\n",
       "      <th>SibSp</th>\n",
       "      <th>Parch</th>\n",
       "      <th>Fare</th>\n",
       "    </tr>\n",
       "  </thead>\n",
       "  <tbody>\n",
       "    <tr>\n",
       "      <th>count</th>\n",
       "      <td>891.000000</td>\n",
       "      <td>891.000000</td>\n",
       "      <td>891.000000</td>\n",
       "      <td>714.000000</td>\n",
       "      <td>891.000000</td>\n",
       "      <td>891.000000</td>\n",
       "      <td>891.000000</td>\n",
       "    </tr>\n",
       "    <tr>\n",
       "      <th>mean</th>\n",
       "      <td>446.000000</td>\n",
       "      <td>0.383838</td>\n",
       "      <td>2.308642</td>\n",
       "      <td>29.699118</td>\n",
       "      <td>0.523008</td>\n",
       "      <td>0.381594</td>\n",
       "      <td>32.204208</td>\n",
       "    </tr>\n",
       "    <tr>\n",
       "      <th>std</th>\n",
       "      <td>257.353842</td>\n",
       "      <td>0.486592</td>\n",
       "      <td>0.836071</td>\n",
       "      <td>14.526497</td>\n",
       "      <td>1.102743</td>\n",
       "      <td>0.806057</td>\n",
       "      <td>49.693429</td>\n",
       "    </tr>\n",
       "    <tr>\n",
       "      <th>min</th>\n",
       "      <td>1.000000</td>\n",
       "      <td>0.000000</td>\n",
       "      <td>1.000000</td>\n",
       "      <td>0.420000</td>\n",
       "      <td>0.000000</td>\n",
       "      <td>0.000000</td>\n",
       "      <td>0.000000</td>\n",
       "    </tr>\n",
       "    <tr>\n",
       "      <th>25%</th>\n",
       "      <td>223.500000</td>\n",
       "      <td>0.000000</td>\n",
       "      <td>2.000000</td>\n",
       "      <td>20.125000</td>\n",
       "      <td>0.000000</td>\n",
       "      <td>0.000000</td>\n",
       "      <td>7.910400</td>\n",
       "    </tr>\n",
       "    <tr>\n",
       "      <th>50%</th>\n",
       "      <td>446.000000</td>\n",
       "      <td>0.000000</td>\n",
       "      <td>3.000000</td>\n",
       "      <td>28.000000</td>\n",
       "      <td>0.000000</td>\n",
       "      <td>0.000000</td>\n",
       "      <td>14.454200</td>\n",
       "    </tr>\n",
       "    <tr>\n",
       "      <th>75%</th>\n",
       "      <td>668.500000</td>\n",
       "      <td>1.000000</td>\n",
       "      <td>3.000000</td>\n",
       "      <td>38.000000</td>\n",
       "      <td>1.000000</td>\n",
       "      <td>0.000000</td>\n",
       "      <td>31.000000</td>\n",
       "    </tr>\n",
       "    <tr>\n",
       "      <th>max</th>\n",
       "      <td>891.000000</td>\n",
       "      <td>1.000000</td>\n",
       "      <td>3.000000</td>\n",
       "      <td>80.000000</td>\n",
       "      <td>8.000000</td>\n",
       "      <td>6.000000</td>\n",
       "      <td>512.329200</td>\n",
       "    </tr>\n",
       "  </tbody>\n",
       "</table>\n",
       "</div>"
      ],
      "text/plain": [
       "       PassengerId    Survived      Pclass         Age       SibSp  \\\n",
       "count   891.000000  891.000000  891.000000  714.000000  891.000000   \n",
       "mean    446.000000    0.383838    2.308642   29.699118    0.523008   \n",
       "std     257.353842    0.486592    0.836071   14.526497    1.102743   \n",
       "min       1.000000    0.000000    1.000000    0.420000    0.000000   \n",
       "25%     223.500000    0.000000    2.000000   20.125000    0.000000   \n",
       "50%     446.000000    0.000000    3.000000   28.000000    0.000000   \n",
       "75%     668.500000    1.000000    3.000000   38.000000    1.000000   \n",
       "max     891.000000    1.000000    3.000000   80.000000    8.000000   \n",
       "\n",
       "            Parch        Fare  \n",
       "count  891.000000  891.000000  \n",
       "mean     0.381594   32.204208  \n",
       "std      0.806057   49.693429  \n",
       "min      0.000000    0.000000  \n",
       "25%      0.000000    7.910400  \n",
       "50%      0.000000   14.454200  \n",
       "75%      0.000000   31.000000  \n",
       "max      6.000000  512.329200  "
      ]
     },
     "execution_count": 10,
     "metadata": {},
     "output_type": "execute_result"
    }
   ],
   "source": [
    "train_df.describe()"
   ]
  },
  {
   "cell_type": "code",
   "execution_count": 11,
   "id": "a9c824c3",
   "metadata": {
    "execution": {
     "iopub.execute_input": "2024-07-30T07:03:09.029542Z",
     "iopub.status.busy": "2024-07-30T07:03:09.029141Z",
     "iopub.status.idle": "2024-07-30T07:03:09.057632Z",
     "shell.execute_reply": "2024-07-30T07:03:09.056420Z"
    },
    "papermill": {
     "duration": 0.057062,
     "end_time": "2024-07-30T07:03:09.060292",
     "exception": false,
     "start_time": "2024-07-30T07:03:09.003230",
     "status": "completed"
    },
    "tags": []
   },
   "outputs": [
    {
     "data": {
      "text/html": [
       "<div>\n",
       "<style scoped>\n",
       "    .dataframe tbody tr th:only-of-type {\n",
       "        vertical-align: middle;\n",
       "    }\n",
       "\n",
       "    .dataframe tbody tr th {\n",
       "        vertical-align: top;\n",
       "    }\n",
       "\n",
       "    .dataframe thead th {\n",
       "        text-align: right;\n",
       "    }\n",
       "</style>\n",
       "<table border=\"1\" class=\"dataframe\">\n",
       "  <thead>\n",
       "    <tr style=\"text-align: right;\">\n",
       "      <th></th>\n",
       "      <th>PassengerId</th>\n",
       "      <th>Pclass</th>\n",
       "      <th>Age</th>\n",
       "      <th>SibSp</th>\n",
       "      <th>Parch</th>\n",
       "      <th>Fare</th>\n",
       "    </tr>\n",
       "  </thead>\n",
       "  <tbody>\n",
       "    <tr>\n",
       "      <th>count</th>\n",
       "      <td>418.000000</td>\n",
       "      <td>418.000000</td>\n",
       "      <td>332.000000</td>\n",
       "      <td>418.000000</td>\n",
       "      <td>418.000000</td>\n",
       "      <td>417.000000</td>\n",
       "    </tr>\n",
       "    <tr>\n",
       "      <th>mean</th>\n",
       "      <td>1100.500000</td>\n",
       "      <td>2.265550</td>\n",
       "      <td>30.272590</td>\n",
       "      <td>0.447368</td>\n",
       "      <td>0.392344</td>\n",
       "      <td>35.627188</td>\n",
       "    </tr>\n",
       "    <tr>\n",
       "      <th>std</th>\n",
       "      <td>120.810458</td>\n",
       "      <td>0.841838</td>\n",
       "      <td>14.181209</td>\n",
       "      <td>0.896760</td>\n",
       "      <td>0.981429</td>\n",
       "      <td>55.907576</td>\n",
       "    </tr>\n",
       "    <tr>\n",
       "      <th>min</th>\n",
       "      <td>892.000000</td>\n",
       "      <td>1.000000</td>\n",
       "      <td>0.170000</td>\n",
       "      <td>0.000000</td>\n",
       "      <td>0.000000</td>\n",
       "      <td>0.000000</td>\n",
       "    </tr>\n",
       "    <tr>\n",
       "      <th>25%</th>\n",
       "      <td>996.250000</td>\n",
       "      <td>1.000000</td>\n",
       "      <td>21.000000</td>\n",
       "      <td>0.000000</td>\n",
       "      <td>0.000000</td>\n",
       "      <td>7.895800</td>\n",
       "    </tr>\n",
       "    <tr>\n",
       "      <th>50%</th>\n",
       "      <td>1100.500000</td>\n",
       "      <td>3.000000</td>\n",
       "      <td>27.000000</td>\n",
       "      <td>0.000000</td>\n",
       "      <td>0.000000</td>\n",
       "      <td>14.454200</td>\n",
       "    </tr>\n",
       "    <tr>\n",
       "      <th>75%</th>\n",
       "      <td>1204.750000</td>\n",
       "      <td>3.000000</td>\n",
       "      <td>39.000000</td>\n",
       "      <td>1.000000</td>\n",
       "      <td>0.000000</td>\n",
       "      <td>31.500000</td>\n",
       "    </tr>\n",
       "    <tr>\n",
       "      <th>max</th>\n",
       "      <td>1309.000000</td>\n",
       "      <td>3.000000</td>\n",
       "      <td>76.000000</td>\n",
       "      <td>8.000000</td>\n",
       "      <td>9.000000</td>\n",
       "      <td>512.329200</td>\n",
       "    </tr>\n",
       "  </tbody>\n",
       "</table>\n",
       "</div>"
      ],
      "text/plain": [
       "       PassengerId      Pclass         Age       SibSp       Parch        Fare\n",
       "count   418.000000  418.000000  332.000000  418.000000  418.000000  417.000000\n",
       "mean   1100.500000    2.265550   30.272590    0.447368    0.392344   35.627188\n",
       "std     120.810458    0.841838   14.181209    0.896760    0.981429   55.907576\n",
       "min     892.000000    1.000000    0.170000    0.000000    0.000000    0.000000\n",
       "25%     996.250000    1.000000   21.000000    0.000000    0.000000    7.895800\n",
       "50%    1100.500000    3.000000   27.000000    0.000000    0.000000   14.454200\n",
       "75%    1204.750000    3.000000   39.000000    1.000000    0.000000   31.500000\n",
       "max    1309.000000    3.000000   76.000000    8.000000    9.000000  512.329200"
      ]
     },
     "execution_count": 11,
     "metadata": {},
     "output_type": "execute_result"
    }
   ],
   "source": [
    "test_df.describe()"
   ]
  },
  {
   "cell_type": "markdown",
   "id": "30e24f3f",
   "metadata": {
    "papermill": {
     "duration": 0.02439,
     "end_time": "2024-07-30T07:03:09.108781",
     "exception": false,
     "start_time": "2024-07-30T07:03:09.084391",
     "status": "completed"
    },
    "tags": []
   },
   "source": [
    "### 카테고리 변수 확인하기"
   ]
  },
  {
   "cell_type": "code",
   "execution_count": 12,
   "id": "742005d6",
   "metadata": {
    "execution": {
     "iopub.execute_input": "2024-07-30T07:03:09.158674Z",
     "iopub.status.busy": "2024-07-30T07:03:09.158318Z",
     "iopub.status.idle": "2024-07-30T07:03:09.166627Z",
     "shell.execute_reply": "2024-07-30T07:03:09.165634Z"
    },
    "papermill": {
     "duration": 0.03598,
     "end_time": "2024-07-30T07:03:09.168928",
     "exception": false,
     "start_time": "2024-07-30T07:03:09.132948",
     "status": "completed"
    },
    "tags": []
   },
   "outputs": [
    {
     "data": {
      "text/plain": [
       "Name        object\n",
       "Sex         object\n",
       "Ticket      object\n",
       "Cabin       object\n",
       "Embarked    object\n",
       "dtype: object"
      ]
     },
     "execution_count": 12,
     "metadata": {},
     "output_type": "execute_result"
    }
   ],
   "source": [
    "train_df.dtypes[train_df.dtypes == 'object']"
   ]
  },
  {
   "cell_type": "code",
   "execution_count": 13,
   "id": "61c3ef08",
   "metadata": {
    "execution": {
     "iopub.execute_input": "2024-07-30T07:03:09.219779Z",
     "iopub.status.busy": "2024-07-30T07:03:09.219416Z",
     "iopub.status.idle": "2024-07-30T07:03:09.231891Z",
     "shell.execute_reply": "2024-07-30T07:03:09.230578Z"
    },
    "papermill": {
     "duration": 0.041111,
     "end_time": "2024-07-30T07:03:09.234502",
     "exception": false,
     "start_time": "2024-07-30T07:03:09.193391",
     "status": "completed"
    },
    "tags": []
   },
   "outputs": [
    {
     "data": {
      "text/plain": [
       "Sex\n",
       "male      577\n",
       "female    314\n",
       "Name: count, dtype: int64"
      ]
     },
     "execution_count": 13,
     "metadata": {},
     "output_type": "execute_result"
    }
   ],
   "source": [
    "train_df['Sex'].value_counts()"
   ]
  },
  {
   "cell_type": "code",
   "execution_count": 14,
   "id": "8a62080b",
   "metadata": {
    "execution": {
     "iopub.execute_input": "2024-07-30T07:03:09.285217Z",
     "iopub.status.busy": "2024-07-30T07:03:09.284833Z",
     "iopub.status.idle": "2024-07-30T07:03:09.293363Z",
     "shell.execute_reply": "2024-07-30T07:03:09.292172Z"
    },
    "papermill": {
     "duration": 0.0363,
     "end_time": "2024-07-30T07:03:09.295694",
     "exception": false,
     "start_time": "2024-07-30T07:03:09.259394",
     "status": "completed"
    },
    "tags": []
   },
   "outputs": [
    {
     "data": {
      "text/plain": [
       "Embarked\n",
       "S    644\n",
       "C    168\n",
       "Q     77\n",
       "Name: count, dtype: int64"
      ]
     },
     "execution_count": 14,
     "metadata": {},
     "output_type": "execute_result"
    }
   ],
   "source": [
    "train_df['Embarked'].value_counts()"
   ]
  },
  {
   "cell_type": "code",
   "execution_count": 15,
   "id": "41550007",
   "metadata": {
    "execution": {
     "iopub.execute_input": "2024-07-30T07:03:09.346762Z",
     "iopub.status.busy": "2024-07-30T07:03:09.346356Z",
     "iopub.status.idle": "2024-07-30T07:03:09.355727Z",
     "shell.execute_reply": "2024-07-30T07:03:09.354668Z"
    },
    "papermill": {
     "duration": 0.037992,
     "end_time": "2024-07-30T07:03:09.358120",
     "exception": false,
     "start_time": "2024-07-30T07:03:09.320128",
     "status": "completed"
    },
    "tags": []
   },
   "outputs": [
    {
     "data": {
      "text/plain": [
       "Cabin\n",
       "B96 B98        4\n",
       "G6             4\n",
       "C23 C25 C27    4\n",
       "C22 C26        3\n",
       "F33            3\n",
       "              ..\n",
       "E34            1\n",
       "C7             1\n",
       "C54            1\n",
       "E36            1\n",
       "C148           1\n",
       "Name: count, Length: 147, dtype: int64"
      ]
     },
     "execution_count": 15,
     "metadata": {},
     "output_type": "execute_result"
    }
   ],
   "source": [
    "train_df['Cabin'].value_counts()"
   ]
  },
  {
   "cell_type": "code",
   "execution_count": 16,
   "id": "d59327f9",
   "metadata": {
    "execution": {
     "iopub.execute_input": "2024-07-30T07:03:09.409142Z",
     "iopub.status.busy": "2024-07-30T07:03:09.408736Z",
     "iopub.status.idle": "2024-07-30T07:03:09.416038Z",
     "shell.execute_reply": "2024-07-30T07:03:09.414981Z"
    },
    "papermill": {
     "duration": 0.035112,
     "end_time": "2024-07-30T07:03:09.418214",
     "exception": false,
     "start_time": "2024-07-30T07:03:09.383102",
     "status": "completed"
    },
    "tags": []
   },
   "outputs": [
    {
     "data": {
      "text/plain": [
       "array([nan, 'C85', 'C123', 'E46', 'G6', 'C103', 'D56', 'A6',\n",
       "       'C23 C25 C27', 'B78', 'D33', 'B30', 'C52', 'B28', 'C83', 'F33',\n",
       "       'F G73', 'E31', 'A5', 'D10 D12', 'D26', 'C110', 'B58 B60', 'E101',\n",
       "       'F E69', 'D47', 'B86', 'F2', 'C2', 'E33', 'B19', 'A7', 'C49', 'F4',\n",
       "       'A32', 'B4', 'B80', 'A31', 'D36', 'D15', 'C93', 'C78', 'D35',\n",
       "       'C87', 'B77', 'E67', 'B94', 'C125', 'C99', 'C118', 'D7', 'A19',\n",
       "       'B49', 'D', 'C22 C26', 'C106', 'C65', 'E36', 'C54',\n",
       "       'B57 B59 B63 B66', 'C7', 'E34', 'C32', 'B18', 'C124', 'C91', 'E40',\n",
       "       'T', 'C128', 'D37', 'B35', 'E50', 'C82', 'B96 B98', 'E10', 'E44',\n",
       "       'A34', 'C104', 'C111', 'C92', 'E38', 'D21', 'E12', 'E63', 'A14',\n",
       "       'B37', 'C30', 'D20', 'B79', 'E25', 'D46', 'B73', 'C95', 'B38',\n",
       "       'B39', 'B22', 'C86', 'C70', 'A16', 'C101', 'C68', 'A10', 'E68',\n",
       "       'B41', 'A20', 'D19', 'D50', 'D9', 'A23', 'B50', 'A26', 'D48',\n",
       "       'E58', 'C126', 'B71', 'B51 B53 B55', 'D49', 'B5', 'B20', 'F G63',\n",
       "       'C62 C64', 'E24', 'C90', 'C45', 'E8', 'B101', 'D45', 'C46', 'D30',\n",
       "       'E121', 'D11', 'E77', 'F38', 'B3', 'D6', 'B82 B84', 'D17', 'A36',\n",
       "       'B102', 'B69', 'E49', 'C47', 'D28', 'E17', 'A24', 'C50', 'B42',\n",
       "       'C148'], dtype=object)"
      ]
     },
     "execution_count": 16,
     "metadata": {},
     "output_type": "execute_result"
    }
   ],
   "source": [
    "train_df['Cabin'].unique()"
   ]
  },
  {
   "cell_type": "markdown",
   "id": "9638a79d",
   "metadata": {
    "papermill": {
     "duration": 0.024892,
     "end_time": "2024-07-30T07:03:09.469280",
     "exception": false,
     "start_time": "2024-07-30T07:03:09.444388",
     "status": "completed"
    },
    "tags": []
   },
   "source": [
    "### 결측치 확인하기"
   ]
  },
  {
   "cell_type": "code",
   "execution_count": 17,
   "id": "29c1da9e",
   "metadata": {
    "execution": {
     "iopub.execute_input": "2024-07-30T07:03:09.520705Z",
     "iopub.status.busy": "2024-07-30T07:03:09.520305Z",
     "iopub.status.idle": "2024-07-30T07:03:09.529319Z",
     "shell.execute_reply": "2024-07-30T07:03:09.528299Z"
    },
    "papermill": {
     "duration": 0.037629,
     "end_time": "2024-07-30T07:03:09.531631",
     "exception": false,
     "start_time": "2024-07-30T07:03:09.494002",
     "status": "completed"
    },
    "tags": []
   },
   "outputs": [
    {
     "data": {
      "text/plain": [
       "PassengerId      0\n",
       "Survived         0\n",
       "Pclass           0\n",
       "Name             0\n",
       "Sex              0\n",
       "Age            177\n",
       "SibSp            0\n",
       "Parch            0\n",
       "Ticket           0\n",
       "Fare             0\n",
       "Cabin          687\n",
       "Embarked         2\n",
       "dtype: int64"
      ]
     },
     "execution_count": 17,
     "metadata": {},
     "output_type": "execute_result"
    }
   ],
   "source": [
    "train_df.isnull().sum()"
   ]
  },
  {
   "cell_type": "code",
   "execution_count": 18,
   "id": "f90edb0e",
   "metadata": {
    "execution": {
     "iopub.execute_input": "2024-07-30T07:03:09.582803Z",
     "iopub.status.busy": "2024-07-30T07:03:09.582428Z",
     "iopub.status.idle": "2024-07-30T07:03:09.590976Z",
     "shell.execute_reply": "2024-07-30T07:03:09.589963Z"
    },
    "papermill": {
     "duration": 0.036627,
     "end_time": "2024-07-30T07:03:09.593160",
     "exception": false,
     "start_time": "2024-07-30T07:03:09.556533",
     "status": "completed"
    },
    "tags": []
   },
   "outputs": [
    {
     "data": {
      "text/plain": [
       "PassengerId      0\n",
       "Pclass           0\n",
       "Name             0\n",
       "Sex              0\n",
       "Age             86\n",
       "SibSp            0\n",
       "Parch            0\n",
       "Ticket           0\n",
       "Fare             1\n",
       "Cabin          327\n",
       "Embarked         0\n",
       "dtype: int64"
      ]
     },
     "execution_count": 18,
     "metadata": {},
     "output_type": "execute_result"
    }
   ],
   "source": [
    "test_df.isnull().sum()"
   ]
  },
  {
   "cell_type": "markdown",
   "id": "42451ba5",
   "metadata": {
    "papermill": {
     "duration": 0.024887,
     "end_time": "2024-07-30T07:03:09.642842",
     "exception": false,
     "start_time": "2024-07-30T07:03:09.617955",
     "status": "completed"
    },
    "tags": []
   },
   "source": [
    "### 데이터 시각화 및 표시 스타일 지정"
   ]
  },
  {
   "cell_type": "code",
   "execution_count": 19,
   "id": "2fc98b18",
   "metadata": {
    "execution": {
     "iopub.execute_input": "2024-07-30T07:03:09.695828Z",
     "iopub.status.busy": "2024-07-30T07:03:09.694861Z",
     "iopub.status.idle": "2024-07-30T07:03:11.086105Z",
     "shell.execute_reply": "2024-07-30T07:03:11.085129Z"
    },
    "papermill": {
     "duration": 1.42077,
     "end_time": "2024-07-30T07:03:11.088728",
     "exception": false,
     "start_time": "2024-07-30T07:03:09.667958",
     "status": "completed"
    },
    "tags": []
   },
   "outputs": [],
   "source": [
    "%matplotlib inline\n",
    "import matplotlib.pyplot as plt\n",
    "import seaborn as sns"
   ]
  },
  {
   "cell_type": "code",
   "execution_count": 20,
   "id": "9ca3fa5c",
   "metadata": {
    "execution": {
     "iopub.execute_input": "2024-07-30T07:03:11.140927Z",
     "iopub.status.busy": "2024-07-30T07:03:11.139849Z",
     "iopub.status.idle": "2024-07-30T07:03:11.145323Z",
     "shell.execute_reply": "2024-07-30T07:03:11.144257Z"
    },
    "papermill": {
     "duration": 0.033873,
     "end_time": "2024-07-30T07:03:11.147587",
     "exception": false,
     "start_time": "2024-07-30T07:03:11.113714",
     "status": "completed"
    },
    "tags": []
   },
   "outputs": [],
   "source": [
    "plt.style.use('ggplot')"
   ]
  },
  {
   "cell_type": "markdown",
   "id": "2fb52f24",
   "metadata": {
    "papermill": {
     "duration": 0.025422,
     "end_time": "2024-07-30T07:03:11.198489",
     "exception": false,
     "start_time": "2024-07-30T07:03:11.173067",
     "status": "completed"
    },
    "tags": []
   },
   "source": [
    "### 목적 변수 관련 데이터의 시각화"
   ]
  },
  {
   "cell_type": "code",
   "execution_count": 21,
   "id": "0ed60063",
   "metadata": {
    "execution": {
     "iopub.execute_input": "2024-07-30T07:03:11.251998Z",
     "iopub.status.busy": "2024-07-30T07:03:11.250884Z",
     "iopub.status.idle": "2024-07-30T07:03:11.271712Z",
     "shell.execute_reply": "2024-07-30T07:03:11.270459Z"
    },
    "papermill": {
     "duration": 0.04996,
     "end_time": "2024-07-30T07:03:11.274348",
     "exception": false,
     "start_time": "2024-07-30T07:03:11.224388",
     "status": "completed"
    },
    "tags": []
   },
   "outputs": [
    {
     "data": {
      "text/html": [
       "<div>\n",
       "<style scoped>\n",
       "    .dataframe tbody tr th:only-of-type {\n",
       "        vertical-align: middle;\n",
       "    }\n",
       "\n",
       "    .dataframe tbody tr th {\n",
       "        vertical-align: top;\n",
       "    }\n",
       "\n",
       "    .dataframe thead th {\n",
       "        text-align: right;\n",
       "    }\n",
       "</style>\n",
       "<table border=\"1\" class=\"dataframe\">\n",
       "  <thead>\n",
       "    <tr style=\"text-align: right;\">\n",
       "      <th></th>\n",
       "      <th>Embarked</th>\n",
       "      <th>Survived</th>\n",
       "      <th>PassengerId</th>\n",
       "    </tr>\n",
       "  </thead>\n",
       "  <tbody>\n",
       "    <tr>\n",
       "      <th>0</th>\n",
       "      <td>S</td>\n",
       "      <td>0</td>\n",
       "      <td>1</td>\n",
       "    </tr>\n",
       "    <tr>\n",
       "      <th>1</th>\n",
       "      <td>C</td>\n",
       "      <td>1</td>\n",
       "      <td>2</td>\n",
       "    </tr>\n",
       "    <tr>\n",
       "      <th>2</th>\n",
       "      <td>S</td>\n",
       "      <td>1</td>\n",
       "      <td>3</td>\n",
       "    </tr>\n",
       "    <tr>\n",
       "      <th>3</th>\n",
       "      <td>S</td>\n",
       "      <td>1</td>\n",
       "      <td>4</td>\n",
       "    </tr>\n",
       "    <tr>\n",
       "      <th>4</th>\n",
       "      <td>S</td>\n",
       "      <td>0</td>\n",
       "      <td>5</td>\n",
       "    </tr>\n",
       "    <tr>\n",
       "      <th>...</th>\n",
       "      <td>...</td>\n",
       "      <td>...</td>\n",
       "      <td>...</td>\n",
       "    </tr>\n",
       "    <tr>\n",
       "      <th>886</th>\n",
       "      <td>S</td>\n",
       "      <td>0</td>\n",
       "      <td>887</td>\n",
       "    </tr>\n",
       "    <tr>\n",
       "      <th>887</th>\n",
       "      <td>S</td>\n",
       "      <td>1</td>\n",
       "      <td>888</td>\n",
       "    </tr>\n",
       "    <tr>\n",
       "      <th>888</th>\n",
       "      <td>S</td>\n",
       "      <td>0</td>\n",
       "      <td>889</td>\n",
       "    </tr>\n",
       "    <tr>\n",
       "      <th>889</th>\n",
       "      <td>C</td>\n",
       "      <td>1</td>\n",
       "      <td>890</td>\n",
       "    </tr>\n",
       "    <tr>\n",
       "      <th>890</th>\n",
       "      <td>Q</td>\n",
       "      <td>0</td>\n",
       "      <td>891</td>\n",
       "    </tr>\n",
       "  </tbody>\n",
       "</table>\n",
       "<p>891 rows × 3 columns</p>\n",
       "</div>"
      ],
      "text/plain": [
       "    Embarked  Survived  PassengerId\n",
       "0          S         0            1\n",
       "1          C         1            2\n",
       "2          S         1            3\n",
       "3          S         1            4\n",
       "4          S         0            5\n",
       "..       ...       ...          ...\n",
       "886        S         0          887\n",
       "887        S         1          888\n",
       "888        S         0          889\n",
       "889        C         1          890\n",
       "890        Q         0          891\n",
       "\n",
       "[891 rows x 3 columns]"
      ]
     },
     "execution_count": 21,
     "metadata": {},
     "output_type": "execute_result"
    }
   ],
   "source": [
    "train_df[['Embarked', 'Survived', 'PassengerId']]"
   ]
  },
  {
   "cell_type": "code",
   "execution_count": 22,
   "id": "ea6f2b44",
   "metadata": {
    "execution": {
     "iopub.execute_input": "2024-07-30T07:03:11.328847Z",
     "iopub.status.busy": "2024-07-30T07:03:11.328454Z",
     "iopub.status.idle": "2024-07-30T07:03:11.342834Z",
     "shell.execute_reply": "2024-07-30T07:03:11.341673Z"
    },
    "papermill": {
     "duration": 0.044628,
     "end_time": "2024-07-30T07:03:11.345002",
     "exception": false,
     "start_time": "2024-07-30T07:03:11.300374",
     "status": "completed"
    },
    "tags": []
   },
   "outputs": [
    {
     "data": {
      "text/html": [
       "<div>\n",
       "<style scoped>\n",
       "    .dataframe tbody tr th:only-of-type {\n",
       "        vertical-align: middle;\n",
       "    }\n",
       "\n",
       "    .dataframe tbody tr th {\n",
       "        vertical-align: top;\n",
       "    }\n",
       "\n",
       "    .dataframe thead th {\n",
       "        text-align: right;\n",
       "    }\n",
       "</style>\n",
       "<table border=\"1\" class=\"dataframe\">\n",
       "  <thead>\n",
       "    <tr style=\"text-align: right;\">\n",
       "      <th></th>\n",
       "      <th>Embarked</th>\n",
       "      <th>Survived</th>\n",
       "      <th>PassengerId</th>\n",
       "    </tr>\n",
       "  </thead>\n",
       "  <tbody>\n",
       "    <tr>\n",
       "      <th>0</th>\n",
       "      <td>S</td>\n",
       "      <td>0</td>\n",
       "      <td>1</td>\n",
       "    </tr>\n",
       "    <tr>\n",
       "      <th>1</th>\n",
       "      <td>C</td>\n",
       "      <td>1</td>\n",
       "      <td>2</td>\n",
       "    </tr>\n",
       "    <tr>\n",
       "      <th>2</th>\n",
       "      <td>S</td>\n",
       "      <td>1</td>\n",
       "      <td>3</td>\n",
       "    </tr>\n",
       "    <tr>\n",
       "      <th>3</th>\n",
       "      <td>S</td>\n",
       "      <td>1</td>\n",
       "      <td>4</td>\n",
       "    </tr>\n",
       "    <tr>\n",
       "      <th>4</th>\n",
       "      <td>S</td>\n",
       "      <td>0</td>\n",
       "      <td>5</td>\n",
       "    </tr>\n",
       "    <tr>\n",
       "      <th>...</th>\n",
       "      <td>...</td>\n",
       "      <td>...</td>\n",
       "      <td>...</td>\n",
       "    </tr>\n",
       "    <tr>\n",
       "      <th>886</th>\n",
       "      <td>S</td>\n",
       "      <td>0</td>\n",
       "      <td>887</td>\n",
       "    </tr>\n",
       "    <tr>\n",
       "      <th>887</th>\n",
       "      <td>S</td>\n",
       "      <td>1</td>\n",
       "      <td>888</td>\n",
       "    </tr>\n",
       "    <tr>\n",
       "      <th>888</th>\n",
       "      <td>S</td>\n",
       "      <td>0</td>\n",
       "      <td>889</td>\n",
       "    </tr>\n",
       "    <tr>\n",
       "      <th>889</th>\n",
       "      <td>C</td>\n",
       "      <td>1</td>\n",
       "      <td>890</td>\n",
       "    </tr>\n",
       "    <tr>\n",
       "      <th>890</th>\n",
       "      <td>Q</td>\n",
       "      <td>0</td>\n",
       "      <td>891</td>\n",
       "    </tr>\n",
       "  </tbody>\n",
       "</table>\n",
       "<p>889 rows × 3 columns</p>\n",
       "</div>"
      ],
      "text/plain": [
       "    Embarked  Survived  PassengerId\n",
       "0          S         0            1\n",
       "1          C         1            2\n",
       "2          S         1            3\n",
       "3          S         1            4\n",
       "4          S         0            5\n",
       "..       ...       ...          ...\n",
       "886        S         0          887\n",
       "887        S         1          888\n",
       "888        S         0          889\n",
       "889        C         1          890\n",
       "890        Q         0          891\n",
       "\n",
       "[889 rows x 3 columns]"
      ]
     },
     "execution_count": 22,
     "metadata": {},
     "output_type": "execute_result"
    }
   ],
   "source": [
    "train_df[['Embarked', 'Survived', 'PassengerId']].dropna()"
   ]
  },
  {
   "cell_type": "code",
   "execution_count": 23,
   "id": "1685123e",
   "metadata": {
    "execution": {
     "iopub.execute_input": "2024-07-30T07:03:11.397992Z",
     "iopub.status.busy": "2024-07-30T07:03:11.397615Z",
     "iopub.status.idle": "2024-07-30T07:03:11.415832Z",
     "shell.execute_reply": "2024-07-30T07:03:11.414740Z"
    },
    "papermill": {
     "duration": 0.047625,
     "end_time": "2024-07-30T07:03:11.418218",
     "exception": false,
     "start_time": "2024-07-30T07:03:11.370593",
     "status": "completed"
    },
    "tags": []
   },
   "outputs": [
    {
     "data": {
      "text/html": [
       "<div>\n",
       "<style scoped>\n",
       "    .dataframe tbody tr th:only-of-type {\n",
       "        vertical-align: middle;\n",
       "    }\n",
       "\n",
       "    .dataframe tbody tr th {\n",
       "        vertical-align: top;\n",
       "    }\n",
       "\n",
       "    .dataframe thead th {\n",
       "        text-align: right;\n",
       "    }\n",
       "</style>\n",
       "<table border=\"1\" class=\"dataframe\">\n",
       "  <thead>\n",
       "    <tr style=\"text-align: right;\">\n",
       "      <th></th>\n",
       "      <th></th>\n",
       "      <th>PassengerId</th>\n",
       "    </tr>\n",
       "    <tr>\n",
       "      <th>Embarked</th>\n",
       "      <th>Survived</th>\n",
       "      <th></th>\n",
       "    </tr>\n",
       "  </thead>\n",
       "  <tbody>\n",
       "    <tr>\n",
       "      <th rowspan=\"2\" valign=\"top\">C</th>\n",
       "      <th>0</th>\n",
       "      <td>75</td>\n",
       "    </tr>\n",
       "    <tr>\n",
       "      <th>1</th>\n",
       "      <td>93</td>\n",
       "    </tr>\n",
       "    <tr>\n",
       "      <th rowspan=\"2\" valign=\"top\">Q</th>\n",
       "      <th>0</th>\n",
       "      <td>47</td>\n",
       "    </tr>\n",
       "    <tr>\n",
       "      <th>1</th>\n",
       "      <td>30</td>\n",
       "    </tr>\n",
       "    <tr>\n",
       "      <th rowspan=\"2\" valign=\"top\">S</th>\n",
       "      <th>0</th>\n",
       "      <td>427</td>\n",
       "    </tr>\n",
       "    <tr>\n",
       "      <th>1</th>\n",
       "      <td>217</td>\n",
       "    </tr>\n",
       "  </tbody>\n",
       "</table>\n",
       "</div>"
      ],
      "text/plain": [
       "                   PassengerId\n",
       "Embarked Survived             \n",
       "C        0                  75\n",
       "         1                  93\n",
       "Q        0                  47\n",
       "         1                  30\n",
       "S        0                 427\n",
       "         1                 217"
      ]
     },
     "execution_count": 23,
     "metadata": {},
     "output_type": "execute_result"
    }
   ],
   "source": [
    "train_df[['Embarked', 'Survived', 'PassengerId']].dropna().groupby(['Embarked','Survived']).count()"
   ]
  },
  {
   "cell_type": "markdown",
   "id": "424e1f68",
   "metadata": {
    "papermill": {
     "duration": 0.02639,
     "end_time": "2024-07-30T07:03:11.470740",
     "exception": false,
     "start_time": "2024-07-30T07:03:11.444350",
     "status": "completed"
    },
    "tags": []
   },
   "source": [
    "### 데이터를 수평으로 변환하기"
   ]
  },
  {
   "cell_type": "code",
   "execution_count": 24,
   "id": "ab0ada65",
   "metadata": {
    "execution": {
     "iopub.execute_input": "2024-07-30T07:03:11.524679Z",
     "iopub.status.busy": "2024-07-30T07:03:11.524304Z",
     "iopub.status.idle": "2024-07-30T07:03:11.538532Z",
     "shell.execute_reply": "2024-07-30T07:03:11.537362Z"
    },
    "papermill": {
     "duration": 0.044316,
     "end_time": "2024-07-30T07:03:11.541172",
     "exception": false,
     "start_time": "2024-07-30T07:03:11.496856",
     "status": "completed"
    },
    "tags": []
   },
   "outputs": [],
   "source": [
    "embarked_df = train_df[['Embarked', 'Survived', 'PassengerId']].dropna().groupby(['Embarked','Survived']).count().unstack()"
   ]
  },
  {
   "cell_type": "code",
   "execution_count": 25,
   "id": "a4013bf1",
   "metadata": {
    "execution": {
     "iopub.execute_input": "2024-07-30T07:03:11.595020Z",
     "iopub.status.busy": "2024-07-30T07:03:11.593786Z",
     "iopub.status.idle": "2024-07-30T07:03:11.606087Z",
     "shell.execute_reply": "2024-07-30T07:03:11.604853Z"
    },
    "papermill": {
     "duration": 0.041593,
     "end_time": "2024-07-30T07:03:11.608413",
     "exception": false,
     "start_time": "2024-07-30T07:03:11.566820",
     "status": "completed"
    },
    "tags": []
   },
   "outputs": [
    {
     "data": {
      "text/html": [
       "<div>\n",
       "<style scoped>\n",
       "    .dataframe tbody tr th:only-of-type {\n",
       "        vertical-align: middle;\n",
       "    }\n",
       "\n",
       "    .dataframe tbody tr th {\n",
       "        vertical-align: top;\n",
       "    }\n",
       "\n",
       "    .dataframe thead tr th {\n",
       "        text-align: left;\n",
       "    }\n",
       "\n",
       "    .dataframe thead tr:last-of-type th {\n",
       "        text-align: right;\n",
       "    }\n",
       "</style>\n",
       "<table border=\"1\" class=\"dataframe\">\n",
       "  <thead>\n",
       "    <tr>\n",
       "      <th></th>\n",
       "      <th colspan=\"2\" halign=\"left\">PassengerId</th>\n",
       "    </tr>\n",
       "    <tr>\n",
       "      <th>Survived</th>\n",
       "      <th>0</th>\n",
       "      <th>1</th>\n",
       "    </tr>\n",
       "    <tr>\n",
       "      <th>Embarked</th>\n",
       "      <th></th>\n",
       "      <th></th>\n",
       "    </tr>\n",
       "  </thead>\n",
       "  <tbody>\n",
       "    <tr>\n",
       "      <th>C</th>\n",
       "      <td>75</td>\n",
       "      <td>93</td>\n",
       "    </tr>\n",
       "    <tr>\n",
       "      <th>Q</th>\n",
       "      <td>47</td>\n",
       "      <td>30</td>\n",
       "    </tr>\n",
       "    <tr>\n",
       "      <th>S</th>\n",
       "      <td>427</td>\n",
       "      <td>217</td>\n",
       "    </tr>\n",
       "  </tbody>\n",
       "</table>\n",
       "</div>"
      ],
      "text/plain": [
       "         PassengerId     \n",
       "Survived           0    1\n",
       "Embarked                 \n",
       "C                 75   93\n",
       "Q                 47   30\n",
       "S                427  217"
      ]
     },
     "execution_count": 25,
     "metadata": {},
     "output_type": "execute_result"
    }
   ],
   "source": [
    "embarked_df"
   ]
  },
  {
   "cell_type": "markdown",
   "id": "c811cab6",
   "metadata": {
    "papermill": {
     "duration": 0.026142,
     "end_time": "2024-07-30T07:03:11.660532",
     "exception": false,
     "start_time": "2024-07-30T07:03:11.634390",
     "status": "completed"
    },
    "tags": []
   },
   "source": [
    "### 누적 막대 그래프로 시각화하기"
   ]
  },
  {
   "cell_type": "code",
   "execution_count": 26,
   "id": "a2a0da83",
   "metadata": {
    "execution": {
     "iopub.execute_input": "2024-07-30T07:03:11.714866Z",
     "iopub.status.busy": "2024-07-30T07:03:11.714399Z",
     "iopub.status.idle": "2024-07-30T07:03:12.074082Z",
     "shell.execute_reply": "2024-07-30T07:03:12.072663Z"
    },
    "papermill": {
     "duration": 0.38929,
     "end_time": "2024-07-30T07:03:12.076757",
     "exception": false,
     "start_time": "2024-07-30T07:03:11.687467",
     "status": "completed"
    },
    "tags": []
   },
   "outputs": [
    {
     "data": {
      "text/plain": [
       "<Axes: xlabel='Embarked'>"
      ]
     },
     "execution_count": 26,
     "metadata": {},
     "output_type": "execute_result"
    },
    {
     "data": {
      "image/png": "[encoded data removed]",
      "text/plain": [
       "<Figure size 640x480 with 1 Axes>"
      ]
     },
     "metadata": {},
     "output_type": "display_data"
    }
   ],
   "source": [
    "embarked_df.plot.bar(stacked=True)"
   ]
  },
  {
   "cell_type": "markdown",
   "id": "4eee3347",
   "metadata": {
    "papermill": {
     "duration": 0.026999,
     "end_time": "2024-07-30T07:03:12.130637",
     "exception": false,
     "start_time": "2024-07-30T07:03:12.103638",
     "status": "completed"
    },
    "tags": []
   },
   "source": [
    "### 수치로 확인하기"
   ]
  },
  {
   "cell_type": "code",
   "execution_count": 27,
   "id": "bf212d27",
   "metadata": {
    "execution": {
     "iopub.execute_input": "2024-07-30T07:03:12.185758Z",
     "iopub.status.busy": "2024-07-30T07:03:12.185349Z",
     "iopub.status.idle": "2024-07-30T07:03:12.194316Z",
     "shell.execute_reply": "2024-07-30T07:03:12.192916Z"
    },
    "papermill": {
     "duration": 0.039537,
     "end_time": "2024-07-30T07:03:12.196974",
     "exception": false,
     "start_time": "2024-07-30T07:03:12.157437",
     "status": "completed"
    },
    "tags": []
   },
   "outputs": [],
   "source": [
    "embarked_df['survival_rate'] = embarked_df.iloc[:,1] / (embarked_df.iloc[:,0] + embarked_df.iloc[:,1])"
   ]
  },
  {
   "cell_type": "code",
   "execution_count": 28,
   "id": "a31ad280",
   "metadata": {
    "execution": {
     "iopub.execute_input": "2024-07-30T07:03:12.252201Z",
     "iopub.status.busy": "2024-07-30T07:03:12.251798Z",
     "iopub.status.idle": "2024-07-30T07:03:12.264178Z",
     "shell.execute_reply": "2024-07-30T07:03:12.263092Z"
    },
    "papermill": {
     "duration": 0.042078,
     "end_time": "2024-07-30T07:03:12.266499",
     "exception": false,
     "start_time": "2024-07-30T07:03:12.224421",
     "status": "completed"
    },
    "tags": []
   },
   "outputs": [
    {
     "data": {
      "text/html": [
       "<div>\n",
       "<style scoped>\n",
       "    .dataframe tbody tr th:only-of-type {\n",
       "        vertical-align: middle;\n",
       "    }\n",
       "\n",
       "    .dataframe tbody tr th {\n",
       "        vertical-align: top;\n",
       "    }\n",
       "\n",
       "    .dataframe thead tr th {\n",
       "        text-align: left;\n",
       "    }\n",
       "\n",
       "    .dataframe thead tr:last-of-type th {\n",
       "        text-align: right;\n",
       "    }\n",
       "</style>\n",
       "<table border=\"1\" class=\"dataframe\">\n",
       "  <thead>\n",
       "    <tr>\n",
       "      <th></th>\n",
       "      <th colspan=\"2\" halign=\"left\">PassengerId</th>\n",
       "      <th>survival_rate</th>\n",
       "    </tr>\n",
       "    <tr>\n",
       "      <th>Survived</th>\n",
       "      <th>0</th>\n",
       "      <th>1</th>\n",
       "      <th></th>\n",
       "    </tr>\n",
       "    <tr>\n",
       "      <th>Embarked</th>\n",
       "      <th></th>\n",
       "      <th></th>\n",
       "      <th></th>\n",
       "    </tr>\n",
       "  </thead>\n",
       "  <tbody>\n",
       "    <tr>\n",
       "      <th>C</th>\n",
       "      <td>75</td>\n",
       "      <td>93</td>\n",
       "      <td>0.553571</td>\n",
       "    </tr>\n",
       "    <tr>\n",
       "      <th>Q</th>\n",
       "      <td>47</td>\n",
       "      <td>30</td>\n",
       "      <td>0.389610</td>\n",
       "    </tr>\n",
       "    <tr>\n",
       "      <th>S</th>\n",
       "      <td>427</td>\n",
       "      <td>217</td>\n",
       "      <td>0.336957</td>\n",
       "    </tr>\n",
       "  </tbody>\n",
       "</table>\n",
       "</div>"
      ],
      "text/plain": [
       "         PassengerId      survival_rate\n",
       "Survived           0    1              \n",
       "Embarked                               \n",
       "C                 75   93      0.553571\n",
       "Q                 47   30      0.389610\n",
       "S                427  217      0.336957"
      ]
     },
     "execution_count": 28,
     "metadata": {},
     "output_type": "execute_result"
    }
   ],
   "source": [
    "embarked_df"
   ]
  },
  {
   "cell_type": "markdown",
   "id": "0ab80d33",
   "metadata": {
    "papermill": {
     "duration": 0.026318,
     "end_time": "2024-07-30T07:03:12.319810",
     "exception": false,
     "start_time": "2024-07-30T07:03:12.293492",
     "status": "completed"
    },
    "tags": []
   },
   "source": [
    "### 성별과 티켓등급 시각화하기"
   ]
  },
  {
   "cell_type": "code",
   "execution_count": 29,
   "id": "c4265e36",
   "metadata": {
    "execution": {
     "iopub.execute_input": "2024-07-30T07:03:12.374119Z",
     "iopub.status.busy": "2024-07-30T07:03:12.373700Z",
     "iopub.status.idle": "2024-07-30T07:03:12.605935Z",
     "shell.execute_reply": "2024-07-30T07:03:12.604423Z"
    },
    "papermill": {
     "duration": 0.262551,
     "end_time": "2024-07-30T07:03:12.608741",
     "exception": false,
     "start_time": "2024-07-30T07:03:12.346190",
     "status": "completed"
    },
    "tags": []
   },
   "outputs": [
    {
     "data": {
      "text/plain": [
       "<Axes: xlabel='Sex'>"
      ]
     },
     "execution_count": 29,
     "metadata": {},
     "output_type": "execute_result"
    },
    {
     "data": {
      "image/png": "[encoded data removed]",
      "text/plain": [
       "<Figure size 640x480 with 1 Axes>"
      ]
     },
     "metadata": {},
     "output_type": "display_data"
    }
   ],
   "source": [
    "sex_df = train_df[['Sex', 'Survived', 'PassengerId']].dropna().groupby(['Sex','Survived']).count().unstack()\n",
    "sex_df.plot.bar(stacked=True)"
   ]
  },
  {
   "cell_type": "code",
   "execution_count": 30,
   "id": "39d678ae",
   "metadata": {
    "execution": {
     "iopub.execute_input": "2024-07-30T07:03:12.665424Z",
     "iopub.status.busy": "2024-07-30T07:03:12.665038Z",
     "iopub.status.idle": "2024-07-30T07:03:12.676600Z",
     "shell.execute_reply": "2024-07-30T07:03:12.675530Z"
    },
    "papermill": {
     "duration": 0.042277,
     "end_time": "2024-07-30T07:03:12.679073",
     "exception": false,
     "start_time": "2024-07-30T07:03:12.636796",
     "status": "completed"
    },
    "tags": []
   },
   "outputs": [
    {
     "data": {
      "text/html": [
       "<div>\n",
       "<style scoped>\n",
       "    .dataframe tbody tr th:only-of-type {\n",
       "        vertical-align: middle;\n",
       "    }\n",
       "\n",
       "    .dataframe tbody tr th {\n",
       "        vertical-align: top;\n",
       "    }\n",
       "\n",
       "    .dataframe thead tr th {\n",
       "        text-align: left;\n",
       "    }\n",
       "\n",
       "    .dataframe thead tr:last-of-type th {\n",
       "        text-align: right;\n",
       "    }\n",
       "</style>\n",
       "<table border=\"1\" class=\"dataframe\">\n",
       "  <thead>\n",
       "    <tr>\n",
       "      <th></th>\n",
       "      <th colspan=\"2\" halign=\"left\">PassengerId</th>\n",
       "    </tr>\n",
       "    <tr>\n",
       "      <th>Survived</th>\n",
       "      <th>0</th>\n",
       "      <th>1</th>\n",
       "    </tr>\n",
       "    <tr>\n",
       "      <th>Sex</th>\n",
       "      <th></th>\n",
       "      <th></th>\n",
       "    </tr>\n",
       "  </thead>\n",
       "  <tbody>\n",
       "    <tr>\n",
       "      <th>female</th>\n",
       "      <td>81</td>\n",
       "      <td>233</td>\n",
       "    </tr>\n",
       "    <tr>\n",
       "      <th>male</th>\n",
       "      <td>468</td>\n",
       "      <td>109</td>\n",
       "    </tr>\n",
       "  </tbody>\n",
       "</table>\n",
       "</div>"
      ],
      "text/plain": [
       "         PassengerId     \n",
       "Survived           0    1\n",
       "Sex                      \n",
       "female            81  233\n",
       "male             468  109"
      ]
     },
     "execution_count": 30,
     "metadata": {},
     "output_type": "execute_result"
    }
   ],
   "source": [
    "sex_df"
   ]
  },
  {
   "cell_type": "code",
   "execution_count": 31,
   "id": "4748e0e3",
   "metadata": {
    "execution": {
     "iopub.execute_input": "2024-07-30T07:03:12.736023Z",
     "iopub.status.busy": "2024-07-30T07:03:12.735633Z",
     "iopub.status.idle": "2024-07-30T07:03:12.961756Z",
     "shell.execute_reply": "2024-07-30T07:03:12.960625Z"
    },
    "papermill": {
     "duration": 0.257528,
     "end_time": "2024-07-30T07:03:12.964473",
     "exception": false,
     "start_time": "2024-07-30T07:03:12.706945",
     "status": "completed"
    },
    "tags": []
   },
   "outputs": [
    {
     "data": {
      "text/plain": [
       "<Axes: xlabel='Pclass'>"
      ]
     },
     "execution_count": 31,
     "metadata": {},
     "output_type": "execute_result"
    },
    {
     "data": {
      "image/png": "[encoded data removed]",
      "text/plain": [
       "<Figure size 640x480 with 1 Axes>"
      ]
     },
     "metadata": {},
     "output_type": "display_data"
    }
   ],
   "source": [
    "ticket_df = train_df[['Pclass', 'Survived', 'PassengerId']].dropna().groupby(['Pclass','Survived']).count().unstack()\n",
    "ticket_df.plot.bar(stacked=True)"
   ]
  },
  {
   "cell_type": "markdown",
   "id": "6b4aea3a",
   "metadata": {
    "papermill": {
     "duration": 0.028971,
     "end_time": "2024-07-30T07:03:13.021027",
     "exception": false,
     "start_time": "2024-07-30T07:03:12.992056",
     "status": "completed"
    },
    "tags": []
   },
   "source": [
    "### 연령별 생존율을 히스토그램으로 시각화하기\n",
    "연령은 연속형 값이므로 히스토그램으로 확인"
   ]
  },
  {
   "cell_type": "code",
   "execution_count": 32,
   "id": "9edeb2c6",
   "metadata": {
    "execution": {
     "iopub.execute_input": "2024-07-30T07:03:13.077762Z",
     "iopub.status.busy": "2024-07-30T07:03:13.077358Z",
     "iopub.status.idle": "2024-07-30T07:03:13.387978Z",
     "shell.execute_reply": "2024-07-30T07:03:13.386886Z"
    },
    "papermill": {
     "duration": 0.342187,
     "end_time": "2024-07-30T07:03:13.390550",
     "exception": false,
     "start_time": "2024-07-30T07:03:13.048363",
     "status": "completed"
    },
    "tags": []
   },
   "outputs": [
    {
     "data": {
      "text/plain": [
       "<matplotlib.legend.Legend at 0x7b7fc38ed060>"
      ]
     },
     "execution_count": 32,
     "metadata": {},
     "output_type": "execute_result"
    },
    {
     "data": {
      "image/png": "[encoded data removed]",
      "text/plain": [
       "<Figure size 640x480 with 1 Axes>"
      ]
     },
     "metadata": {},
     "output_type": "display_data"
    }
   ],
   "source": [
    "plt.hist(x = [train_df.Age[train_df.Survived==0], train_df.Age[train_df.Survived==1]], \n",
    "        bins = 8, histtype = 'barstacked', label = ['Death', 'Survived'])\n",
    "plt.legend()"
   ]
  },
  {
   "cell_type": "markdown",
   "id": "eb484388",
   "metadata": {
    "papermill": {
     "duration": 0.027765,
     "end_time": "2024-07-30T07:03:13.446566",
     "exception": false,
     "start_time": "2024-07-30T07:03:13.418801",
     "status": "completed"
    },
    "tags": []
   },
   "source": [
    "### 카테고리 변수를 더미 변수화하기\n",
    "원-핫 인코딩: 카테고리 변수에 대하여 그 값을 0과 1로 나타내는 방법(더미 변수화)"
   ]
  },
  {
   "cell_type": "code",
   "execution_count": 33,
   "id": "4a961988",
   "metadata": {
    "execution": {
     "iopub.execute_input": "2024-07-30T07:03:13.506089Z",
     "iopub.status.busy": "2024-07-30T07:03:13.505680Z",
     "iopub.status.idle": "2024-07-30T07:03:13.528939Z",
     "shell.execute_reply": "2024-07-30T07:03:13.527957Z"
    },
    "papermill": {
     "duration": 0.054914,
     "end_time": "2024-07-30T07:03:13.531315",
     "exception": false,
     "start_time": "2024-07-30T07:03:13.476401",
     "status": "completed"
    },
    "tags": []
   },
   "outputs": [
    {
     "data": {
      "text/html": [
       "<div>\n",
       "<style scoped>\n",
       "    .dataframe tbody tr th:only-of-type {\n",
       "        vertical-align: middle;\n",
       "    }\n",
       "\n",
       "    .dataframe tbody tr th {\n",
       "        vertical-align: top;\n",
       "    }\n",
       "\n",
       "    .dataframe thead th {\n",
       "        text-align: right;\n",
       "    }\n",
       "</style>\n",
       "<table border=\"1\" class=\"dataframe\">\n",
       "  <thead>\n",
       "    <tr style=\"text-align: right;\">\n",
       "      <th></th>\n",
       "      <th>PassengerId</th>\n",
       "      <th>Survived</th>\n",
       "      <th>Pclass</th>\n",
       "      <th>Name</th>\n",
       "      <th>Age</th>\n",
       "      <th>SibSp</th>\n",
       "      <th>Parch</th>\n",
       "      <th>Ticket</th>\n",
       "      <th>Fare</th>\n",
       "      <th>Cabin</th>\n",
       "      <th>Sex_male</th>\n",
       "      <th>Embarked_C</th>\n",
       "      <th>Embarked_Q</th>\n",
       "      <th>Embarked_S</th>\n",
       "    </tr>\n",
       "  </thead>\n",
       "  <tbody>\n",
       "    <tr>\n",
       "      <th>0</th>\n",
       "      <td>1</td>\n",
       "      <td>0</td>\n",
       "      <td>3</td>\n",
       "      <td>Braund, Mr. Owen Harris</td>\n",
       "      <td>22.0</td>\n",
       "      <td>1</td>\n",
       "      <td>0</td>\n",
       "      <td>A/5 21171</td>\n",
       "      <td>7.2500</td>\n",
       "      <td>NaN</td>\n",
       "      <td>True</td>\n",
       "      <td>False</td>\n",
       "      <td>False</td>\n",
       "      <td>True</td>\n",
       "    </tr>\n",
       "    <tr>\n",
       "      <th>1</th>\n",
       "      <td>2</td>\n",
       "      <td>1</td>\n",
       "      <td>1</td>\n",
       "      <td>Cumings, Mrs. John Bradley (Florence Briggs Th...</td>\n",
       "      <td>38.0</td>\n",
       "      <td>1</td>\n",
       "      <td>0</td>\n",
       "      <td>PC 17599</td>\n",
       "      <td>71.2833</td>\n",
       "      <td>C85</td>\n",
       "      <td>False</td>\n",
       "      <td>True</td>\n",
       "      <td>False</td>\n",
       "      <td>False</td>\n",
       "    </tr>\n",
       "    <tr>\n",
       "      <th>2</th>\n",
       "      <td>3</td>\n",
       "      <td>1</td>\n",
       "      <td>3</td>\n",
       "      <td>Heikkinen, Miss. Laina</td>\n",
       "      <td>26.0</td>\n",
       "      <td>0</td>\n",
       "      <td>0</td>\n",
       "      <td>STON/O2. 3101282</td>\n",
       "      <td>7.9250</td>\n",
       "      <td>NaN</td>\n",
       "      <td>False</td>\n",
       "      <td>False</td>\n",
       "      <td>False</td>\n",
       "      <td>True</td>\n",
       "    </tr>\n",
       "    <tr>\n",
       "      <th>3</th>\n",
       "      <td>4</td>\n",
       "      <td>1</td>\n",
       "      <td>1</td>\n",
       "      <td>Futrelle, Mrs. Jacques Heath (Lily May Peel)</td>\n",
       "      <td>35.0</td>\n",
       "      <td>1</td>\n",
       "      <td>0</td>\n",
       "      <td>113803</td>\n",
       "      <td>53.1000</td>\n",
       "      <td>C123</td>\n",
       "      <td>False</td>\n",
       "      <td>False</td>\n",
       "      <td>False</td>\n",
       "      <td>True</td>\n",
       "    </tr>\n",
       "    <tr>\n",
       "      <th>4</th>\n",
       "      <td>5</td>\n",
       "      <td>0</td>\n",
       "      <td>3</td>\n",
       "      <td>Allen, Mr. William Henry</td>\n",
       "      <td>35.0</td>\n",
       "      <td>0</td>\n",
       "      <td>0</td>\n",
       "      <td>373450</td>\n",
       "      <td>8.0500</td>\n",
       "      <td>NaN</td>\n",
       "      <td>True</td>\n",
       "      <td>False</td>\n",
       "      <td>False</td>\n",
       "      <td>True</td>\n",
       "    </tr>\n",
       "  </tbody>\n",
       "</table>\n",
       "</div>"
      ],
      "text/plain": [
       "   PassengerId  Survived  Pclass  \\\n",
       "0            1         0       3   \n",
       "1            2         1       1   \n",
       "2            3         1       3   \n",
       "3            4         1       1   \n",
       "4            5         0       3   \n",
       "\n",
       "                                                Name   Age  SibSp  Parch  \\\n",
       "0                            Braund, Mr. Owen Harris  22.0      1      0   \n",
       "1  Cumings, Mrs. John Bradley (Florence Briggs Th...  38.0      1      0   \n",
       "2                             Heikkinen, Miss. Laina  26.0      0      0   \n",
       "3       Futrelle, Mrs. Jacques Heath (Lily May Peel)  35.0      1      0   \n",
       "4                           Allen, Mr. William Henry  35.0      0      0   \n",
       "\n",
       "             Ticket     Fare Cabin  Sex_male  Embarked_C  Embarked_Q  \\\n",
       "0         A/5 21171   7.2500   NaN      True       False       False   \n",
       "1          PC 17599  71.2833   C85     False        True       False   \n",
       "2  STON/O2. 3101282   7.9250   NaN     False       False       False   \n",
       "3            113803  53.1000  C123     False       False       False   \n",
       "4            373450   8.0500   NaN      True       False       False   \n",
       "\n",
       "   Embarked_S  \n",
       "0        True  \n",
       "1       False  \n",
       "2        True  \n",
       "3        True  \n",
       "4        True  "
      ]
     },
     "execution_count": 33,
     "metadata": {},
     "output_type": "execute_result"
    }
   ],
   "source": [
    "train_df_corr = pd.get_dummies(train_df, columns=['Sex'], drop_first=True)\n",
    "train_df_corr = pd.get_dummies(train_df_corr, columns=['Embarked'])\n",
    "train_df_corr.head()"
   ]
  },
  {
   "cell_type": "markdown",
   "id": "59d42b67",
   "metadata": {
    "papermill": {
     "duration": 0.027885,
     "end_time": "2024-07-30T07:03:13.587508",
     "exception": false,
     "start_time": "2024-07-30T07:03:13.559623",
     "status": "completed"
    },
    "tags": []
   },
   "source": [
    "### 상관 행렬 작성하기"
   ]
  },
  {
   "cell_type": "code",
   "execution_count": 34,
   "id": "1c804ffe",
   "metadata": {
    "execution": {
     "iopub.execute_input": "2024-07-30T07:03:13.645785Z",
     "iopub.status.busy": "2024-07-30T07:03:13.645377Z",
     "iopub.status.idle": "2024-07-30T07:03:13.652868Z",
     "shell.execute_reply": "2024-07-30T07:03:13.651835Z"
    },
    "papermill": {
     "duration": 0.039447,
     "end_time": "2024-07-30T07:03:13.655287",
     "exception": false,
     "start_time": "2024-07-30T07:03:13.615840",
     "status": "completed"
    },
    "tags": []
   },
   "outputs": [],
   "source": [
    "train_corr = train_df_corr[['PassengerId','Survived','Pclass','Age','SibSp','Parch','Fare','Sex_male','Embarked_C','Embarked_Q','Embarked_S']].corr()"
   ]
  },
  {
   "cell_type": "code",
   "execution_count": 35,
   "id": "00524c07",
   "metadata": {
    "execution": {
     "iopub.execute_input": "2024-07-30T07:03:13.715027Z",
     "iopub.status.busy": "2024-07-30T07:03:13.714594Z",
     "iopub.status.idle": "2024-07-30T07:03:13.733385Z",
     "shell.execute_reply": "2024-07-30T07:03:13.732273Z"
    },
    "papermill": {
     "duration": 0.051586,
     "end_time": "2024-07-30T07:03:13.735837",
     "exception": false,
     "start_time": "2024-07-30T07:03:13.684251",
     "status": "completed"
    },
    "tags": []
   },
   "outputs": [
    {
     "data": {
      "text/html": [
       "<div>\n",
       "<style scoped>\n",
       "    .dataframe tbody tr th:only-of-type {\n",
       "        vertical-align: middle;\n",
       "    }\n",
       "\n",
       "    .dataframe tbody tr th {\n",
       "        vertical-align: top;\n",
       "    }\n",
       "\n",
       "    .dataframe thead th {\n",
       "        text-align: right;\n",
       "    }\n",
       "</style>\n",
       "<table border=\"1\" class=\"dataframe\">\n",
       "  <thead>\n",
       "    <tr style=\"text-align: right;\">\n",
       "      <th></th>\n",
       "      <th>PassengerId</th>\n",
       "      <th>Survived</th>\n",
       "      <th>Pclass</th>\n",
       "      <th>Age</th>\n",
       "      <th>SibSp</th>\n",
       "      <th>Parch</th>\n",
       "      <th>Fare</th>\n",
       "      <th>Sex_male</th>\n",
       "      <th>Embarked_C</th>\n",
       "      <th>Embarked_Q</th>\n",
       "      <th>Embarked_S</th>\n",
       "    </tr>\n",
       "  </thead>\n",
       "  <tbody>\n",
       "    <tr>\n",
       "      <th>PassengerId</th>\n",
       "      <td>1.000000</td>\n",
       "      <td>-0.005007</td>\n",
       "      <td>-0.035144</td>\n",
       "      <td>0.036847</td>\n",
       "      <td>-0.057527</td>\n",
       "      <td>-0.001652</td>\n",
       "      <td>0.012658</td>\n",
       "      <td>0.042939</td>\n",
       "      <td>-0.001205</td>\n",
       "      <td>-0.033606</td>\n",
       "      <td>0.022148</td>\n",
       "    </tr>\n",
       "    <tr>\n",
       "      <th>Survived</th>\n",
       "      <td>-0.005007</td>\n",
       "      <td>1.000000</td>\n",
       "      <td>-0.338481</td>\n",
       "      <td>-0.077221</td>\n",
       "      <td>-0.035322</td>\n",
       "      <td>0.081629</td>\n",
       "      <td>0.257307</td>\n",
       "      <td>-0.543351</td>\n",
       "      <td>0.168240</td>\n",
       "      <td>0.003650</td>\n",
       "      <td>-0.155660</td>\n",
       "    </tr>\n",
       "    <tr>\n",
       "      <th>Pclass</th>\n",
       "      <td>-0.035144</td>\n",
       "      <td>-0.338481</td>\n",
       "      <td>1.000000</td>\n",
       "      <td>-0.369226</td>\n",
       "      <td>0.083081</td>\n",
       "      <td>0.018443</td>\n",
       "      <td>-0.549500</td>\n",
       "      <td>0.131900</td>\n",
       "      <td>-0.243292</td>\n",
       "      <td>0.221009</td>\n",
       "      <td>0.081720</td>\n",
       "    </tr>\n",
       "    <tr>\n",
       "      <th>Age</th>\n",
       "      <td>0.036847</td>\n",
       "      <td>-0.077221</td>\n",
       "      <td>-0.369226</td>\n",
       "      <td>1.000000</td>\n",
       "      <td>-0.308247</td>\n",
       "      <td>-0.189119</td>\n",
       "      <td>0.096067</td>\n",
       "      <td>0.093254</td>\n",
       "      <td>0.036261</td>\n",
       "      <td>-0.022405</td>\n",
       "      <td>-0.032523</td>\n",
       "    </tr>\n",
       "    <tr>\n",
       "      <th>SibSp</th>\n",
       "      <td>-0.057527</td>\n",
       "      <td>-0.035322</td>\n",
       "      <td>0.083081</td>\n",
       "      <td>-0.308247</td>\n",
       "      <td>1.000000</td>\n",
       "      <td>0.414838</td>\n",
       "      <td>0.159651</td>\n",
       "      <td>-0.114631</td>\n",
       "      <td>-0.059528</td>\n",
       "      <td>-0.026354</td>\n",
       "      <td>0.070941</td>\n",
       "    </tr>\n",
       "    <tr>\n",
       "      <th>Parch</th>\n",
       "      <td>-0.001652</td>\n",
       "      <td>0.081629</td>\n",
       "      <td>0.018443</td>\n",
       "      <td>-0.189119</td>\n",
       "      <td>0.414838</td>\n",
       "      <td>1.000000</td>\n",
       "      <td>0.216225</td>\n",
       "      <td>-0.245489</td>\n",
       "      <td>-0.011069</td>\n",
       "      <td>-0.081228</td>\n",
       "      <td>0.063036</td>\n",
       "    </tr>\n",
       "    <tr>\n",
       "      <th>Fare</th>\n",
       "      <td>0.012658</td>\n",
       "      <td>0.257307</td>\n",
       "      <td>-0.549500</td>\n",
       "      <td>0.096067</td>\n",
       "      <td>0.159651</td>\n",
       "      <td>0.216225</td>\n",
       "      <td>1.000000</td>\n",
       "      <td>-0.182333</td>\n",
       "      <td>0.269335</td>\n",
       "      <td>-0.117216</td>\n",
       "      <td>-0.166603</td>\n",
       "    </tr>\n",
       "    <tr>\n",
       "      <th>Sex_male</th>\n",
       "      <td>0.042939</td>\n",
       "      <td>-0.543351</td>\n",
       "      <td>0.131900</td>\n",
       "      <td>0.093254</td>\n",
       "      <td>-0.114631</td>\n",
       "      <td>-0.245489</td>\n",
       "      <td>-0.182333</td>\n",
       "      <td>1.000000</td>\n",
       "      <td>-0.082853</td>\n",
       "      <td>-0.074115</td>\n",
       "      <td>0.125722</td>\n",
       "    </tr>\n",
       "    <tr>\n",
       "      <th>Embarked_C</th>\n",
       "      <td>-0.001205</td>\n",
       "      <td>0.168240</td>\n",
       "      <td>-0.243292</td>\n",
       "      <td>0.036261</td>\n",
       "      <td>-0.059528</td>\n",
       "      <td>-0.011069</td>\n",
       "      <td>0.269335</td>\n",
       "      <td>-0.082853</td>\n",
       "      <td>1.000000</td>\n",
       "      <td>-0.148258</td>\n",
       "      <td>-0.778359</td>\n",
       "    </tr>\n",
       "    <tr>\n",
       "      <th>Embarked_Q</th>\n",
       "      <td>-0.033606</td>\n",
       "      <td>0.003650</td>\n",
       "      <td>0.221009</td>\n",
       "      <td>-0.022405</td>\n",
       "      <td>-0.026354</td>\n",
       "      <td>-0.081228</td>\n",
       "      <td>-0.117216</td>\n",
       "      <td>-0.074115</td>\n",
       "      <td>-0.148258</td>\n",
       "      <td>1.000000</td>\n",
       "      <td>-0.496624</td>\n",
       "    </tr>\n",
       "    <tr>\n",
       "      <th>Embarked_S</th>\n",
       "      <td>0.022148</td>\n",
       "      <td>-0.155660</td>\n",
       "      <td>0.081720</td>\n",
       "      <td>-0.032523</td>\n",
       "      <td>0.070941</td>\n",
       "      <td>0.063036</td>\n",
       "      <td>-0.166603</td>\n",
       "      <td>0.125722</td>\n",
       "      <td>-0.778359</td>\n",
       "      <td>-0.496624</td>\n",
       "      <td>1.000000</td>\n",
       "    </tr>\n",
       "  </tbody>\n",
       "</table>\n",
       "</div>"
      ],
      "text/plain": [
       "             PassengerId  Survived    Pclass       Age     SibSp     Parch  \\\n",
       "PassengerId     1.000000 -0.005007 -0.035144  0.036847 -0.057527 -0.001652   \n",
       "Survived       -0.005007  1.000000 -0.338481 -0.077221 -0.035322  0.081629   \n",
       "Pclass         -0.035144 -0.338481  1.000000 -0.369226  0.083081  0.018443   \n",
       "Age             0.036847 -0.077221 -0.369226  1.000000 -0.308247 -0.189119   \n",
       "SibSp          -0.057527 -0.035322  0.083081 -0.308247  1.000000  0.414838   \n",
       "Parch          -0.001652  0.081629  0.018443 -0.189119  0.414838  1.000000   \n",
       "Fare            0.012658  0.257307 -0.549500  0.096067  0.159651  0.216225   \n",
       "Sex_male        0.042939 -0.543351  0.131900  0.093254 -0.114631 -0.245489   \n",
       "Embarked_C     -0.001205  0.168240 -0.243292  0.036261 -0.059528 -0.011069   \n",
       "Embarked_Q     -0.033606  0.003650  0.221009 -0.022405 -0.026354 -0.081228   \n",
       "Embarked_S      0.022148 -0.155660  0.081720 -0.032523  0.070941  0.063036   \n",
       "\n",
       "                 Fare  Sex_male  Embarked_C  Embarked_Q  Embarked_S  \n",
       "PassengerId  0.012658  0.042939   -0.001205   -0.033606    0.022148  \n",
       "Survived     0.257307 -0.543351    0.168240    0.003650   -0.155660  \n",
       "Pclass      -0.549500  0.131900   -0.243292    0.221009    0.081720  \n",
       "Age          0.096067  0.093254    0.036261   -0.022405   -0.032523  \n",
       "SibSp        0.159651 -0.114631   -0.059528   -0.026354    0.070941  \n",
       "Parch        0.216225 -0.245489   -0.011069   -0.081228    0.063036  \n",
       "Fare         1.000000 -0.182333    0.269335   -0.117216   -0.166603  \n",
       "Sex_male    -0.182333  1.000000   -0.082853   -0.074115    0.125722  \n",
       "Embarked_C   0.269335 -0.082853    1.000000   -0.148258   -0.778359  \n",
       "Embarked_Q  -0.117216 -0.074115   -0.148258    1.000000   -0.496624  \n",
       "Embarked_S  -0.166603  0.125722   -0.778359   -0.496624    1.000000  "
      ]
     },
     "execution_count": 35,
     "metadata": {},
     "output_type": "execute_result"
    }
   ],
   "source": [
    "train_corr"
   ]
  },
  {
   "cell_type": "markdown",
   "id": "b001824b",
   "metadata": {
    "papermill": {
     "duration": 0.028612,
     "end_time": "2024-07-30T07:03:13.794040",
     "exception": false,
     "start_time": "2024-07-30T07:03:13.765428",
     "status": "completed"
    },
    "tags": []
   },
   "source": [
    "### 히트맵으로 상관행렬 시각화하기"
   ]
  },
  {
   "cell_type": "code",
   "execution_count": 36,
   "id": "b6899d4d",
   "metadata": {
    "execution": {
     "iopub.execute_input": "2024-07-30T07:03:13.853448Z",
     "iopub.status.busy": "2024-07-30T07:03:13.852360Z",
     "iopub.status.idle": "2024-07-30T07:03:14.678740Z",
     "shell.execute_reply": "2024-07-30T07:03:14.677672Z"
    },
    "papermill": {
     "duration": 0.859065,
     "end_time": "2024-07-30T07:03:14.681572",
     "exception": false,
     "start_time": "2024-07-30T07:03:13.822507",
     "status": "completed"
    },
    "tags": []
   },
   "outputs": [
    {
     "data": {
      "text/plain": [
       "<Axes: >"
      ]
     },
     "execution_count": 36,
     "metadata": {},
     "output_type": "execute_result"
    },
    {
     "data": {
      "image/png": "[encoded data removed]",
      "text/plain": [
       "<Figure size 900x900 with 2 Axes>"
      ]
     },
     "metadata": {},
     "output_type": "display_data"
    }
   ],
   "source": [
    "plt.figure(figsize=(9,9))\n",
    "sns.heatmap(train_corr, vmax=1, vmin=-1, center=0, annot=True)"
   ]
  },
  {
   "cell_type": "markdown",
   "id": "9908ed7d",
   "metadata": {
    "papermill": {
     "duration": 0.030375,
     "end_time": "2024-07-30T07:03:14.742602",
     "exception": false,
     "start_time": "2024-07-30T07:03:14.712227",
     "status": "completed"
    },
    "tags": []
   },
   "source": [
    "Age의 경우 상관계수가 낮아 보이지만 10세 이하 연령대의 생존율 경향성과 다른 연령대의 경향성이 반대라면 상관계수가 낮게 나올 수 있음. 즉 상관계수는 참고만 하는 것이 좋음."
   ]
  },
  {
   "cell_type": "markdown",
   "id": "efc64fae",
   "metadata": {
    "papermill": {
     "duration": 0.030404,
     "end_time": "2024-07-30T07:03:14.803502",
     "exception": false,
     "start_time": "2024-07-30T07:03:14.773098",
     "status": "completed"
    },
    "tags": []
   },
   "source": [
    "### 전처리할 데이터\n",
    "- Fare\n",
    "- Name\n",
    "- Parch, SibSp"
   ]
  },
  {
   "cell_type": "markdown",
   "id": "8a22dd8f",
   "metadata": {
    "papermill": {
     "duration": 0.036362,
     "end_time": "2024-07-30T07:03:14.870568",
     "exception": false,
     "start_time": "2024-07-30T07:03:14.834206",
     "status": "completed"
    },
    "tags": []
   },
   "source": [
    "### 학습 데이터와 테스트 데이터의 통합"
   ]
  },
  {
   "cell_type": "code",
   "execution_count": 37,
   "id": "22ffc1ed",
   "metadata": {
    "execution": {
     "iopub.execute_input": "2024-07-30T07:03:14.939677Z",
     "iopub.status.busy": "2024-07-30T07:03:14.939286Z",
     "iopub.status.idle": "2024-07-30T07:03:14.948358Z",
     "shell.execute_reply": "2024-07-30T07:03:14.947283Z"
    },
    "papermill": {
     "duration": 0.046528,
     "end_time": "2024-07-30T07:03:14.950932",
     "exception": false,
     "start_time": "2024-07-30T07:03:14.904404",
     "status": "completed"
    },
    "tags": []
   },
   "outputs": [],
   "source": [
    "all_df = pd.concat([train_df, test_df], sort=False).reset_index(drop=True) # 합친 후 행 번호 다시 매기고 원래 행 번호 삭제"
   ]
  },
  {
   "cell_type": "code",
   "execution_count": 38,
   "id": "dc30bb5b",
   "metadata": {
    "execution": {
     "iopub.execute_input": "2024-07-30T07:03:15.017423Z",
     "iopub.status.busy": "2024-07-30T07:03:15.017044Z",
     "iopub.status.idle": "2024-07-30T07:03:15.037435Z",
     "shell.execute_reply": "2024-07-30T07:03:15.036182Z"
    },
    "papermill": {
     "duration": 0.056791,
     "end_time": "2024-07-30T07:03:15.039811",
     "exception": false,
     "start_time": "2024-07-30T07:03:14.983020",
     "status": "completed"
    },
    "tags": []
   },
   "outputs": [
    {
     "data": {
      "text/html": [
       "<div>\n",
       "<style scoped>\n",
       "    .dataframe tbody tr th:only-of-type {\n",
       "        vertical-align: middle;\n",
       "    }\n",
       "\n",
       "    .dataframe tbody tr th {\n",
       "        vertical-align: top;\n",
       "    }\n",
       "\n",
       "    .dataframe thead th {\n",
       "        text-align: right;\n",
       "    }\n",
       "</style>\n",
       "<table border=\"1\" class=\"dataframe\">\n",
       "  <thead>\n",
       "    <tr style=\"text-align: right;\">\n",
       "      <th></th>\n",
       "      <th>PassengerId</th>\n",
       "      <th>Survived</th>\n",
       "      <th>Pclass</th>\n",
       "      <th>Name</th>\n",
       "      <th>Sex</th>\n",
       "      <th>Age</th>\n",
       "      <th>SibSp</th>\n",
       "      <th>Parch</th>\n",
       "      <th>Ticket</th>\n",
       "      <th>Fare</th>\n",
       "      <th>Cabin</th>\n",
       "      <th>Embarked</th>\n",
       "    </tr>\n",
       "  </thead>\n",
       "  <tbody>\n",
       "    <tr>\n",
       "      <th>0</th>\n",
       "      <td>1</td>\n",
       "      <td>0.0</td>\n",
       "      <td>3</td>\n",
       "      <td>Braund, Mr. Owen Harris</td>\n",
       "      <td>male</td>\n",
       "      <td>22.0</td>\n",
       "      <td>1</td>\n",
       "      <td>0</td>\n",
       "      <td>A/5 21171</td>\n",
       "      <td>7.2500</td>\n",
       "      <td>NaN</td>\n",
       "      <td>S</td>\n",
       "    </tr>\n",
       "    <tr>\n",
       "      <th>1</th>\n",
       "      <td>2</td>\n",
       "      <td>1.0</td>\n",
       "      <td>1</td>\n",
       "      <td>Cumings, Mrs. John Bradley (Florence Briggs Th...</td>\n",
       "      <td>female</td>\n",
       "      <td>38.0</td>\n",
       "      <td>1</td>\n",
       "      <td>0</td>\n",
       "      <td>PC 17599</td>\n",
       "      <td>71.2833</td>\n",
       "      <td>C85</td>\n",
       "      <td>C</td>\n",
       "    </tr>\n",
       "    <tr>\n",
       "      <th>2</th>\n",
       "      <td>3</td>\n",
       "      <td>1.0</td>\n",
       "      <td>3</td>\n",
       "      <td>Heikkinen, Miss. Laina</td>\n",
       "      <td>female</td>\n",
       "      <td>26.0</td>\n",
       "      <td>0</td>\n",
       "      <td>0</td>\n",
       "      <td>STON/O2. 3101282</td>\n",
       "      <td>7.9250</td>\n",
       "      <td>NaN</td>\n",
       "      <td>S</td>\n",
       "    </tr>\n",
       "    <tr>\n",
       "      <th>3</th>\n",
       "      <td>4</td>\n",
       "      <td>1.0</td>\n",
       "      <td>1</td>\n",
       "      <td>Futrelle, Mrs. Jacques Heath (Lily May Peel)</td>\n",
       "      <td>female</td>\n",
       "      <td>35.0</td>\n",
       "      <td>1</td>\n",
       "      <td>0</td>\n",
       "      <td>113803</td>\n",
       "      <td>53.1000</td>\n",
       "      <td>C123</td>\n",
       "      <td>S</td>\n",
       "    </tr>\n",
       "    <tr>\n",
       "      <th>4</th>\n",
       "      <td>5</td>\n",
       "      <td>0.0</td>\n",
       "      <td>3</td>\n",
       "      <td>Allen, Mr. William Henry</td>\n",
       "      <td>male</td>\n",
       "      <td>35.0</td>\n",
       "      <td>0</td>\n",
       "      <td>0</td>\n",
       "      <td>373450</td>\n",
       "      <td>8.0500</td>\n",
       "      <td>NaN</td>\n",
       "      <td>S</td>\n",
       "    </tr>\n",
       "    <tr>\n",
       "      <th>...</th>\n",
       "      <td>...</td>\n",
       "      <td>...</td>\n",
       "      <td>...</td>\n",
       "      <td>...</td>\n",
       "      <td>...</td>\n",
       "      <td>...</td>\n",
       "      <td>...</td>\n",
       "      <td>...</td>\n",
       "      <td>...</td>\n",
       "      <td>...</td>\n",
       "      <td>...</td>\n",
       "      <td>...</td>\n",
       "    </tr>\n",
       "    <tr>\n",
       "      <th>1304</th>\n",
       "      <td>1305</td>\n",
       "      <td>NaN</td>\n",
       "      <td>3</td>\n",
       "      <td>Spector, Mr. Woolf</td>\n",
       "      <td>male</td>\n",
       "      <td>NaN</td>\n",
       "      <td>0</td>\n",
       "      <td>0</td>\n",
       "      <td>A.5. 3236</td>\n",
       "      <td>8.0500</td>\n",
       "      <td>NaN</td>\n",
       "      <td>S</td>\n",
       "    </tr>\n",
       "    <tr>\n",
       "      <th>1305</th>\n",
       "      <td>1306</td>\n",
       "      <td>NaN</td>\n",
       "      <td>1</td>\n",
       "      <td>Oliva y Ocana, Dona. Fermina</td>\n",
       "      <td>female</td>\n",
       "      <td>39.0</td>\n",
       "      <td>0</td>\n",
       "      <td>0</td>\n",
       "      <td>PC 17758</td>\n",
       "      <td>108.9000</td>\n",
       "      <td>C105</td>\n",
       "      <td>C</td>\n",
       "    </tr>\n",
       "    <tr>\n",
       "      <th>1306</th>\n",
       "      <td>1307</td>\n",
       "      <td>NaN</td>\n",
       "      <td>3</td>\n",
       "      <td>Saether, Mr. Simon Sivertsen</td>\n",
       "      <td>male</td>\n",
       "      <td>38.5</td>\n",
       "      <td>0</td>\n",
       "      <td>0</td>\n",
       "      <td>SOTON/O.Q. 3101262</td>\n",
       "      <td>7.2500</td>\n",
       "      <td>NaN</td>\n",
       "      <td>S</td>\n",
       "    </tr>\n",
       "    <tr>\n",
       "      <th>1307</th>\n",
       "      <td>1308</td>\n",
       "      <td>NaN</td>\n",
       "      <td>3</td>\n",
       "      <td>Ware, Mr. Frederick</td>\n",
       "      <td>male</td>\n",
       "      <td>NaN</td>\n",
       "      <td>0</td>\n",
       "      <td>0</td>\n",
       "      <td>359309</td>\n",
       "      <td>8.0500</td>\n",
       "      <td>NaN</td>\n",
       "      <td>S</td>\n",
       "    </tr>\n",
       "    <tr>\n",
       "      <th>1308</th>\n",
       "      <td>1309</td>\n",
       "      <td>NaN</td>\n",
       "      <td>3</td>\n",
       "      <td>Peter, Master. Michael J</td>\n",
       "      <td>male</td>\n",
       "      <td>NaN</td>\n",
       "      <td>1</td>\n",
       "      <td>1</td>\n",
       "      <td>2668</td>\n",
       "      <td>22.3583</td>\n",
       "      <td>NaN</td>\n",
       "      <td>C</td>\n",
       "    </tr>\n",
       "  </tbody>\n",
       "</table>\n",
       "<p>1309 rows × 12 columns</p>\n",
       "</div>"
      ],
      "text/plain": [
       "      PassengerId  Survived  Pclass  \\\n",
       "0               1       0.0       3   \n",
       "1               2       1.0       1   \n",
       "2               3       1.0       3   \n",
       "3               4       1.0       1   \n",
       "4               5       0.0       3   \n",
       "...           ...       ...     ...   \n",
       "1304         1305       NaN       3   \n",
       "1305         1306       NaN       1   \n",
       "1306         1307       NaN       3   \n",
       "1307         1308       NaN       3   \n",
       "1308         1309       NaN       3   \n",
       "\n",
       "                                                   Name     Sex   Age  SibSp  \\\n",
       "0                               Braund, Mr. Owen Harris    male  22.0      1   \n",
       "1     Cumings, Mrs. John Bradley (Florence Briggs Th...  female  38.0      1   \n",
       "2                                Heikkinen, Miss. Laina  female  26.0      0   \n",
       "3          Futrelle, Mrs. Jacques Heath (Lily May Peel)  female  35.0      1   \n",
       "4                              Allen, Mr. William Henry    male  35.0      0   \n",
       "...                                                 ...     ...   ...    ...   \n",
       "1304                                 Spector, Mr. Woolf    male   NaN      0   \n",
       "1305                       Oliva y Ocana, Dona. Fermina  female  39.0      0   \n",
       "1306                       Saether, Mr. Simon Sivertsen    male  38.5      0   \n",
       "1307                                Ware, Mr. Frederick    male   NaN      0   \n",
       "1308                           Peter, Master. Michael J    male   NaN      1   \n",
       "\n",
       "      Parch              Ticket      Fare Cabin Embarked  \n",
       "0         0           A/5 21171    7.2500   NaN        S  \n",
       "1         0            PC 17599   71.2833   C85        C  \n",
       "2         0    STON/O2. 3101282    7.9250   NaN        S  \n",
       "3         0              113803   53.1000  C123        S  \n",
       "4         0              373450    8.0500   NaN        S  \n",
       "...     ...                 ...       ...   ...      ...  \n",
       "1304      0           A.5. 3236    8.0500   NaN        S  \n",
       "1305      0            PC 17758  108.9000  C105        C  \n",
       "1306      0  SOTON/O.Q. 3101262    7.2500   NaN        S  \n",
       "1307      0              359309    8.0500   NaN        S  \n",
       "1308      1                2668   22.3583   NaN        C  \n",
       "\n",
       "[1309 rows x 12 columns]"
      ]
     },
     "execution_count": 38,
     "metadata": {},
     "output_type": "execute_result"
    }
   ],
   "source": [
    "all_df"
   ]
  },
  {
   "cell_type": "markdown",
   "id": "57611621",
   "metadata": {
    "papermill": {
     "duration": 0.03092,
     "end_time": "2024-07-30T07:03:15.102123",
     "exception": false,
     "start_time": "2024-07-30T07:03:15.071203",
     "status": "completed"
    },
    "tags": []
   },
   "source": [
    "### 전체 데이터로 결측치 수 확인하기"
   ]
  },
  {
   "cell_type": "code",
   "execution_count": 39,
   "id": "4ebcccb4",
   "metadata": {
    "execution": {
     "iopub.execute_input": "2024-07-30T07:03:15.167176Z",
     "iopub.status.busy": "2024-07-30T07:03:15.166782Z",
     "iopub.status.idle": "2024-07-30T07:03:15.175717Z",
     "shell.execute_reply": "2024-07-30T07:03:15.174599Z"
    },
    "papermill": {
     "duration": 0.044256,
     "end_time": "2024-07-30T07:03:15.178110",
     "exception": false,
     "start_time": "2024-07-30T07:03:15.133854",
     "status": "completed"
    },
    "tags": []
   },
   "outputs": [
    {
     "data": {
      "text/plain": [
       "PassengerId       0\n",
       "Survived        418\n",
       "Pclass            0\n",
       "Name              0\n",
       "Sex               0\n",
       "Age             263\n",
       "SibSp             0\n",
       "Parch             0\n",
       "Ticket            0\n",
       "Fare              1\n",
       "Cabin          1014\n",
       "Embarked          2\n",
       "dtype: int64"
      ]
     },
     "execution_count": 39,
     "metadata": {},
     "output_type": "execute_result"
    }
   ],
   "source": [
    "all_df.isnull().sum()"
   ]
  },
  {
   "cell_type": "markdown",
   "id": "30d5ba7b",
   "metadata": {
    "papermill": {
     "duration": 0.030767,
     "end_time": "2024-07-30T07:03:15.240094",
     "exception": false,
     "start_time": "2024-07-30T07:03:15.209327",
     "status": "completed"
    },
    "tags": []
   },
   "source": [
    "### 결측치 메우기(Fare)"
   ]
  },
  {
   "cell_type": "code",
   "execution_count": 40,
   "id": "e7d7e43b",
   "metadata": {
    "execution": {
     "iopub.execute_input": "2024-07-30T07:03:15.304308Z",
     "iopub.status.busy": "2024-07-30T07:03:15.303948Z",
     "iopub.status.idle": "2024-07-30T07:03:15.319237Z",
     "shell.execute_reply": "2024-07-30T07:03:15.318146Z"
    },
    "papermill": {
     "duration": 0.04987,
     "end_time": "2024-07-30T07:03:15.321471",
     "exception": false,
     "start_time": "2024-07-30T07:03:15.271601",
     "status": "completed"
    },
    "tags": []
   },
   "outputs": [
    {
     "data": {
      "text/html": [
       "<div>\n",
       "<style scoped>\n",
       "    .dataframe tbody tr th:only-of-type {\n",
       "        vertical-align: middle;\n",
       "    }\n",
       "\n",
       "    .dataframe tbody tr th {\n",
       "        vertical-align: top;\n",
       "    }\n",
       "\n",
       "    .dataframe thead th {\n",
       "        text-align: right;\n",
       "    }\n",
       "</style>\n",
       "<table border=\"1\" class=\"dataframe\">\n",
       "  <thead>\n",
       "    <tr style=\"text-align: right;\">\n",
       "      <th></th>\n",
       "      <th>Pclass</th>\n",
       "      <th>Fare</th>\n",
       "    </tr>\n",
       "  </thead>\n",
       "  <tbody>\n",
       "    <tr>\n",
       "      <th>0</th>\n",
       "      <td>1</td>\n",
       "      <td>87.508992</td>\n",
       "    </tr>\n",
       "    <tr>\n",
       "      <th>1</th>\n",
       "      <td>2</td>\n",
       "      <td>21.179196</td>\n",
       "    </tr>\n",
       "    <tr>\n",
       "      <th>2</th>\n",
       "      <td>3</td>\n",
       "      <td>13.302889</td>\n",
       "    </tr>\n",
       "  </tbody>\n",
       "</table>\n",
       "</div>"
      ],
      "text/plain": [
       "   Pclass       Fare\n",
       "0       1  87.508992\n",
       "1       2  21.179196\n",
       "2       3  13.302889"
      ]
     },
     "execution_count": 40,
     "metadata": {},
     "output_type": "execute_result"
    }
   ],
   "source": [
    "Fare_mean = all_df[[\"Pclass\",\"Fare\"]].groupby('Pclass').mean().reset_index()\n",
    "Fare_mean"
   ]
  },
  {
   "cell_type": "code",
   "execution_count": 41,
   "id": "6011e4ac",
   "metadata": {
    "execution": {
     "iopub.execute_input": "2024-07-30T07:03:15.385812Z",
     "iopub.status.busy": "2024-07-30T07:03:15.385424Z",
     "iopub.status.idle": "2024-07-30T07:03:15.390247Z",
     "shell.execute_reply": "2024-07-30T07:03:15.389250Z"
    },
    "papermill": {
     "duration": 0.039375,
     "end_time": "2024-07-30T07:03:15.392332",
     "exception": false,
     "start_time": "2024-07-30T07:03:15.352957",
     "status": "completed"
    },
    "tags": []
   },
   "outputs": [],
   "source": [
    "Fare_mean.columns = ['Pclass', 'Fare_mean']"
   ]
  },
  {
   "cell_type": "code",
   "execution_count": 42,
   "id": "d45e9c1c",
   "metadata": {
    "execution": {
     "iopub.execute_input": "2024-07-30T07:03:15.457130Z",
     "iopub.status.busy": "2024-07-30T07:03:15.456225Z",
     "iopub.status.idle": "2024-07-30T07:03:15.466000Z",
     "shell.execute_reply": "2024-07-30T07:03:15.464944Z"
    },
    "papermill": {
     "duration": 0.044342,
     "end_time": "2024-07-30T07:03:15.468161",
     "exception": false,
     "start_time": "2024-07-30T07:03:15.423819",
     "status": "completed"
    },
    "tags": []
   },
   "outputs": [
    {
     "data": {
      "text/html": [
       "<div>\n",
       "<style scoped>\n",
       "    .dataframe tbody tr th:only-of-type {\n",
       "        vertical-align: middle;\n",
       "    }\n",
       "\n",
       "    .dataframe tbody tr th {\n",
       "        vertical-align: top;\n",
       "    }\n",
       "\n",
       "    .dataframe thead th {\n",
       "        text-align: right;\n",
       "    }\n",
       "</style>\n",
       "<table border=\"1\" class=\"dataframe\">\n",
       "  <thead>\n",
       "    <tr style=\"text-align: right;\">\n",
       "      <th></th>\n",
       "      <th>Pclass</th>\n",
       "      <th>Fare_mean</th>\n",
       "    </tr>\n",
       "  </thead>\n",
       "  <tbody>\n",
       "    <tr>\n",
       "      <th>0</th>\n",
       "      <td>1</td>\n",
       "      <td>87.508992</td>\n",
       "    </tr>\n",
       "    <tr>\n",
       "      <th>1</th>\n",
       "      <td>2</td>\n",
       "      <td>21.179196</td>\n",
       "    </tr>\n",
       "    <tr>\n",
       "      <th>2</th>\n",
       "      <td>3</td>\n",
       "      <td>13.302889</td>\n",
       "    </tr>\n",
       "  </tbody>\n",
       "</table>\n",
       "</div>"
      ],
      "text/plain": [
       "   Pclass  Fare_mean\n",
       "0       1  87.508992\n",
       "1       2  21.179196\n",
       "2       3  13.302889"
      ]
     },
     "execution_count": 42,
     "metadata": {},
     "output_type": "execute_result"
    }
   ],
   "source": [
    "Fare_mean"
   ]
  },
  {
   "cell_type": "code",
   "execution_count": 43,
   "id": "60bcd001",
   "metadata": {
    "execution": {
     "iopub.execute_input": "2024-07-30T07:03:15.535396Z",
     "iopub.status.busy": "2024-07-30T07:03:15.534701Z",
     "iopub.status.idle": "2024-07-30T07:03:15.550276Z",
     "shell.execute_reply": "2024-07-30T07:03:15.549311Z"
    },
    "papermill": {
     "duration": 0.050611,
     "end_time": "2024-07-30T07:03:15.552423",
     "exception": false,
     "start_time": "2024-07-30T07:03:15.501812",
     "status": "completed"
    },
    "tags": []
   },
   "outputs": [
    {
     "data": {
      "text/html": [
       "<div>\n",
       "<style scoped>\n",
       "    .dataframe tbody tr th:only-of-type {\n",
       "        vertical-align: middle;\n",
       "    }\n",
       "\n",
       "    .dataframe tbody tr th {\n",
       "        vertical-align: top;\n",
       "    }\n",
       "\n",
       "    .dataframe thead th {\n",
       "        text-align: right;\n",
       "    }\n",
       "</style>\n",
       "<table border=\"1\" class=\"dataframe\">\n",
       "  <thead>\n",
       "    <tr style=\"text-align: right;\">\n",
       "      <th></th>\n",
       "      <th>PassengerId</th>\n",
       "      <th>Survived</th>\n",
       "      <th>Pclass</th>\n",
       "      <th>Name</th>\n",
       "      <th>Sex</th>\n",
       "      <th>Age</th>\n",
       "      <th>SibSp</th>\n",
       "      <th>Parch</th>\n",
       "      <th>Ticket</th>\n",
       "      <th>Fare</th>\n",
       "      <th>Cabin</th>\n",
       "      <th>Embarked</th>\n",
       "    </tr>\n",
       "  </thead>\n",
       "  <tbody>\n",
       "    <tr>\n",
       "      <th>1043</th>\n",
       "      <td>1044</td>\n",
       "      <td>NaN</td>\n",
       "      <td>3</td>\n",
       "      <td>Storey, Mr. Thomas</td>\n",
       "      <td>male</td>\n",
       "      <td>60.5</td>\n",
       "      <td>0</td>\n",
       "      <td>0</td>\n",
       "      <td>3701</td>\n",
       "      <td>NaN</td>\n",
       "      <td>NaN</td>\n",
       "      <td>S</td>\n",
       "    </tr>\n",
       "  </tbody>\n",
       "</table>\n",
       "</div>"
      ],
      "text/plain": [
       "      PassengerId  Survived  Pclass                Name   Sex   Age  SibSp  \\\n",
       "1043         1044       NaN       3  Storey, Mr. Thomas  male  60.5      0   \n",
       "\n",
       "      Parch Ticket  Fare Cabin Embarked  \n",
       "1043      0   3701   NaN   NaN        S  "
      ]
     },
     "execution_count": 43,
     "metadata": {},
     "output_type": "execute_result"
    }
   ],
   "source": [
    "all_df[all_df['Fare'].isnull()]"
   ]
  },
  {
   "cell_type": "code",
   "execution_count": 44,
   "id": "0645bd77",
   "metadata": {
    "execution": {
     "iopub.execute_input": "2024-07-30T07:03:15.618162Z",
     "iopub.status.busy": "2024-07-30T07:03:15.617788Z",
     "iopub.status.idle": "2024-07-30T07:03:15.626599Z",
     "shell.execute_reply": "2024-07-30T07:03:15.625477Z"
    },
    "papermill": {
     "duration": 0.044319,
     "end_time": "2024-07-30T07:03:15.628882",
     "exception": false,
     "start_time": "2024-07-30T07:03:15.584563",
     "status": "completed"
    },
    "tags": []
   },
   "outputs": [
    {
     "data": {
      "text/plain": [
       "PassengerId       0\n",
       "Survived        418\n",
       "Pclass            0\n",
       "Name              0\n",
       "Sex               0\n",
       "Age             263\n",
       "SibSp             0\n",
       "Parch             0\n",
       "Ticket            0\n",
       "Fare              1\n",
       "Cabin          1014\n",
       "Embarked          2\n",
       "dtype: int64"
      ]
     },
     "execution_count": 44,
     "metadata": {},
     "output_type": "execute_result"
    }
   ],
   "source": [
    "all_df.isnull().sum()"
   ]
  },
  {
   "cell_type": "markdown",
   "id": "b6c080a6",
   "metadata": {
    "papermill": {
     "duration": 0.031665,
     "end_time": "2024-07-30T07:03:15.693912",
     "exception": false,
     "start_time": "2024-07-30T07:03:15.662247",
     "status": "completed"
    },
    "tags": []
   },
   "source": [
    "### Name 호칭에 주목하기\n",
    "- Master: 남자 아이\n",
    "- Mr: 성인 남성\n",
    "- Miss: 미혼 여성(Mrs보다 연령 낮을 가능성)\n",
    "- Mrs: 기혼 여성(Miss보다 연령 낮을 가능성)"
   ]
  },
  {
   "cell_type": "code",
   "execution_count": 45,
   "id": "c9c81272",
   "metadata": {
    "execution": {
     "iopub.execute_input": "2024-07-30T07:03:15.760343Z",
     "iopub.status.busy": "2024-07-30T07:03:15.759949Z",
     "iopub.status.idle": "2024-07-30T07:03:15.768084Z",
     "shell.execute_reply": "2024-07-30T07:03:15.767075Z"
    },
    "papermill": {
     "duration": 0.044358,
     "end_time": "2024-07-30T07:03:15.770425",
     "exception": false,
     "start_time": "2024-07-30T07:03:15.726067",
     "status": "completed"
    },
    "tags": []
   },
   "outputs": [
    {
     "data": {
      "text/plain": [
       "0                              Braund, Mr. Owen Harris\n",
       "1    Cumings, Mrs. John Bradley (Florence Briggs Th...\n",
       "2                               Heikkinen, Miss. Laina\n",
       "3         Futrelle, Mrs. Jacques Heath (Lily May Peel)\n",
       "4                             Allen, Mr. William Henry\n",
       "Name: Name, dtype: object"
      ]
     },
     "execution_count": 45,
     "metadata": {},
     "output_type": "execute_result"
    }
   ],
   "source": [
    "all_df['Name'].head(5)"
   ]
  },
  {
   "cell_type": "markdown",
   "id": "9679338e",
   "metadata": {
    "papermill": {
     "duration": 0.031566,
     "end_time": "2024-07-30T07:03:15.834363",
     "exception": false,
     "start_time": "2024-07-30T07:03:15.802797",
     "status": "completed"
    },
    "tags": []
   },
   "source": [
    "### 호칭을 변수로 추가하기"
   ]
  },
  {
   "cell_type": "code",
   "execution_count": 46,
   "id": "2d9cfa6f",
   "metadata": {
    "execution": {
     "iopub.execute_input": "2024-07-30T07:03:15.900259Z",
     "iopub.status.busy": "2024-07-30T07:03:15.899858Z",
     "iopub.status.idle": "2024-07-30T07:03:15.908831Z",
     "shell.execute_reply": "2024-07-30T07:03:15.907616Z"
    },
    "papermill": {
     "duration": 0.044902,
     "end_time": "2024-07-30T07:03:15.911189",
     "exception": false,
     "start_time": "2024-07-30T07:03:15.866287",
     "status": "completed"
    },
    "tags": []
   },
   "outputs": [],
   "source": [
    "name_df = all_df['Name'].str.split(\"[,.]\", n=2, expand=True) # 최대 0~2번까지 쪼개고 각각을 다른 칼럼으로"
   ]
  },
  {
   "cell_type": "code",
   "execution_count": 47,
   "id": "584c087a",
   "metadata": {
    "execution": {
     "iopub.execute_input": "2024-07-30T07:03:15.977789Z",
     "iopub.status.busy": "2024-07-30T07:03:15.977397Z",
     "iopub.status.idle": "2024-07-30T07:03:15.982752Z",
     "shell.execute_reply": "2024-07-30T07:03:15.981484Z"
    },
    "papermill": {
     "duration": 0.041386,
     "end_time": "2024-07-30T07:03:15.985203",
     "exception": false,
     "start_time": "2024-07-30T07:03:15.943817",
     "status": "completed"
    },
    "tags": []
   },
   "outputs": [],
   "source": [
    "name_df.columns = ['family_name', 'honorific', 'name'] # 성씨, 호칭, 이름"
   ]
  },
  {
   "cell_type": "code",
   "execution_count": 48,
   "id": "90ae4556",
   "metadata": {
    "execution": {
     "iopub.execute_input": "2024-07-30T07:03:16.053592Z",
     "iopub.status.busy": "2024-07-30T07:03:16.053187Z",
     "iopub.status.idle": "2024-07-30T07:03:16.065787Z",
     "shell.execute_reply": "2024-07-30T07:03:16.064831Z"
    },
    "papermill": {
     "duration": 0.048511,
     "end_time": "2024-07-30T07:03:16.067944",
     "exception": false,
     "start_time": "2024-07-30T07:03:16.019433",
     "status": "completed"
    },
    "tags": []
   },
   "outputs": [
    {
     "data": {
      "text/html": [
       "<div>\n",
       "<style scoped>\n",
       "    .dataframe tbody tr th:only-of-type {\n",
       "        vertical-align: middle;\n",
       "    }\n",
       "\n",
       "    .dataframe tbody tr th {\n",
       "        vertical-align: top;\n",
       "    }\n",
       "\n",
       "    .dataframe thead th {\n",
       "        text-align: right;\n",
       "    }\n",
       "</style>\n",
       "<table border=\"1\" class=\"dataframe\">\n",
       "  <thead>\n",
       "    <tr style=\"text-align: right;\">\n",
       "      <th></th>\n",
       "      <th>family_name</th>\n",
       "      <th>honorific</th>\n",
       "      <th>name</th>\n",
       "    </tr>\n",
       "  </thead>\n",
       "  <tbody>\n",
       "    <tr>\n",
       "      <th>0</th>\n",
       "      <td>Braund</td>\n",
       "      <td>Mr</td>\n",
       "      <td>Owen Harris</td>\n",
       "    </tr>\n",
       "    <tr>\n",
       "      <th>1</th>\n",
       "      <td>Cumings</td>\n",
       "      <td>Mrs</td>\n",
       "      <td>John Bradley (Florence Briggs Thayer)</td>\n",
       "    </tr>\n",
       "    <tr>\n",
       "      <th>2</th>\n",
       "      <td>Heikkinen</td>\n",
       "      <td>Miss</td>\n",
       "      <td>Laina</td>\n",
       "    </tr>\n",
       "    <tr>\n",
       "      <th>3</th>\n",
       "      <td>Futrelle</td>\n",
       "      <td>Mrs</td>\n",
       "      <td>Jacques Heath (Lily May Peel)</td>\n",
       "    </tr>\n",
       "    <tr>\n",
       "      <th>4</th>\n",
       "      <td>Allen</td>\n",
       "      <td>Mr</td>\n",
       "      <td>William Henry</td>\n",
       "    </tr>\n",
       "    <tr>\n",
       "      <th>...</th>\n",
       "      <td>...</td>\n",
       "      <td>...</td>\n",
       "      <td>...</td>\n",
       "    </tr>\n",
       "    <tr>\n",
       "      <th>1304</th>\n",
       "      <td>Spector</td>\n",
       "      <td>Mr</td>\n",
       "      <td>Woolf</td>\n",
       "    </tr>\n",
       "    <tr>\n",
       "      <th>1305</th>\n",
       "      <td>Oliva y Ocana</td>\n",
       "      <td>Dona</td>\n",
       "      <td>Fermina</td>\n",
       "    </tr>\n",
       "    <tr>\n",
       "      <th>1306</th>\n",
       "      <td>Saether</td>\n",
       "      <td>Mr</td>\n",
       "      <td>Simon Sivertsen</td>\n",
       "    </tr>\n",
       "    <tr>\n",
       "      <th>1307</th>\n",
       "      <td>Ware</td>\n",
       "      <td>Mr</td>\n",
       "      <td>Frederick</td>\n",
       "    </tr>\n",
       "    <tr>\n",
       "      <th>1308</th>\n",
       "      <td>Peter</td>\n",
       "      <td>Master</td>\n",
       "      <td>Michael J</td>\n",
       "    </tr>\n",
       "  </tbody>\n",
       "</table>\n",
       "<p>1309 rows × 3 columns</p>\n",
       "</div>"
      ],
      "text/plain": [
       "        family_name honorific                                    name\n",
       "0            Braund        Mr                             Owen Harris\n",
       "1           Cumings       Mrs   John Bradley (Florence Briggs Thayer)\n",
       "2         Heikkinen      Miss                                   Laina\n",
       "3          Futrelle       Mrs           Jacques Heath (Lily May Peel)\n",
       "4             Allen        Mr                           William Henry\n",
       "...             ...       ...                                     ...\n",
       "1304        Spector        Mr                                   Woolf\n",
       "1305  Oliva y Ocana      Dona                                 Fermina\n",
       "1306        Saether        Mr                         Simon Sivertsen\n",
       "1307           Ware        Mr                               Frederick\n",
       "1308          Peter    Master                               Michael J\n",
       "\n",
       "[1309 rows x 3 columns]"
      ]
     },
     "execution_count": 48,
     "metadata": {},
     "output_type": "execute_result"
    }
   ],
   "source": [
    "name_df"
   ]
  },
  {
   "cell_type": "code",
   "execution_count": 49,
   "id": "253261c8",
   "metadata": {
    "execution": {
     "iopub.execute_input": "2024-07-30T07:03:16.134254Z",
     "iopub.status.busy": "2024-07-30T07:03:16.133863Z",
     "iopub.status.idle": "2024-07-30T07:03:16.143259Z",
     "shell.execute_reply": "2024-07-30T07:03:16.141988Z"
    },
    "papermill": {
     "duration": 0.045333,
     "end_time": "2024-07-30T07:03:16.145612",
     "exception": false,
     "start_time": "2024-07-30T07:03:16.100279",
     "status": "completed"
    },
    "tags": []
   },
   "outputs": [],
   "source": [
    "name_df['family_name'] = name_df['family_name'].str.strip()\n",
    "name_df['honorific'] = name_df['honorific'].str.strip()\n",
    "name_df['name'] = name_df['name'].str.strip()"
   ]
  },
  {
   "cell_type": "code",
   "execution_count": 50,
   "id": "e88409c9",
   "metadata": {
    "execution": {
     "iopub.execute_input": "2024-07-30T07:03:16.214100Z",
     "iopub.status.busy": "2024-07-30T07:03:16.213706Z",
     "iopub.status.idle": "2024-07-30T07:03:16.222807Z",
     "shell.execute_reply": "2024-07-30T07:03:16.221634Z"
    },
    "papermill": {
     "duration": 0.044943,
     "end_time": "2024-07-30T07:03:16.225011",
     "exception": false,
     "start_time": "2024-07-30T07:03:16.180068",
     "status": "completed"
    },
    "tags": []
   },
   "outputs": [
    {
     "data": {
      "text/plain": [
       "honorific\n",
       "Mr              757\n",
       "Miss            260\n",
       "Mrs             197\n",
       "Master           61\n",
       "Rev               8\n",
       "Dr                8\n",
       "Col               4\n",
       "Mlle              2\n",
       "Major             2\n",
       "Ms                2\n",
       "Lady              1\n",
       "Sir               1\n",
       "Mme               1\n",
       "Don               1\n",
       "Capt              1\n",
       "the Countess      1\n",
       "Jonkheer          1\n",
       "Dona              1\n",
       "Name: count, dtype: int64"
      ]
     },
     "execution_count": 50,
     "metadata": {},
     "output_type": "execute_result"
    }
   ],
   "source": [
    "name_df['honorific'].value_counts()"
   ]
  },
  {
   "cell_type": "code",
   "execution_count": 51,
   "id": "dceaf76e",
   "metadata": {
    "execution": {
     "iopub.execute_input": "2024-07-30T07:03:16.292790Z",
     "iopub.status.busy": "2024-07-30T07:03:16.292434Z",
     "iopub.status.idle": "2024-07-30T07:03:16.306825Z",
     "shell.execute_reply": "2024-07-30T07:03:16.305666Z"
    },
    "papermill": {
     "duration": 0.050517,
     "end_time": "2024-07-30T07:03:16.309140",
     "exception": false,
     "start_time": "2024-07-30T07:03:16.258623",
     "status": "completed"
    },
    "tags": []
   },
   "outputs": [
    {
     "data": {
      "text/html": [
       "<div>\n",
       "<style scoped>\n",
       "    .dataframe tbody tr th:only-of-type {\n",
       "        vertical-align: middle;\n",
       "    }\n",
       "\n",
       "    .dataframe tbody tr th {\n",
       "        vertical-align: top;\n",
       "    }\n",
       "\n",
       "    .dataframe thead th {\n",
       "        text-align: right;\n",
       "    }\n",
       "</style>\n",
       "<table border=\"1\" class=\"dataframe\">\n",
       "  <thead>\n",
       "    <tr style=\"text-align: right;\">\n",
       "      <th></th>\n",
       "      <th>family_name</th>\n",
       "      <th>honorific</th>\n",
       "      <th>name</th>\n",
       "      <th>Sex</th>\n",
       "    </tr>\n",
       "  </thead>\n",
       "  <tbody>\n",
       "    <tr>\n",
       "      <th>0</th>\n",
       "      <td>Braund</td>\n",
       "      <td>Mr</td>\n",
       "      <td>Owen Harris</td>\n",
       "      <td>male</td>\n",
       "    </tr>\n",
       "    <tr>\n",
       "      <th>1</th>\n",
       "      <td>Cumings</td>\n",
       "      <td>Mrs</td>\n",
       "      <td>John Bradley (Florence Briggs Thayer)</td>\n",
       "      <td>female</td>\n",
       "    </tr>\n",
       "    <tr>\n",
       "      <th>2</th>\n",
       "      <td>Heikkinen</td>\n",
       "      <td>Miss</td>\n",
       "      <td>Laina</td>\n",
       "      <td>female</td>\n",
       "    </tr>\n",
       "    <tr>\n",
       "      <th>3</th>\n",
       "      <td>Futrelle</td>\n",
       "      <td>Mrs</td>\n",
       "      <td>Jacques Heath (Lily May Peel)</td>\n",
       "      <td>female</td>\n",
       "    </tr>\n",
       "    <tr>\n",
       "      <th>4</th>\n",
       "      <td>Allen</td>\n",
       "      <td>Mr</td>\n",
       "      <td>William Henry</td>\n",
       "      <td>male</td>\n",
       "    </tr>\n",
       "    <tr>\n",
       "      <th>...</th>\n",
       "      <td>...</td>\n",
       "      <td>...</td>\n",
       "      <td>...</td>\n",
       "      <td>...</td>\n",
       "    </tr>\n",
       "    <tr>\n",
       "      <th>1304</th>\n",
       "      <td>Spector</td>\n",
       "      <td>Mr</td>\n",
       "      <td>Woolf</td>\n",
       "      <td>male</td>\n",
       "    </tr>\n",
       "    <tr>\n",
       "      <th>1305</th>\n",
       "      <td>Oliva y Ocana</td>\n",
       "      <td>Dona</td>\n",
       "      <td>Fermina</td>\n",
       "      <td>female</td>\n",
       "    </tr>\n",
       "    <tr>\n",
       "      <th>1306</th>\n",
       "      <td>Saether</td>\n",
       "      <td>Mr</td>\n",
       "      <td>Simon Sivertsen</td>\n",
       "      <td>male</td>\n",
       "    </tr>\n",
       "    <tr>\n",
       "      <th>1307</th>\n",
       "      <td>Ware</td>\n",
       "      <td>Mr</td>\n",
       "      <td>Frederick</td>\n",
       "      <td>male</td>\n",
       "    </tr>\n",
       "    <tr>\n",
       "      <th>1308</th>\n",
       "      <td>Peter</td>\n",
       "      <td>Master</td>\n",
       "      <td>Michael J</td>\n",
       "      <td>male</td>\n",
       "    </tr>\n",
       "  </tbody>\n",
       "</table>\n",
       "<p>1309 rows × 4 columns</p>\n",
       "</div>"
      ],
      "text/plain": [
       "        family_name honorific                                   name     Sex\n",
       "0            Braund        Mr                            Owen Harris    male\n",
       "1           Cumings       Mrs  John Bradley (Florence Briggs Thayer)  female\n",
       "2         Heikkinen      Miss                                  Laina  female\n",
       "3          Futrelle       Mrs          Jacques Heath (Lily May Peel)  female\n",
       "4             Allen        Mr                          William Henry    male\n",
       "...             ...       ...                                    ...     ...\n",
       "1304        Spector        Mr                                  Woolf    male\n",
       "1305  Oliva y Ocana      Dona                                Fermina  female\n",
       "1306        Saether        Mr                        Simon Sivertsen    male\n",
       "1307           Ware        Mr                              Frederick    male\n",
       "1308          Peter    Master                              Michael J    male\n",
       "\n",
       "[1309 rows x 4 columns]"
      ]
     },
     "execution_count": 51,
     "metadata": {},
     "output_type": "execute_result"
    }
   ],
   "source": [
    "name_sex_df = pd.concat([name_df, all_df['Sex']], axis=1)\n",
    "name_sex_df"
   ]
  },
  {
   "cell_type": "code",
   "execution_count": 52,
   "id": "37b615b7",
   "metadata": {
    "execution": {
     "iopub.execute_input": "2024-07-30T07:03:16.377364Z",
     "iopub.status.busy": "2024-07-30T07:03:16.376343Z",
     "iopub.status.idle": "2024-07-30T07:03:16.494174Z",
     "shell.execute_reply": "2024-07-30T07:03:16.492806Z"
    },
    "papermill": {
     "duration": 0.154716,
     "end_time": "2024-07-30T07:03:16.496768",
     "exception": false,
     "start_time": "2024-07-30T07:03:16.342052",
     "status": "completed"
    },
    "tags": []
   },
   "outputs": [
    {
     "data": {
      "text/html": [
       "<style type=\"text/css\">\n",
       "#T_7f2b3_row0_col0, #T_7f2b3_row0_col1, #T_7f2b3_row0_col2, #T_7f2b3_row0_col4, #T_7f2b3_row0_col5, #T_7f2b3_row0_col7, #T_7f2b3_row0_col8, #T_7f2b3_row0_col12, #T_7f2b3_row0_col15, #T_7f2b3_row0_col16, #T_7f2b3_row1_col3, #T_7f2b3_row1_col6, #T_7f2b3_row1_col9, #T_7f2b3_row1_col10, #T_7f2b3_row1_col11, #T_7f2b3_row1_col13, #T_7f2b3_row1_col14, #T_7f2b3_row1_col17 {\n",
       "  background-color: #ffff66;\n",
       "  color: #000000;\n",
       "}\n",
       "#T_7f2b3_row0_col3, #T_7f2b3_row0_col6, #T_7f2b3_row0_col9, #T_7f2b3_row0_col10, #T_7f2b3_row0_col11, #T_7f2b3_row0_col13, #T_7f2b3_row0_col14, #T_7f2b3_row0_col17, #T_7f2b3_row1_col0, #T_7f2b3_row1_col1, #T_7f2b3_row1_col2, #T_7f2b3_row1_col4, #T_7f2b3_row1_col5, #T_7f2b3_row1_col7, #T_7f2b3_row1_col8, #T_7f2b3_row1_col12, #T_7f2b3_row1_col15, #T_7f2b3_row1_col16 {\n",
       "  background-color: #008066;\n",
       "  color: #f1f1f1;\n",
       "}\n",
       "</style>\n",
       "<table id=\"T_7f2b3\">\n",
       "  <thead>\n",
       "    <tr>\n",
       "      <th class=\"index_name level0\" >honorific</th>\n",
       "      <th id=\"T_7f2b3_level0_col0\" class=\"col_heading level0 col0\" >Capt</th>\n",
       "      <th id=\"T_7f2b3_level0_col1\" class=\"col_heading level0 col1\" >Col</th>\n",
       "      <th id=\"T_7f2b3_level0_col2\" class=\"col_heading level0 col2\" >Don</th>\n",
       "      <th id=\"T_7f2b3_level0_col3\" class=\"col_heading level0 col3\" >Dona</th>\n",
       "      <th id=\"T_7f2b3_level0_col4\" class=\"col_heading level0 col4\" >Dr</th>\n",
       "      <th id=\"T_7f2b3_level0_col5\" class=\"col_heading level0 col5\" >Jonkheer</th>\n",
       "      <th id=\"T_7f2b3_level0_col6\" class=\"col_heading level0 col6\" >Lady</th>\n",
       "      <th id=\"T_7f2b3_level0_col7\" class=\"col_heading level0 col7\" >Major</th>\n",
       "      <th id=\"T_7f2b3_level0_col8\" class=\"col_heading level0 col8\" >Master</th>\n",
       "      <th id=\"T_7f2b3_level0_col9\" class=\"col_heading level0 col9\" >Miss</th>\n",
       "      <th id=\"T_7f2b3_level0_col10\" class=\"col_heading level0 col10\" >Mlle</th>\n",
       "      <th id=\"T_7f2b3_level0_col11\" class=\"col_heading level0 col11\" >Mme</th>\n",
       "      <th id=\"T_7f2b3_level0_col12\" class=\"col_heading level0 col12\" >Mr</th>\n",
       "      <th id=\"T_7f2b3_level0_col13\" class=\"col_heading level0 col13\" >Mrs</th>\n",
       "      <th id=\"T_7f2b3_level0_col14\" class=\"col_heading level0 col14\" >Ms</th>\n",
       "      <th id=\"T_7f2b3_level0_col15\" class=\"col_heading level0 col15\" >Rev</th>\n",
       "      <th id=\"T_7f2b3_level0_col16\" class=\"col_heading level0 col16\" >Sir</th>\n",
       "      <th id=\"T_7f2b3_level0_col17\" class=\"col_heading level0 col17\" >the Countess</th>\n",
       "    </tr>\n",
       "    <tr>\n",
       "      <th class=\"index_name level0\" >Sex</th>\n",
       "      <th class=\"blank col0\" >&nbsp;</th>\n",
       "      <th class=\"blank col1\" >&nbsp;</th>\n",
       "      <th class=\"blank col2\" >&nbsp;</th>\n",
       "      <th class=\"blank col3\" >&nbsp;</th>\n",
       "      <th class=\"blank col4\" >&nbsp;</th>\n",
       "      <th class=\"blank col5\" >&nbsp;</th>\n",
       "      <th class=\"blank col6\" >&nbsp;</th>\n",
       "      <th class=\"blank col7\" >&nbsp;</th>\n",
       "      <th class=\"blank col8\" >&nbsp;</th>\n",
       "      <th class=\"blank col9\" >&nbsp;</th>\n",
       "      <th class=\"blank col10\" >&nbsp;</th>\n",
       "      <th class=\"blank col11\" >&nbsp;</th>\n",
       "      <th class=\"blank col12\" >&nbsp;</th>\n",
       "      <th class=\"blank col13\" >&nbsp;</th>\n",
       "      <th class=\"blank col14\" >&nbsp;</th>\n",
       "      <th class=\"blank col15\" >&nbsp;</th>\n",
       "      <th class=\"blank col16\" >&nbsp;</th>\n",
       "      <th class=\"blank col17\" >&nbsp;</th>\n",
       "    </tr>\n",
       "  </thead>\n",
       "  <tbody>\n",
       "    <tr>\n",
       "      <th id=\"T_7f2b3_level0_row0\" class=\"row_heading level0 row0\" >female</th>\n",
       "      <td id=\"T_7f2b3_row0_col0\" class=\"data row0 col0\" >0</td>\n",
       "      <td id=\"T_7f2b3_row0_col1\" class=\"data row0 col1\" >0</td>\n",
       "      <td id=\"T_7f2b3_row0_col2\" class=\"data row0 col2\" >0</td>\n",
       "      <td id=\"T_7f2b3_row0_col3\" class=\"data row0 col3\" >1</td>\n",
       "      <td id=\"T_7f2b3_row0_col4\" class=\"data row0 col4\" >1</td>\n",
       "      <td id=\"T_7f2b3_row0_col5\" class=\"data row0 col5\" >0</td>\n",
       "      <td id=\"T_7f2b3_row0_col6\" class=\"data row0 col6\" >1</td>\n",
       "      <td id=\"T_7f2b3_row0_col7\" class=\"data row0 col7\" >0</td>\n",
       "      <td id=\"T_7f2b3_row0_col8\" class=\"data row0 col8\" >0</td>\n",
       "      <td id=\"T_7f2b3_row0_col9\" class=\"data row0 col9\" >260</td>\n",
       "      <td id=\"T_7f2b3_row0_col10\" class=\"data row0 col10\" >2</td>\n",
       "      <td id=\"T_7f2b3_row0_col11\" class=\"data row0 col11\" >1</td>\n",
       "      <td id=\"T_7f2b3_row0_col12\" class=\"data row0 col12\" >0</td>\n",
       "      <td id=\"T_7f2b3_row0_col13\" class=\"data row0 col13\" >197</td>\n",
       "      <td id=\"T_7f2b3_row0_col14\" class=\"data row0 col14\" >2</td>\n",
       "      <td id=\"T_7f2b3_row0_col15\" class=\"data row0 col15\" >0</td>\n",
       "      <td id=\"T_7f2b3_row0_col16\" class=\"data row0 col16\" >0</td>\n",
       "      <td id=\"T_7f2b3_row0_col17\" class=\"data row0 col17\" >1</td>\n",
       "    </tr>\n",
       "    <tr>\n",
       "      <th id=\"T_7f2b3_level0_row1\" class=\"row_heading level0 row1\" >male</th>\n",
       "      <td id=\"T_7f2b3_row1_col0\" class=\"data row1 col0\" >1</td>\n",
       "      <td id=\"T_7f2b3_row1_col1\" class=\"data row1 col1\" >4</td>\n",
       "      <td id=\"T_7f2b3_row1_col2\" class=\"data row1 col2\" >1</td>\n",
       "      <td id=\"T_7f2b3_row1_col3\" class=\"data row1 col3\" >0</td>\n",
       "      <td id=\"T_7f2b3_row1_col4\" class=\"data row1 col4\" >7</td>\n",
       "      <td id=\"T_7f2b3_row1_col5\" class=\"data row1 col5\" >1</td>\n",
       "      <td id=\"T_7f2b3_row1_col6\" class=\"data row1 col6\" >0</td>\n",
       "      <td id=\"T_7f2b3_row1_col7\" class=\"data row1 col7\" >2</td>\n",
       "      <td id=\"T_7f2b3_row1_col8\" class=\"data row1 col8\" >61</td>\n",
       "      <td id=\"T_7f2b3_row1_col9\" class=\"data row1 col9\" >0</td>\n",
       "      <td id=\"T_7f2b3_row1_col10\" class=\"data row1 col10\" >0</td>\n",
       "      <td id=\"T_7f2b3_row1_col11\" class=\"data row1 col11\" >0</td>\n",
       "      <td id=\"T_7f2b3_row1_col12\" class=\"data row1 col12\" >757</td>\n",
       "      <td id=\"T_7f2b3_row1_col13\" class=\"data row1 col13\" >0</td>\n",
       "      <td id=\"T_7f2b3_row1_col14\" class=\"data row1 col14\" >0</td>\n",
       "      <td id=\"T_7f2b3_row1_col15\" class=\"data row1 col15\" >8</td>\n",
       "      <td id=\"T_7f2b3_row1_col16\" class=\"data row1 col16\" >1</td>\n",
       "      <td id=\"T_7f2b3_row1_col17\" class=\"data row1 col17\" >0</td>\n",
       "    </tr>\n",
       "  </tbody>\n",
       "</table>\n"
      ],
      "text/plain": [
       "<pandas.io.formats.style.Styler at 0x7b7fc3840e20>"
      ]
     },
     "execution_count": 52,
     "metadata": {},
     "output_type": "execute_result"
    }
   ],
   "source": [
    "pd.crosstab(name_sex_df.honorific, name_sex_df.Sex).T.style.background_gradient(cmap='summer_r')"
   ]
  },
  {
   "cell_type": "code",
   "execution_count": null,
   "id": "5a69d62c",
   "metadata": {
    "papermill": {
     "duration": 0.032643,
     "end_time": "2024-07-30T07:03:16.562741",
     "exception": false,
     "start_time": "2024-07-30T07:03:16.530098",
     "status": "completed"
    },
    "tags": []
   },
   "outputs": [],
   "source": []
  },
  {
   "cell_type": "code",
   "execution_count": 53,
   "id": "b95338f3",
   "metadata": {
    "execution": {
     "iopub.execute_input": "2024-07-30T07:03:16.631613Z",
     "iopub.status.busy": "2024-07-30T07:03:16.630697Z",
     "iopub.status.idle": "2024-07-30T07:03:16.649688Z",
     "shell.execute_reply": "2024-07-30T07:03:16.648683Z"
    },
    "papermill": {
     "duration": 0.055908,
     "end_time": "2024-07-30T07:03:16.651983",
     "exception": false,
     "start_time": "2024-07-30T07:03:16.596075",
     "status": "completed"
    },
    "tags": []
   },
   "outputs": [
    {
     "data": {
      "text/html": [
       "<div>\n",
       "<style scoped>\n",
       "    .dataframe tbody tr th:only-of-type {\n",
       "        vertical-align: middle;\n",
       "    }\n",
       "\n",
       "    .dataframe tbody tr th {\n",
       "        vertical-align: top;\n",
       "    }\n",
       "\n",
       "    .dataframe thead th {\n",
       "        text-align: right;\n",
       "    }\n",
       "</style>\n",
       "<table border=\"1\" class=\"dataframe\">\n",
       "  <thead>\n",
       "    <tr style=\"text-align: right;\">\n",
       "      <th></th>\n",
       "      <th>PassengerId</th>\n",
       "      <th>Survived</th>\n",
       "      <th>Pclass</th>\n",
       "      <th>Name</th>\n",
       "      <th>Sex</th>\n",
       "      <th>Age</th>\n",
       "      <th>SibSp</th>\n",
       "      <th>Parch</th>\n",
       "      <th>Ticket</th>\n",
       "      <th>Fare</th>\n",
       "      <th>Cabin</th>\n",
       "      <th>Embarked</th>\n",
       "    </tr>\n",
       "  </thead>\n",
       "  <tbody>\n",
       "    <tr>\n",
       "      <th>0</th>\n",
       "      <td>1</td>\n",
       "      <td>0.0</td>\n",
       "      <td>3</td>\n",
       "      <td>Braund, Mr. Owen Harris</td>\n",
       "      <td>male</td>\n",
       "      <td>22.0</td>\n",
       "      <td>1</td>\n",
       "      <td>0</td>\n",
       "      <td>A/5 21171</td>\n",
       "      <td>7.2500</td>\n",
       "      <td>NaN</td>\n",
       "      <td>S</td>\n",
       "    </tr>\n",
       "    <tr>\n",
       "      <th>1</th>\n",
       "      <td>2</td>\n",
       "      <td>1.0</td>\n",
       "      <td>1</td>\n",
       "      <td>Cumings, Mrs. John Bradley (Florence Briggs Th...</td>\n",
       "      <td>female</td>\n",
       "      <td>38.0</td>\n",
       "      <td>1</td>\n",
       "      <td>0</td>\n",
       "      <td>PC 17599</td>\n",
       "      <td>71.2833</td>\n",
       "      <td>C85</td>\n",
       "      <td>C</td>\n",
       "    </tr>\n",
       "    <tr>\n",
       "      <th>2</th>\n",
       "      <td>3</td>\n",
       "      <td>1.0</td>\n",
       "      <td>3</td>\n",
       "      <td>Heikkinen, Miss. Laina</td>\n",
       "      <td>female</td>\n",
       "      <td>26.0</td>\n",
       "      <td>0</td>\n",
       "      <td>0</td>\n",
       "      <td>STON/O2. 3101282</td>\n",
       "      <td>7.9250</td>\n",
       "      <td>NaN</td>\n",
       "      <td>S</td>\n",
       "    </tr>\n",
       "    <tr>\n",
       "      <th>3</th>\n",
       "      <td>4</td>\n",
       "      <td>1.0</td>\n",
       "      <td>1</td>\n",
       "      <td>Futrelle, Mrs. Jacques Heath (Lily May Peel)</td>\n",
       "      <td>female</td>\n",
       "      <td>35.0</td>\n",
       "      <td>1</td>\n",
       "      <td>0</td>\n",
       "      <td>113803</td>\n",
       "      <td>53.1000</td>\n",
       "      <td>C123</td>\n",
       "      <td>S</td>\n",
       "    </tr>\n",
       "    <tr>\n",
       "      <th>4</th>\n",
       "      <td>5</td>\n",
       "      <td>0.0</td>\n",
       "      <td>3</td>\n",
       "      <td>Allen, Mr. William Henry</td>\n",
       "      <td>male</td>\n",
       "      <td>35.0</td>\n",
       "      <td>0</td>\n",
       "      <td>0</td>\n",
       "      <td>373450</td>\n",
       "      <td>8.0500</td>\n",
       "      <td>NaN</td>\n",
       "      <td>S</td>\n",
       "    </tr>\n",
       "    <tr>\n",
       "      <th>...</th>\n",
       "      <td>...</td>\n",
       "      <td>...</td>\n",
       "      <td>...</td>\n",
       "      <td>...</td>\n",
       "      <td>...</td>\n",
       "      <td>...</td>\n",
       "      <td>...</td>\n",
       "      <td>...</td>\n",
       "      <td>...</td>\n",
       "      <td>...</td>\n",
       "      <td>...</td>\n",
       "      <td>...</td>\n",
       "    </tr>\n",
       "    <tr>\n",
       "      <th>1304</th>\n",
       "      <td>1305</td>\n",
       "      <td>NaN</td>\n",
       "      <td>3</td>\n",
       "      <td>Spector, Mr. Woolf</td>\n",
       "      <td>male</td>\n",
       "      <td>NaN</td>\n",
       "      <td>0</td>\n",
       "      <td>0</td>\n",
       "      <td>A.5. 3236</td>\n",
       "      <td>8.0500</td>\n",
       "      <td>NaN</td>\n",
       "      <td>S</td>\n",
       "    </tr>\n",
       "    <tr>\n",
       "      <th>1305</th>\n",
       "      <td>1306</td>\n",
       "      <td>NaN</td>\n",
       "      <td>1</td>\n",
       "      <td>Oliva y Ocana, Dona. Fermina</td>\n",
       "      <td>female</td>\n",
       "      <td>39.0</td>\n",
       "      <td>0</td>\n",
       "      <td>0</td>\n",
       "      <td>PC 17758</td>\n",
       "      <td>108.9000</td>\n",
       "      <td>C105</td>\n",
       "      <td>C</td>\n",
       "    </tr>\n",
       "    <tr>\n",
       "      <th>1306</th>\n",
       "      <td>1307</td>\n",
       "      <td>NaN</td>\n",
       "      <td>3</td>\n",
       "      <td>Saether, Mr. Simon Sivertsen</td>\n",
       "      <td>male</td>\n",
       "      <td>38.5</td>\n",
       "      <td>0</td>\n",
       "      <td>0</td>\n",
       "      <td>SOTON/O.Q. 3101262</td>\n",
       "      <td>7.2500</td>\n",
       "      <td>NaN</td>\n",
       "      <td>S</td>\n",
       "    </tr>\n",
       "    <tr>\n",
       "      <th>1307</th>\n",
       "      <td>1308</td>\n",
       "      <td>NaN</td>\n",
       "      <td>3</td>\n",
       "      <td>Ware, Mr. Frederick</td>\n",
       "      <td>male</td>\n",
       "      <td>NaN</td>\n",
       "      <td>0</td>\n",
       "      <td>0</td>\n",
       "      <td>359309</td>\n",
       "      <td>8.0500</td>\n",
       "      <td>NaN</td>\n",
       "      <td>S</td>\n",
       "    </tr>\n",
       "    <tr>\n",
       "      <th>1308</th>\n",
       "      <td>1309</td>\n",
       "      <td>NaN</td>\n",
       "      <td>3</td>\n",
       "      <td>Peter, Master. Michael J</td>\n",
       "      <td>male</td>\n",
       "      <td>NaN</td>\n",
       "      <td>1</td>\n",
       "      <td>1</td>\n",
       "      <td>2668</td>\n",
       "      <td>22.3583</td>\n",
       "      <td>NaN</td>\n",
       "      <td>C</td>\n",
       "    </tr>\n",
       "  </tbody>\n",
       "</table>\n",
       "<p>1309 rows × 12 columns</p>\n",
       "</div>"
      ],
      "text/plain": [
       "      PassengerId  Survived  Pclass  \\\n",
       "0               1       0.0       3   \n",
       "1               2       1.0       1   \n",
       "2               3       1.0       3   \n",
       "3               4       1.0       1   \n",
       "4               5       0.0       3   \n",
       "...           ...       ...     ...   \n",
       "1304         1305       NaN       3   \n",
       "1305         1306       NaN       1   \n",
       "1306         1307       NaN       3   \n",
       "1307         1308       NaN       3   \n",
       "1308         1309       NaN       3   \n",
       "\n",
       "                                                   Name     Sex   Age  SibSp  \\\n",
       "0                               Braund, Mr. Owen Harris    male  22.0      1   \n",
       "1     Cumings, Mrs. John Bradley (Florence Briggs Th...  female  38.0      1   \n",
       "2                                Heikkinen, Miss. Laina  female  26.0      0   \n",
       "3          Futrelle, Mrs. Jacques Heath (Lily May Peel)  female  35.0      1   \n",
       "4                              Allen, Mr. William Henry    male  35.0      0   \n",
       "...                                                 ...     ...   ...    ...   \n",
       "1304                                 Spector, Mr. Woolf    male   NaN      0   \n",
       "1305                       Oliva y Ocana, Dona. Fermina  female  39.0      0   \n",
       "1306                       Saether, Mr. Simon Sivertsen    male  38.5      0   \n",
       "1307                                Ware, Mr. Frederick    male   NaN      0   \n",
       "1308                           Peter, Master. Michael J    male   NaN      1   \n",
       "\n",
       "      Parch              Ticket      Fare Cabin Embarked  \n",
       "0         0           A/5 21171    7.2500   NaN        S  \n",
       "1         0            PC 17599   71.2833   C85        C  \n",
       "2         0    STON/O2. 3101282    7.9250   NaN        S  \n",
       "3         0              113803   53.1000  C123        S  \n",
       "4         0              373450    8.0500   NaN        S  \n",
       "...     ...                 ...       ...   ...      ...  \n",
       "1304      0           A.5. 3236    8.0500   NaN        S  \n",
       "1305      0            PC 17758  108.9000  C105        C  \n",
       "1306      0  SOTON/O.Q. 3101262    7.2500   NaN        S  \n",
       "1307      0              359309    8.0500   NaN        S  \n",
       "1308      1                2668   22.3583   NaN        C  \n",
       "\n",
       "[1309 rows x 12 columns]"
      ]
     },
     "execution_count": 53,
     "metadata": {},
     "output_type": "execute_result"
    }
   ],
   "source": [
    "all_df"
   ]
  },
  {
   "cell_type": "code",
   "execution_count": null,
   "id": "64993ec0",
   "metadata": {
    "papermill": {
     "duration": 0.033242,
     "end_time": "2024-07-30T07:03:16.719007",
     "exception": false,
     "start_time": "2024-07-30T07:03:16.685765",
     "status": "completed"
    },
    "tags": []
   },
   "outputs": [],
   "source": []
  },
  {
   "cell_type": "markdown",
   "id": "a6c5eb09",
   "metadata": {
    "papermill": {
     "duration": 0.032797,
     "end_time": "2024-07-30T07:03:16.785468",
     "exception": false,
     "start_time": "2024-07-30T07:03:16.752671",
     "status": "completed"
    },
    "tags": []
   },
   "source": [
    "### "
   ]
  },
  {
   "cell_type": "markdown",
   "id": "5088e49e",
   "metadata": {
    "papermill": {
     "duration": 0.032748,
     "end_time": "2024-07-30T07:03:16.851871",
     "exception": false,
     "start_time": "2024-07-30T07:03:16.819123",
     "status": "completed"
    },
    "tags": []
   },
   "source": [
    "### 호칭별 연령 분포 확인하기"
   ]
  },
  {
   "cell_type": "code",
   "execution_count": 54,
   "id": "69acd75d",
   "metadata": {
    "execution": {
     "iopub.execute_input": "2024-07-30T07:03:16.921129Z",
     "iopub.status.busy": "2024-07-30T07:03:16.920299Z",
     "iopub.status.idle": "2024-07-30T07:03:16.944359Z",
     "shell.execute_reply": "2024-07-30T07:03:16.943255Z"
    },
    "papermill": {
     "duration": 0.061653,
     "end_time": "2024-07-30T07:03:16.946799",
     "exception": false,
     "start_time": "2024-07-30T07:03:16.885146",
     "status": "completed"
    },
    "tags": []
   },
   "outputs": [
    {
     "data": {
      "text/html": [
       "<div>\n",
       "<style scoped>\n",
       "    .dataframe tbody tr th:only-of-type {\n",
       "        vertical-align: middle;\n",
       "    }\n",
       "\n",
       "    .dataframe tbody tr th {\n",
       "        vertical-align: top;\n",
       "    }\n",
       "\n",
       "    .dataframe thead th {\n",
       "        text-align: right;\n",
       "    }\n",
       "</style>\n",
       "<table border=\"1\" class=\"dataframe\">\n",
       "  <thead>\n",
       "    <tr style=\"text-align: right;\">\n",
       "      <th></th>\n",
       "      <th>PassengerId</th>\n",
       "      <th>Survived</th>\n",
       "      <th>Pclass</th>\n",
       "      <th>Name</th>\n",
       "      <th>Sex</th>\n",
       "      <th>Age</th>\n",
       "      <th>SibSp</th>\n",
       "      <th>Parch</th>\n",
       "      <th>Ticket</th>\n",
       "      <th>Fare</th>\n",
       "      <th>Cabin</th>\n",
       "      <th>Embarked</th>\n",
       "      <th>family_name</th>\n",
       "      <th>honorific</th>\n",
       "      <th>name</th>\n",
       "    </tr>\n",
       "  </thead>\n",
       "  <tbody>\n",
       "    <tr>\n",
       "      <th>0</th>\n",
       "      <td>1</td>\n",
       "      <td>0.0</td>\n",
       "      <td>3</td>\n",
       "      <td>Braund, Mr. Owen Harris</td>\n",
       "      <td>male</td>\n",
       "      <td>22.0</td>\n",
       "      <td>1</td>\n",
       "      <td>0</td>\n",
       "      <td>A/5 21171</td>\n",
       "      <td>7.2500</td>\n",
       "      <td>NaN</td>\n",
       "      <td>S</td>\n",
       "      <td>Braund</td>\n",
       "      <td>Mr</td>\n",
       "      <td>Owen Harris</td>\n",
       "    </tr>\n",
       "    <tr>\n",
       "      <th>1</th>\n",
       "      <td>2</td>\n",
       "      <td>1.0</td>\n",
       "      <td>1</td>\n",
       "      <td>Cumings, Mrs. John Bradley (Florence Briggs Th...</td>\n",
       "      <td>female</td>\n",
       "      <td>38.0</td>\n",
       "      <td>1</td>\n",
       "      <td>0</td>\n",
       "      <td>PC 17599</td>\n",
       "      <td>71.2833</td>\n",
       "      <td>C85</td>\n",
       "      <td>C</td>\n",
       "      <td>Cumings</td>\n",
       "      <td>Mrs</td>\n",
       "      <td>John Bradley (Florence Briggs Thayer)</td>\n",
       "    </tr>\n",
       "    <tr>\n",
       "      <th>2</th>\n",
       "      <td>3</td>\n",
       "      <td>1.0</td>\n",
       "      <td>3</td>\n",
       "      <td>Heikkinen, Miss. Laina</td>\n",
       "      <td>female</td>\n",
       "      <td>26.0</td>\n",
       "      <td>0</td>\n",
       "      <td>0</td>\n",
       "      <td>STON/O2. 3101282</td>\n",
       "      <td>7.9250</td>\n",
       "      <td>NaN</td>\n",
       "      <td>S</td>\n",
       "      <td>Heikkinen</td>\n",
       "      <td>Miss</td>\n",
       "      <td>Laina</td>\n",
       "    </tr>\n",
       "    <tr>\n",
       "      <th>3</th>\n",
       "      <td>4</td>\n",
       "      <td>1.0</td>\n",
       "      <td>1</td>\n",
       "      <td>Futrelle, Mrs. Jacques Heath (Lily May Peel)</td>\n",
       "      <td>female</td>\n",
       "      <td>35.0</td>\n",
       "      <td>1</td>\n",
       "      <td>0</td>\n",
       "      <td>113803</td>\n",
       "      <td>53.1000</td>\n",
       "      <td>C123</td>\n",
       "      <td>S</td>\n",
       "      <td>Futrelle</td>\n",
       "      <td>Mrs</td>\n",
       "      <td>Jacques Heath (Lily May Peel)</td>\n",
       "    </tr>\n",
       "    <tr>\n",
       "      <th>4</th>\n",
       "      <td>5</td>\n",
       "      <td>0.0</td>\n",
       "      <td>3</td>\n",
       "      <td>Allen, Mr. William Henry</td>\n",
       "      <td>male</td>\n",
       "      <td>35.0</td>\n",
       "      <td>0</td>\n",
       "      <td>0</td>\n",
       "      <td>373450</td>\n",
       "      <td>8.0500</td>\n",
       "      <td>NaN</td>\n",
       "      <td>S</td>\n",
       "      <td>Allen</td>\n",
       "      <td>Mr</td>\n",
       "      <td>William Henry</td>\n",
       "    </tr>\n",
       "    <tr>\n",
       "      <th>...</th>\n",
       "      <td>...</td>\n",
       "      <td>...</td>\n",
       "      <td>...</td>\n",
       "      <td>...</td>\n",
       "      <td>...</td>\n",
       "      <td>...</td>\n",
       "      <td>...</td>\n",
       "      <td>...</td>\n",
       "      <td>...</td>\n",
       "      <td>...</td>\n",
       "      <td>...</td>\n",
       "      <td>...</td>\n",
       "      <td>...</td>\n",
       "      <td>...</td>\n",
       "      <td>...</td>\n",
       "    </tr>\n",
       "    <tr>\n",
       "      <th>1304</th>\n",
       "      <td>1305</td>\n",
       "      <td>NaN</td>\n",
       "      <td>3</td>\n",
       "      <td>Spector, Mr. Woolf</td>\n",
       "      <td>male</td>\n",
       "      <td>NaN</td>\n",
       "      <td>0</td>\n",
       "      <td>0</td>\n",
       "      <td>A.5. 3236</td>\n",
       "      <td>8.0500</td>\n",
       "      <td>NaN</td>\n",
       "      <td>S</td>\n",
       "      <td>Spector</td>\n",
       "      <td>Mr</td>\n",
       "      <td>Woolf</td>\n",
       "    </tr>\n",
       "    <tr>\n",
       "      <th>1305</th>\n",
       "      <td>1306</td>\n",
       "      <td>NaN</td>\n",
       "      <td>1</td>\n",
       "      <td>Oliva y Ocana, Dona. Fermina</td>\n",
       "      <td>female</td>\n",
       "      <td>39.0</td>\n",
       "      <td>0</td>\n",
       "      <td>0</td>\n",
       "      <td>PC 17758</td>\n",
       "      <td>108.9000</td>\n",
       "      <td>C105</td>\n",
       "      <td>C</td>\n",
       "      <td>Oliva y Ocana</td>\n",
       "      <td>Dona</td>\n",
       "      <td>Fermina</td>\n",
       "    </tr>\n",
       "    <tr>\n",
       "      <th>1306</th>\n",
       "      <td>1307</td>\n",
       "      <td>NaN</td>\n",
       "      <td>3</td>\n",
       "      <td>Saether, Mr. Simon Sivertsen</td>\n",
       "      <td>male</td>\n",
       "      <td>38.5</td>\n",
       "      <td>0</td>\n",
       "      <td>0</td>\n",
       "      <td>SOTON/O.Q. 3101262</td>\n",
       "      <td>7.2500</td>\n",
       "      <td>NaN</td>\n",
       "      <td>S</td>\n",
       "      <td>Saether</td>\n",
       "      <td>Mr</td>\n",
       "      <td>Simon Sivertsen</td>\n",
       "    </tr>\n",
       "    <tr>\n",
       "      <th>1307</th>\n",
       "      <td>1308</td>\n",
       "      <td>NaN</td>\n",
       "      <td>3</td>\n",
       "      <td>Ware, Mr. Frederick</td>\n",
       "      <td>male</td>\n",
       "      <td>NaN</td>\n",
       "      <td>0</td>\n",
       "      <td>0</td>\n",
       "      <td>359309</td>\n",
       "      <td>8.0500</td>\n",
       "      <td>NaN</td>\n",
       "      <td>S</td>\n",
       "      <td>Ware</td>\n",
       "      <td>Mr</td>\n",
       "      <td>Frederick</td>\n",
       "    </tr>\n",
       "    <tr>\n",
       "      <th>1308</th>\n",
       "      <td>1309</td>\n",
       "      <td>NaN</td>\n",
       "      <td>3</td>\n",
       "      <td>Peter, Master. Michael J</td>\n",
       "      <td>male</td>\n",
       "      <td>NaN</td>\n",
       "      <td>1</td>\n",
       "      <td>1</td>\n",
       "      <td>2668</td>\n",
       "      <td>22.3583</td>\n",
       "      <td>NaN</td>\n",
       "      <td>C</td>\n",
       "      <td>Peter</td>\n",
       "      <td>Master</td>\n",
       "      <td>Michael J</td>\n",
       "    </tr>\n",
       "  </tbody>\n",
       "</table>\n",
       "<p>1309 rows × 15 columns</p>\n",
       "</div>"
      ],
      "text/plain": [
       "      PassengerId  Survived  Pclass  \\\n",
       "0               1       0.0       3   \n",
       "1               2       1.0       1   \n",
       "2               3       1.0       3   \n",
       "3               4       1.0       1   \n",
       "4               5       0.0       3   \n",
       "...           ...       ...     ...   \n",
       "1304         1305       NaN       3   \n",
       "1305         1306       NaN       1   \n",
       "1306         1307       NaN       3   \n",
       "1307         1308       NaN       3   \n",
       "1308         1309       NaN       3   \n",
       "\n",
       "                                                   Name     Sex   Age  SibSp  \\\n",
       "0                               Braund, Mr. Owen Harris    male  22.0      1   \n",
       "1     Cumings, Mrs. John Bradley (Florence Briggs Th...  female  38.0      1   \n",
       "2                                Heikkinen, Miss. Laina  female  26.0      0   \n",
       "3          Futrelle, Mrs. Jacques Heath (Lily May Peel)  female  35.0      1   \n",
       "4                              Allen, Mr. William Henry    male  35.0      0   \n",
       "...                                                 ...     ...   ...    ...   \n",
       "1304                                 Spector, Mr. Woolf    male   NaN      0   \n",
       "1305                       Oliva y Ocana, Dona. Fermina  female  39.0      0   \n",
       "1306                       Saether, Mr. Simon Sivertsen    male  38.5      0   \n",
       "1307                                Ware, Mr. Frederick    male   NaN      0   \n",
       "1308                           Peter, Master. Michael J    male   NaN      1   \n",
       "\n",
       "      Parch              Ticket      Fare Cabin Embarked    family_name  \\\n",
       "0         0           A/5 21171    7.2500   NaN        S         Braund   \n",
       "1         0            PC 17599   71.2833   C85        C        Cumings   \n",
       "2         0    STON/O2. 3101282    7.9250   NaN        S      Heikkinen   \n",
       "3         0              113803   53.1000  C123        S       Futrelle   \n",
       "4         0              373450    8.0500   NaN        S          Allen   \n",
       "...     ...                 ...       ...   ...      ...            ...   \n",
       "1304      0           A.5. 3236    8.0500   NaN        S        Spector   \n",
       "1305      0            PC 17758  108.9000  C105        C  Oliva y Ocana   \n",
       "1306      0  SOTON/O.Q. 3101262    7.2500   NaN        S        Saether   \n",
       "1307      0              359309    8.0500   NaN        S           Ware   \n",
       "1308      1                2668   22.3583   NaN        C          Peter   \n",
       "\n",
       "     honorific                                   name  \n",
       "0           Mr                            Owen Harris  \n",
       "1          Mrs  John Bradley (Florence Briggs Thayer)  \n",
       "2         Miss                                  Laina  \n",
       "3          Mrs          Jacques Heath (Lily May Peel)  \n",
       "4           Mr                          William Henry  \n",
       "...        ...                                    ...  \n",
       "1304        Mr                                  Woolf  \n",
       "1305      Dona                                Fermina  \n",
       "1306        Mr                        Simon Sivertsen  \n",
       "1307        Mr                              Frederick  \n",
       "1308    Master                              Michael J  \n",
       "\n",
       "[1309 rows x 15 columns]"
      ]
     },
     "execution_count": 54,
     "metadata": {},
     "output_type": "execute_result"
    }
   ],
   "source": [
    "all_df = pd.concat([all_df, name_df], axis=1)\n",
    "all_df"
   ]
  },
  {
   "cell_type": "code",
   "execution_count": 55,
   "id": "ae7a704f",
   "metadata": {
    "execution": {
     "iopub.execute_input": "2024-07-30T07:03:17.017231Z",
     "iopub.status.busy": "2024-07-30T07:03:17.016707Z",
     "iopub.status.idle": "2024-07-30T07:03:17.027207Z",
     "shell.execute_reply": "2024-07-30T07:03:17.026115Z"
    },
    "papermill": {
     "duration": 0.048585,
     "end_time": "2024-07-30T07:03:17.029599",
     "exception": false,
     "start_time": "2024-07-30T07:03:16.981014",
     "status": "completed"
    },
    "tags": []
   },
   "outputs": [
    {
     "name": "stderr",
     "output_type": "stream",
     "text": [
      "/tmp/ipykernel_18/958077698.py:1: FutureWarning: A value is trying to be set on a copy of a DataFrame or Series through chained assignment using an inplace method.\n",
      "The behavior will change in pandas 3.0. This inplace method will never work because the intermediate object on which we are setting values always behaves as a copy.\n",
      "\n",
      "For example, when doing 'df[col].method(value, inplace=True)', try using 'df.method({col: value}, inplace=True)' or df[col] = df[col].method(value) instead, to perform the operation inplace on the original object.\n",
      "\n",
      "\n",
      "  all_df['honorific'].replace(['Mlle','Mme','Ms','Dr','Major','Lady','the Countess','Jonkheer','Col','Rev','Capt','Sir','Don','Dona'],['Miss','Miss','Miss','Mr','Mr','Mrs','Mrs','Other','Other','Other','Mr','Mr','Mr','Mrs'],inplace=True)\n"
     ]
    }
   ],
   "source": [
    "all_df['honorific'].replace(['Mlle','Mme','Ms','Dr','Major','Lady','the Countess','Jonkheer','Col','Rev','Capt','Sir','Don','Dona'],['Miss','Miss','Miss','Mr','Mr','Mrs','Mrs','Other','Other','Other','Mr','Mr','Mr','Mrs'],inplace=True)"
   ]
  },
  {
   "cell_type": "code",
   "execution_count": 56,
   "id": "1aa5b6c7",
   "metadata": {
    "execution": {
     "iopub.execute_input": "2024-07-30T07:03:17.099768Z",
     "iopub.status.busy": "2024-07-30T07:03:17.098820Z",
     "iopub.status.idle": "2024-07-30T07:03:17.122131Z",
     "shell.execute_reply": "2024-07-30T07:03:17.120959Z"
    },
    "papermill": {
     "duration": 0.061077,
     "end_time": "2024-07-30T07:03:17.124593",
     "exception": false,
     "start_time": "2024-07-30T07:03:17.063516",
     "status": "completed"
    },
    "tags": []
   },
   "outputs": [
    {
     "data": {
      "text/html": [
       "<style type=\"text/css\">\n",
       "#T_33493_row0_col0, #T_33493_row0_col2, #T_33493_row0_col4, #T_33493_row1_col1, #T_33493_row1_col3 {\n",
       "  background-color: #ffff66;\n",
       "  color: #000000;\n",
       "}\n",
       "#T_33493_row0_col1, #T_33493_row0_col3, #T_33493_row1_col0, #T_33493_row1_col2, #T_33493_row1_col4 {\n",
       "  background-color: #008066;\n",
       "  color: #f1f1f1;\n",
       "}\n",
       "</style>\n",
       "<table id=\"T_33493\">\n",
       "  <thead>\n",
       "    <tr>\n",
       "      <th class=\"index_name level0\" >honorific</th>\n",
       "      <th id=\"T_33493_level0_col0\" class=\"col_heading level0 col0\" >Master</th>\n",
       "      <th id=\"T_33493_level0_col1\" class=\"col_heading level0 col1\" >Miss</th>\n",
       "      <th id=\"T_33493_level0_col2\" class=\"col_heading level0 col2\" >Mr</th>\n",
       "      <th id=\"T_33493_level0_col3\" class=\"col_heading level0 col3\" >Mrs</th>\n",
       "      <th id=\"T_33493_level0_col4\" class=\"col_heading level0 col4\" >Other</th>\n",
       "    </tr>\n",
       "    <tr>\n",
       "      <th class=\"index_name level0\" >Sex</th>\n",
       "      <th class=\"blank col0\" >&nbsp;</th>\n",
       "      <th class=\"blank col1\" >&nbsp;</th>\n",
       "      <th class=\"blank col2\" >&nbsp;</th>\n",
       "      <th class=\"blank col3\" >&nbsp;</th>\n",
       "      <th class=\"blank col4\" >&nbsp;</th>\n",
       "    </tr>\n",
       "  </thead>\n",
       "  <tbody>\n",
       "    <tr>\n",
       "      <th id=\"T_33493_level0_row0\" class=\"row_heading level0 row0\" >female</th>\n",
       "      <td id=\"T_33493_row0_col0\" class=\"data row0 col0\" >0</td>\n",
       "      <td id=\"T_33493_row0_col1\" class=\"data row0 col1\" >265</td>\n",
       "      <td id=\"T_33493_row0_col2\" class=\"data row0 col2\" >1</td>\n",
       "      <td id=\"T_33493_row0_col3\" class=\"data row0 col3\" >200</td>\n",
       "      <td id=\"T_33493_row0_col4\" class=\"data row0 col4\" >0</td>\n",
       "    </tr>\n",
       "    <tr>\n",
       "      <th id=\"T_33493_level0_row1\" class=\"row_heading level0 row1\" >male</th>\n",
       "      <td id=\"T_33493_row1_col0\" class=\"data row1 col0\" >61</td>\n",
       "      <td id=\"T_33493_row1_col1\" class=\"data row1 col1\" >0</td>\n",
       "      <td id=\"T_33493_row1_col2\" class=\"data row1 col2\" >769</td>\n",
       "      <td id=\"T_33493_row1_col3\" class=\"data row1 col3\" >0</td>\n",
       "      <td id=\"T_33493_row1_col4\" class=\"data row1 col4\" >13</td>\n",
       "    </tr>\n",
       "  </tbody>\n",
       "</table>\n"
      ],
      "text/plain": [
       "<pandas.io.formats.style.Styler at 0x7b7fc104b5b0>"
      ]
     },
     "execution_count": 56,
     "metadata": {},
     "output_type": "execute_result"
    }
   ],
   "source": [
    "pd.crosstab(all_df.honorific, all_df.Sex).T.style.background_gradient(cmap='summer_r')"
   ]
  },
  {
   "cell_type": "code",
   "execution_count": 57,
   "id": "43fca465",
   "metadata": {
    "execution": {
     "iopub.execute_input": "2024-07-30T07:03:17.195842Z",
     "iopub.status.busy": "2024-07-30T07:03:17.195475Z",
     "iopub.status.idle": "2024-07-30T07:03:17.475694Z",
     "shell.execute_reply": "2024-07-30T07:03:17.474647Z"
    },
    "papermill": {
     "duration": 0.319247,
     "end_time": "2024-07-30T07:03:17.478125",
     "exception": false,
     "start_time": "2024-07-30T07:03:17.158878",
     "status": "completed"
    },
    "tags": []
   },
   "outputs": [
    {
     "data": {
      "text/plain": [
       "<Axes: xlabel='honorific', ylabel='Age'>"
      ]
     },
     "execution_count": 57,
     "metadata": {},
     "output_type": "execute_result"
    },
    {
     "data": {
      "image/png": "[encoded data removed]",
      "text/plain": [
       "<Figure size 1800x500 with 1 Axes>"
      ]
     },
     "metadata": {},
     "output_type": "display_data"
    }
   ],
   "source": [
    "plt.figure(figsize=(18,5))\n",
    "sns.boxplot(x='honorific', y='Age', data=all_df)"
   ]
  },
  {
   "cell_type": "code",
   "execution_count": null,
   "id": "f20fb03f",
   "metadata": {
    "papermill": {
     "duration": 0.034854,
     "end_time": "2024-07-30T07:03:17.549001",
     "exception": false,
     "start_time": "2024-07-30T07:03:17.514147",
     "status": "completed"
    },
    "tags": []
   },
   "outputs": [],
   "source": []
  },
  {
   "cell_type": "markdown",
   "id": "2fa4fa80",
   "metadata": {
    "papermill": {
     "duration": 0.035909,
     "end_time": "2024-07-30T07:03:17.620318",
     "exception": false,
     "start_time": "2024-07-30T07:03:17.584409",
     "status": "completed"
    },
    "tags": []
   },
   "source": [
    "### 호칭별 연령 평균값 확인하기"
   ]
  },
  {
   "cell_type": "code",
   "execution_count": 58,
   "id": "1b9b93c0",
   "metadata": {
    "execution": {
     "iopub.execute_input": "2024-07-30T07:03:17.693648Z",
     "iopub.status.busy": "2024-07-30T07:03:17.692752Z",
     "iopub.status.idle": "2024-07-30T07:03:17.706009Z",
     "shell.execute_reply": "2024-07-30T07:03:17.704965Z"
    },
    "papermill": {
     "duration": 0.052563,
     "end_time": "2024-07-30T07:03:17.708421",
     "exception": false,
     "start_time": "2024-07-30T07:03:17.655858",
     "status": "completed"
    },
    "tags": []
   },
   "outputs": [
    {
     "data": {
      "text/html": [
       "<div>\n",
       "<style scoped>\n",
       "    .dataframe tbody tr th:only-of-type {\n",
       "        vertical-align: middle;\n",
       "    }\n",
       "\n",
       "    .dataframe tbody tr th {\n",
       "        vertical-align: top;\n",
       "    }\n",
       "\n",
       "    .dataframe thead th {\n",
       "        text-align: right;\n",
       "    }\n",
       "</style>\n",
       "<table border=\"1\" class=\"dataframe\">\n",
       "  <thead>\n",
       "    <tr style=\"text-align: right;\">\n",
       "      <th></th>\n",
       "      <th>Age</th>\n",
       "    </tr>\n",
       "    <tr>\n",
       "      <th>honorific</th>\n",
       "      <th></th>\n",
       "    </tr>\n",
       "  </thead>\n",
       "  <tbody>\n",
       "    <tr>\n",
       "      <th>Master</th>\n",
       "      <td>5.482642</td>\n",
       "    </tr>\n",
       "    <tr>\n",
       "      <th>Miss</th>\n",
       "      <td>21.834533</td>\n",
       "    </tr>\n",
       "    <tr>\n",
       "      <th>Mr</th>\n",
       "      <td>32.545531</td>\n",
       "    </tr>\n",
       "    <tr>\n",
       "      <th>Mrs</th>\n",
       "      <td>37.046243</td>\n",
       "    </tr>\n",
       "    <tr>\n",
       "      <th>Other</th>\n",
       "      <td>44.923077</td>\n",
       "    </tr>\n",
       "  </tbody>\n",
       "</table>\n",
       "</div>"
      ],
      "text/plain": [
       "                 Age\n",
       "honorific           \n",
       "Master      5.482642\n",
       "Miss       21.834533\n",
       "Mr         32.545531\n",
       "Mrs        37.046243\n",
       "Other      44.923077"
      ]
     },
     "execution_count": 58,
     "metadata": {},
     "output_type": "execute_result"
    }
   ],
   "source": [
    "all_df[['Age', 'honorific']].groupby('honorific').mean()"
   ]
  },
  {
   "cell_type": "code",
   "execution_count": 59,
   "id": "c6e66bca",
   "metadata": {
    "execution": {
     "iopub.execute_input": "2024-07-30T07:03:17.779725Z",
     "iopub.status.busy": "2024-07-30T07:03:17.779374Z",
     "iopub.status.idle": "2024-07-30T07:03:17.791362Z",
     "shell.execute_reply": "2024-07-30T07:03:17.790306Z"
    },
    "papermill": {
     "duration": 0.050277,
     "end_time": "2024-07-30T07:03:17.793518",
     "exception": false,
     "start_time": "2024-07-30T07:03:17.743241",
     "status": "completed"
    },
    "tags": []
   },
   "outputs": [
    {
     "data": {
      "text/html": [
       "<div>\n",
       "<style scoped>\n",
       "    .dataframe tbody tr th:only-of-type {\n",
       "        vertical-align: middle;\n",
       "    }\n",
       "\n",
       "    .dataframe tbody tr th {\n",
       "        vertical-align: top;\n",
       "    }\n",
       "\n",
       "    .dataframe thead th {\n",
       "        text-align: right;\n",
       "    }\n",
       "</style>\n",
       "<table border=\"1\" class=\"dataframe\">\n",
       "  <thead>\n",
       "    <tr style=\"text-align: right;\">\n",
       "      <th></th>\n",
       "      <th>family_name</th>\n",
       "      <th>honorific</th>\n",
       "      <th>name</th>\n",
       "    </tr>\n",
       "  </thead>\n",
       "  <tbody>\n",
       "    <tr>\n",
       "      <th>0</th>\n",
       "      <td>Braund</td>\n",
       "      <td>Mr</td>\n",
       "      <td>Owen Harris</td>\n",
       "    </tr>\n",
       "    <tr>\n",
       "      <th>1</th>\n",
       "      <td>Cumings</td>\n",
       "      <td>Mrs</td>\n",
       "      <td>John Bradley (Florence Briggs Thayer)</td>\n",
       "    </tr>\n",
       "    <tr>\n",
       "      <th>2</th>\n",
       "      <td>Heikkinen</td>\n",
       "      <td>Miss</td>\n",
       "      <td>Laina</td>\n",
       "    </tr>\n",
       "    <tr>\n",
       "      <th>3</th>\n",
       "      <td>Futrelle</td>\n",
       "      <td>Mrs</td>\n",
       "      <td>Jacques Heath (Lily May Peel)</td>\n",
       "    </tr>\n",
       "    <tr>\n",
       "      <th>4</th>\n",
       "      <td>Allen</td>\n",
       "      <td>Mr</td>\n",
       "      <td>William Henry</td>\n",
       "    </tr>\n",
       "    <tr>\n",
       "      <th>...</th>\n",
       "      <td>...</td>\n",
       "      <td>...</td>\n",
       "      <td>...</td>\n",
       "    </tr>\n",
       "    <tr>\n",
       "      <th>1304</th>\n",
       "      <td>Spector</td>\n",
       "      <td>Mr</td>\n",
       "      <td>Woolf</td>\n",
       "    </tr>\n",
       "    <tr>\n",
       "      <th>1305</th>\n",
       "      <td>Oliva y Ocana</td>\n",
       "      <td>Dona</td>\n",
       "      <td>Fermina</td>\n",
       "    </tr>\n",
       "    <tr>\n",
       "      <th>1306</th>\n",
       "      <td>Saether</td>\n",
       "      <td>Mr</td>\n",
       "      <td>Simon Sivertsen</td>\n",
       "    </tr>\n",
       "    <tr>\n",
       "      <th>1307</th>\n",
       "      <td>Ware</td>\n",
       "      <td>Mr</td>\n",
       "      <td>Frederick</td>\n",
       "    </tr>\n",
       "    <tr>\n",
       "      <th>1308</th>\n",
       "      <td>Peter</td>\n",
       "      <td>Master</td>\n",
       "      <td>Michael J</td>\n",
       "    </tr>\n",
       "  </tbody>\n",
       "</table>\n",
       "<p>1309 rows × 3 columns</p>\n",
       "</div>"
      ],
      "text/plain": [
       "        family_name honorific                                   name\n",
       "0            Braund        Mr                            Owen Harris\n",
       "1           Cumings       Mrs  John Bradley (Florence Briggs Thayer)\n",
       "2         Heikkinen      Miss                                  Laina\n",
       "3          Futrelle       Mrs          Jacques Heath (Lily May Peel)\n",
       "4             Allen        Mr                          William Henry\n",
       "...             ...       ...                                    ...\n",
       "1304        Spector        Mr                                  Woolf\n",
       "1305  Oliva y Ocana      Dona                                Fermina\n",
       "1306        Saether        Mr                        Simon Sivertsen\n",
       "1307           Ware        Mr                              Frederick\n",
       "1308          Peter    Master                              Michael J\n",
       "\n",
       "[1309 rows x 3 columns]"
      ]
     },
     "execution_count": 59,
     "metadata": {},
     "output_type": "execute_result"
    }
   ],
   "source": [
    "name_df"
   ]
  },
  {
   "cell_type": "code",
   "execution_count": 60,
   "id": "79e234eb",
   "metadata": {
    "execution": {
     "iopub.execute_input": "2024-07-30T07:03:17.865842Z",
     "iopub.status.busy": "2024-07-30T07:03:17.865435Z",
     "iopub.status.idle": "2024-07-30T07:03:17.878802Z",
     "shell.execute_reply": "2024-07-30T07:03:17.877779Z"
    },
    "papermill": {
     "duration": 0.052177,
     "end_time": "2024-07-30T07:03:17.881014",
     "exception": false,
     "start_time": "2024-07-30T07:03:17.828837",
     "status": "completed"
    },
    "tags": []
   },
   "outputs": [
    {
     "data": {
      "text/html": [
       "<div>\n",
       "<style scoped>\n",
       "    .dataframe tbody tr th:only-of-type {\n",
       "        vertical-align: middle;\n",
       "    }\n",
       "\n",
       "    .dataframe tbody tr th {\n",
       "        vertical-align: top;\n",
       "    }\n",
       "\n",
       "    .dataframe thead th {\n",
       "        text-align: right;\n",
       "    }\n",
       "</style>\n",
       "<table border=\"1\" class=\"dataframe\">\n",
       "  <thead>\n",
       "    <tr style=\"text-align: right;\">\n",
       "      <th></th>\n",
       "      <th>family_name</th>\n",
       "      <th>honorific</th>\n",
       "      <th>name</th>\n",
       "    </tr>\n",
       "  </thead>\n",
       "  <tbody>\n",
       "    <tr>\n",
       "      <th>0</th>\n",
       "      <td>Braund</td>\n",
       "      <td>Mr</td>\n",
       "      <td>Owen Harris</td>\n",
       "    </tr>\n",
       "    <tr>\n",
       "      <th>1</th>\n",
       "      <td>Cumings</td>\n",
       "      <td>Mrs</td>\n",
       "      <td>John Bradley (Florence Briggs Thayer)</td>\n",
       "    </tr>\n",
       "    <tr>\n",
       "      <th>2</th>\n",
       "      <td>Heikkinen</td>\n",
       "      <td>Miss</td>\n",
       "      <td>Laina</td>\n",
       "    </tr>\n",
       "    <tr>\n",
       "      <th>3</th>\n",
       "      <td>Futrelle</td>\n",
       "      <td>Mrs</td>\n",
       "      <td>Jacques Heath (Lily May Peel)</td>\n",
       "    </tr>\n",
       "    <tr>\n",
       "      <th>4</th>\n",
       "      <td>Allen</td>\n",
       "      <td>Mr</td>\n",
       "      <td>William Henry</td>\n",
       "    </tr>\n",
       "    <tr>\n",
       "      <th>...</th>\n",
       "      <td>...</td>\n",
       "      <td>...</td>\n",
       "      <td>...</td>\n",
       "    </tr>\n",
       "    <tr>\n",
       "      <th>1304</th>\n",
       "      <td>Spector</td>\n",
       "      <td>Mr</td>\n",
       "      <td>Woolf</td>\n",
       "    </tr>\n",
       "    <tr>\n",
       "      <th>1305</th>\n",
       "      <td>Oliva y Ocana</td>\n",
       "      <td>Mrs</td>\n",
       "      <td>Fermina</td>\n",
       "    </tr>\n",
       "    <tr>\n",
       "      <th>1306</th>\n",
       "      <td>Saether</td>\n",
       "      <td>Mr</td>\n",
       "      <td>Simon Sivertsen</td>\n",
       "    </tr>\n",
       "    <tr>\n",
       "      <th>1307</th>\n",
       "      <td>Ware</td>\n",
       "      <td>Mr</td>\n",
       "      <td>Frederick</td>\n",
       "    </tr>\n",
       "    <tr>\n",
       "      <th>1308</th>\n",
       "      <td>Peter</td>\n",
       "      <td>Master</td>\n",
       "      <td>Michael J</td>\n",
       "    </tr>\n",
       "  </tbody>\n",
       "</table>\n",
       "<p>1309 rows × 3 columns</p>\n",
       "</div>"
      ],
      "text/plain": [
       "        family_name honorific                                   name\n",
       "0            Braund        Mr                            Owen Harris\n",
       "1           Cumings       Mrs  John Bradley (Florence Briggs Thayer)\n",
       "2         Heikkinen      Miss                                  Laina\n",
       "3          Futrelle       Mrs          Jacques Heath (Lily May Peel)\n",
       "4             Allen        Mr                          William Henry\n",
       "...             ...       ...                                    ...\n",
       "1304        Spector        Mr                                  Woolf\n",
       "1305  Oliva y Ocana       Mrs                                Fermina\n",
       "1306        Saether        Mr                        Simon Sivertsen\n",
       "1307           Ware        Mr                              Frederick\n",
       "1308          Peter    Master                              Michael J\n",
       "\n",
       "[1309 rows x 3 columns]"
      ]
     },
     "execution_count": 60,
     "metadata": {},
     "output_type": "execute_result"
    }
   ],
   "source": [
    "all_df[['family_name','honorific','name']]"
   ]
  },
  {
   "cell_type": "markdown",
   "id": "527ee71f",
   "metadata": {
    "papermill": {
     "duration": 0.035333,
     "end_time": "2024-07-30T07:03:17.952147",
     "exception": false,
     "start_time": "2024-07-30T07:03:17.916814",
     "status": "completed"
    },
    "tags": []
   },
   "source": [
    "### 호칭별 생존율 차이 확인하기"
   ]
  },
  {
   "cell_type": "code",
   "execution_count": 61,
   "id": "b8c13bab",
   "metadata": {
    "execution": {
     "iopub.execute_input": "2024-07-30T07:03:18.025971Z",
     "iopub.status.busy": "2024-07-30T07:03:18.025565Z",
     "iopub.status.idle": "2024-07-30T07:03:18.035559Z",
     "shell.execute_reply": "2024-07-30T07:03:18.034211Z"
    },
    "papermill": {
     "duration": 0.050048,
     "end_time": "2024-07-30T07:03:18.038044",
     "exception": false,
     "start_time": "2024-07-30T07:03:17.987996",
     "status": "completed"
    },
    "tags": []
   },
   "outputs": [],
   "source": [
    "train_df = pd.concat([train_df, all_df[['family_name','honorific','name']][0:len(train_df)].reset_index(drop=True)], axis=1)\n",
    "test_df = pd.concat([test_df, all_df[['family_name','honorific','name']][len(train_df):].reset_index(drop=True)], axis=1)"
   ]
  },
  {
   "cell_type": "code",
   "execution_count": 62,
   "id": "daf165b2",
   "metadata": {
    "execution": {
     "iopub.execute_input": "2024-07-30T07:03:18.110698Z",
     "iopub.status.busy": "2024-07-30T07:03:18.110285Z",
     "iopub.status.idle": "2024-07-30T07:03:18.131694Z",
     "shell.execute_reply": "2024-07-30T07:03:18.130660Z"
    },
    "papermill": {
     "duration": 0.060417,
     "end_time": "2024-07-30T07:03:18.134086",
     "exception": false,
     "start_time": "2024-07-30T07:03:18.073669",
     "status": "completed"
    },
    "tags": []
   },
   "outputs": [
    {
     "data": {
      "text/html": [
       "<div>\n",
       "<style scoped>\n",
       "    .dataframe tbody tr th:only-of-type {\n",
       "        vertical-align: middle;\n",
       "    }\n",
       "\n",
       "    .dataframe tbody tr th {\n",
       "        vertical-align: top;\n",
       "    }\n",
       "\n",
       "    .dataframe thead th {\n",
       "        text-align: right;\n",
       "    }\n",
       "</style>\n",
       "<table border=\"1\" class=\"dataframe\">\n",
       "  <thead>\n",
       "    <tr style=\"text-align: right;\">\n",
       "      <th></th>\n",
       "      <th>PassengerId</th>\n",
       "      <th>Survived</th>\n",
       "      <th>Pclass</th>\n",
       "      <th>Name</th>\n",
       "      <th>Sex</th>\n",
       "      <th>Age</th>\n",
       "      <th>SibSp</th>\n",
       "      <th>Parch</th>\n",
       "      <th>Ticket</th>\n",
       "      <th>Fare</th>\n",
       "      <th>Cabin</th>\n",
       "      <th>Embarked</th>\n",
       "      <th>family_name</th>\n",
       "      <th>honorific</th>\n",
       "      <th>name</th>\n",
       "    </tr>\n",
       "  </thead>\n",
       "  <tbody>\n",
       "    <tr>\n",
       "      <th>0</th>\n",
       "      <td>1</td>\n",
       "      <td>0</td>\n",
       "      <td>3</td>\n",
       "      <td>Braund, Mr. Owen Harris</td>\n",
       "      <td>male</td>\n",
       "      <td>22.0</td>\n",
       "      <td>1</td>\n",
       "      <td>0</td>\n",
       "      <td>A/5 21171</td>\n",
       "      <td>7.2500</td>\n",
       "      <td>NaN</td>\n",
       "      <td>S</td>\n",
       "      <td>Braund</td>\n",
       "      <td>Mr</td>\n",
       "      <td>Owen Harris</td>\n",
       "    </tr>\n",
       "    <tr>\n",
       "      <th>1</th>\n",
       "      <td>2</td>\n",
       "      <td>1</td>\n",
       "      <td>1</td>\n",
       "      <td>Cumings, Mrs. John Bradley (Florence Briggs Th...</td>\n",
       "      <td>female</td>\n",
       "      <td>38.0</td>\n",
       "      <td>1</td>\n",
       "      <td>0</td>\n",
       "      <td>PC 17599</td>\n",
       "      <td>71.2833</td>\n",
       "      <td>C85</td>\n",
       "      <td>C</td>\n",
       "      <td>Cumings</td>\n",
       "      <td>Mrs</td>\n",
       "      <td>John Bradley (Florence Briggs Thayer)</td>\n",
       "    </tr>\n",
       "    <tr>\n",
       "      <th>2</th>\n",
       "      <td>3</td>\n",
       "      <td>1</td>\n",
       "      <td>3</td>\n",
       "      <td>Heikkinen, Miss. Laina</td>\n",
       "      <td>female</td>\n",
       "      <td>26.0</td>\n",
       "      <td>0</td>\n",
       "      <td>0</td>\n",
       "      <td>STON/O2. 3101282</td>\n",
       "      <td>7.9250</td>\n",
       "      <td>NaN</td>\n",
       "      <td>S</td>\n",
       "      <td>Heikkinen</td>\n",
       "      <td>Miss</td>\n",
       "      <td>Laina</td>\n",
       "    </tr>\n",
       "    <tr>\n",
       "      <th>3</th>\n",
       "      <td>4</td>\n",
       "      <td>1</td>\n",
       "      <td>1</td>\n",
       "      <td>Futrelle, Mrs. Jacques Heath (Lily May Peel)</td>\n",
       "      <td>female</td>\n",
       "      <td>35.0</td>\n",
       "      <td>1</td>\n",
       "      <td>0</td>\n",
       "      <td>113803</td>\n",
       "      <td>53.1000</td>\n",
       "      <td>C123</td>\n",
       "      <td>S</td>\n",
       "      <td>Futrelle</td>\n",
       "      <td>Mrs</td>\n",
       "      <td>Jacques Heath (Lily May Peel)</td>\n",
       "    </tr>\n",
       "    <tr>\n",
       "      <th>4</th>\n",
       "      <td>5</td>\n",
       "      <td>0</td>\n",
       "      <td>3</td>\n",
       "      <td>Allen, Mr. William Henry</td>\n",
       "      <td>male</td>\n",
       "      <td>35.0</td>\n",
       "      <td>0</td>\n",
       "      <td>0</td>\n",
       "      <td>373450</td>\n",
       "      <td>8.0500</td>\n",
       "      <td>NaN</td>\n",
       "      <td>S</td>\n",
       "      <td>Allen</td>\n",
       "      <td>Mr</td>\n",
       "      <td>William Henry</td>\n",
       "    </tr>\n",
       "    <tr>\n",
       "      <th>...</th>\n",
       "      <td>...</td>\n",
       "      <td>...</td>\n",
       "      <td>...</td>\n",
       "      <td>...</td>\n",
       "      <td>...</td>\n",
       "      <td>...</td>\n",
       "      <td>...</td>\n",
       "      <td>...</td>\n",
       "      <td>...</td>\n",
       "      <td>...</td>\n",
       "      <td>...</td>\n",
       "      <td>...</td>\n",
       "      <td>...</td>\n",
       "      <td>...</td>\n",
       "      <td>...</td>\n",
       "    </tr>\n",
       "    <tr>\n",
       "      <th>886</th>\n",
       "      <td>887</td>\n",
       "      <td>0</td>\n",
       "      <td>2</td>\n",
       "      <td>Montvila, Rev. Juozas</td>\n",
       "      <td>male</td>\n",
       "      <td>27.0</td>\n",
       "      <td>0</td>\n",
       "      <td>0</td>\n",
       "      <td>211536</td>\n",
       "      <td>13.0000</td>\n",
       "      <td>NaN</td>\n",
       "      <td>S</td>\n",
       "      <td>Montvila</td>\n",
       "      <td>Other</td>\n",
       "      <td>Juozas</td>\n",
       "    </tr>\n",
       "    <tr>\n",
       "      <th>887</th>\n",
       "      <td>888</td>\n",
       "      <td>1</td>\n",
       "      <td>1</td>\n",
       "      <td>Graham, Miss. Margaret Edith</td>\n",
       "      <td>female</td>\n",
       "      <td>19.0</td>\n",
       "      <td>0</td>\n",
       "      <td>0</td>\n",
       "      <td>112053</td>\n",
       "      <td>30.0000</td>\n",
       "      <td>B42</td>\n",
       "      <td>S</td>\n",
       "      <td>Graham</td>\n",
       "      <td>Miss</td>\n",
       "      <td>Margaret Edith</td>\n",
       "    </tr>\n",
       "    <tr>\n",
       "      <th>888</th>\n",
       "      <td>889</td>\n",
       "      <td>0</td>\n",
       "      <td>3</td>\n",
       "      <td>Johnston, Miss. Catherine Helen \"Carrie\"</td>\n",
       "      <td>female</td>\n",
       "      <td>NaN</td>\n",
       "      <td>1</td>\n",
       "      <td>2</td>\n",
       "      <td>W./C. 6607</td>\n",
       "      <td>23.4500</td>\n",
       "      <td>NaN</td>\n",
       "      <td>S</td>\n",
       "      <td>Johnston</td>\n",
       "      <td>Miss</td>\n",
       "      <td>Catherine Helen \"Carrie\"</td>\n",
       "    </tr>\n",
       "    <tr>\n",
       "      <th>889</th>\n",
       "      <td>890</td>\n",
       "      <td>1</td>\n",
       "      <td>1</td>\n",
       "      <td>Behr, Mr. Karl Howell</td>\n",
       "      <td>male</td>\n",
       "      <td>26.0</td>\n",
       "      <td>0</td>\n",
       "      <td>0</td>\n",
       "      <td>111369</td>\n",
       "      <td>30.0000</td>\n",
       "      <td>C148</td>\n",
       "      <td>C</td>\n",
       "      <td>Behr</td>\n",
       "      <td>Mr</td>\n",
       "      <td>Karl Howell</td>\n",
       "    </tr>\n",
       "    <tr>\n",
       "      <th>890</th>\n",
       "      <td>891</td>\n",
       "      <td>0</td>\n",
       "      <td>3</td>\n",
       "      <td>Dooley, Mr. Patrick</td>\n",
       "      <td>male</td>\n",
       "      <td>32.0</td>\n",
       "      <td>0</td>\n",
       "      <td>0</td>\n",
       "      <td>370376</td>\n",
       "      <td>7.7500</td>\n",
       "      <td>NaN</td>\n",
       "      <td>Q</td>\n",
       "      <td>Dooley</td>\n",
       "      <td>Mr</td>\n",
       "      <td>Patrick</td>\n",
       "    </tr>\n",
       "  </tbody>\n",
       "</table>\n",
       "<p>891 rows × 15 columns</p>\n",
       "</div>"
      ],
      "text/plain": [
       "     PassengerId  Survived  Pclass  \\\n",
       "0              1         0       3   \n",
       "1              2         1       1   \n",
       "2              3         1       3   \n",
       "3              4         1       1   \n",
       "4              5         0       3   \n",
       "..           ...       ...     ...   \n",
       "886          887         0       2   \n",
       "887          888         1       1   \n",
       "888          889         0       3   \n",
       "889          890         1       1   \n",
       "890          891         0       3   \n",
       "\n",
       "                                                  Name     Sex   Age  SibSp  \\\n",
       "0                              Braund, Mr. Owen Harris    male  22.0      1   \n",
       "1    Cumings, Mrs. John Bradley (Florence Briggs Th...  female  38.0      1   \n",
       "2                               Heikkinen, Miss. Laina  female  26.0      0   \n",
       "3         Futrelle, Mrs. Jacques Heath (Lily May Peel)  female  35.0      1   \n",
       "4                             Allen, Mr. William Henry    male  35.0      0   \n",
       "..                                                 ...     ...   ...    ...   \n",
       "886                              Montvila, Rev. Juozas    male  27.0      0   \n",
       "887                       Graham, Miss. Margaret Edith  female  19.0      0   \n",
       "888           Johnston, Miss. Catherine Helen \"Carrie\"  female   NaN      1   \n",
       "889                              Behr, Mr. Karl Howell    male  26.0      0   \n",
       "890                                Dooley, Mr. Patrick    male  32.0      0   \n",
       "\n",
       "     Parch            Ticket     Fare Cabin Embarked family_name honorific  \\\n",
       "0        0         A/5 21171   7.2500   NaN        S      Braund        Mr   \n",
       "1        0          PC 17599  71.2833   C85        C     Cumings       Mrs   \n",
       "2        0  STON/O2. 3101282   7.9250   NaN        S   Heikkinen      Miss   \n",
       "3        0            113803  53.1000  C123        S    Futrelle       Mrs   \n",
       "4        0            373450   8.0500   NaN        S       Allen        Mr   \n",
       "..     ...               ...      ...   ...      ...         ...       ...   \n",
       "886      0            211536  13.0000   NaN        S    Montvila     Other   \n",
       "887      0            112053  30.0000   B42        S      Graham      Miss   \n",
       "888      2        W./C. 6607  23.4500   NaN        S    Johnston      Miss   \n",
       "889      0            111369  30.0000  C148        C        Behr        Mr   \n",
       "890      0            370376   7.7500   NaN        Q      Dooley        Mr   \n",
       "\n",
       "                                      name  \n",
       "0                              Owen Harris  \n",
       "1    John Bradley (Florence Briggs Thayer)  \n",
       "2                                    Laina  \n",
       "3            Jacques Heath (Lily May Peel)  \n",
       "4                            William Henry  \n",
       "..                                     ...  \n",
       "886                                 Juozas  \n",
       "887                         Margaret Edith  \n",
       "888               Catherine Helen \"Carrie\"  \n",
       "889                            Karl Howell  \n",
       "890                                Patrick  \n",
       "\n",
       "[891 rows x 15 columns]"
      ]
     },
     "execution_count": 62,
     "metadata": {},
     "output_type": "execute_result"
    }
   ],
   "source": [
    "train_df"
   ]
  },
  {
   "cell_type": "code",
   "execution_count": 63,
   "id": "d60e4a0f",
   "metadata": {
    "execution": {
     "iopub.execute_input": "2024-07-30T07:03:18.208774Z",
     "iopub.status.busy": "2024-07-30T07:03:18.208412Z",
     "iopub.status.idle": "2024-07-30T07:03:18.492779Z",
     "shell.execute_reply": "2024-07-30T07:03:18.491704Z"
    },
    "papermill": {
     "duration": 0.324737,
     "end_time": "2024-07-30T07:03:18.495408",
     "exception": false,
     "start_time": "2024-07-30T07:03:18.170671",
     "status": "completed"
    },
    "tags": []
   },
   "outputs": [
    {
     "data": {
      "text/plain": [
       "<Axes: xlabel='honorific'>"
      ]
     },
     "execution_count": 63,
     "metadata": {},
     "output_type": "execute_result"
    },
    {
     "data": {
      "image/png": "[encoded data removed]",
      "text/plain": [
       "<Figure size 640x480 with 1 Axes>"
      ]
     },
     "metadata": {},
     "output_type": "display_data"
    }
   ],
   "source": [
    "honorific_df = train_df[['honorific','Survived','PassengerId']].dropna().groupby(['honorific','Survived']).count().unstack()\n",
    "honorific_df.plot.bar(stacked=True)"
   ]
  },
  {
   "cell_type": "markdown",
   "id": "c3923f5d",
   "metadata": {
    "papermill": {
     "duration": 0.035836,
     "end_time": "2024-07-30T07:03:18.568557",
     "exception": false,
     "start_time": "2024-07-30T07:03:18.532721",
     "status": "completed"
    },
    "tags": []
   },
   "source": [
    "### 연령 결측치를 호칭별 평균 연령으로 보완하기"
   ]
  },
  {
   "cell_type": "code",
   "execution_count": 64,
   "id": "41ff3804",
   "metadata": {
    "execution": {
     "iopub.execute_input": "2024-07-30T07:03:18.643685Z",
     "iopub.status.busy": "2024-07-30T07:03:18.642723Z",
     "iopub.status.idle": "2024-07-30T07:03:18.652034Z",
     "shell.execute_reply": "2024-07-30T07:03:18.650891Z"
    },
    "papermill": {
     "duration": 0.049063,
     "end_time": "2024-07-30T07:03:18.654329",
     "exception": false,
     "start_time": "2024-07-30T07:03:18.605266",
     "status": "completed"
    },
    "tags": []
   },
   "outputs": [],
   "source": [
    "honorific_age_mean = all_df[['honorific','Age']].groupby('honorific').mean().reset_index()\n",
    "honorific_age_mean.columns = ['honorific','honorific_Age']"
   ]
  },
  {
   "cell_type": "code",
   "execution_count": 65,
   "id": "16486237",
   "metadata": {
    "execution": {
     "iopub.execute_input": "2024-07-30T07:03:18.729677Z",
     "iopub.status.busy": "2024-07-30T07:03:18.728725Z",
     "iopub.status.idle": "2024-07-30T07:03:18.742707Z",
     "shell.execute_reply": "2024-07-30T07:03:18.741560Z"
    },
    "papermill": {
     "duration": 0.054378,
     "end_time": "2024-07-30T07:03:18.745347",
     "exception": false,
     "start_time": "2024-07-30T07:03:18.690969",
     "status": "completed"
    },
    "tags": []
   },
   "outputs": [],
   "source": [
    "all_df = pd.merge(all_df, honorific_age_mean, on='honorific', how='left')\n",
    "all_df.loc[(all_df['Age'].isnull()), 'Age'] = all_df['honorific_Age'] # 결측값을 평균값으로 대체\n",
    "all_df = all_df.drop(['honorific_Age'], axis=1)"
   ]
  },
  {
   "cell_type": "code",
   "execution_count": 66,
   "id": "21dda617",
   "metadata": {
    "execution": {
     "iopub.execute_input": "2024-07-30T07:03:18.820766Z",
     "iopub.status.busy": "2024-07-30T07:03:18.820405Z",
     "iopub.status.idle": "2024-07-30T07:03:18.841259Z",
     "shell.execute_reply": "2024-07-30T07:03:18.840110Z"
    },
    "papermill": {
     "duration": 0.060916,
     "end_time": "2024-07-30T07:03:18.843599",
     "exception": false,
     "start_time": "2024-07-30T07:03:18.782683",
     "status": "completed"
    },
    "tags": []
   },
   "outputs": [
    {
     "data": {
      "text/html": [
       "<div>\n",
       "<style scoped>\n",
       "    .dataframe tbody tr th:only-of-type {\n",
       "        vertical-align: middle;\n",
       "    }\n",
       "\n",
       "    .dataframe tbody tr th {\n",
       "        vertical-align: top;\n",
       "    }\n",
       "\n",
       "    .dataframe thead th {\n",
       "        text-align: right;\n",
       "    }\n",
       "</style>\n",
       "<table border=\"1\" class=\"dataframe\">\n",
       "  <thead>\n",
       "    <tr style=\"text-align: right;\">\n",
       "      <th></th>\n",
       "      <th>PassengerId</th>\n",
       "      <th>Survived</th>\n",
       "      <th>Pclass</th>\n",
       "      <th>Name</th>\n",
       "      <th>Sex</th>\n",
       "      <th>Age</th>\n",
       "      <th>SibSp</th>\n",
       "      <th>Parch</th>\n",
       "      <th>Ticket</th>\n",
       "      <th>Fare</th>\n",
       "      <th>Cabin</th>\n",
       "      <th>Embarked</th>\n",
       "      <th>family_name</th>\n",
       "      <th>honorific</th>\n",
       "      <th>name</th>\n",
       "    </tr>\n",
       "  </thead>\n",
       "  <tbody>\n",
       "    <tr>\n",
       "      <th>0</th>\n",
       "      <td>1</td>\n",
       "      <td>0.0</td>\n",
       "      <td>3</td>\n",
       "      <td>Braund, Mr. Owen Harris</td>\n",
       "      <td>male</td>\n",
       "      <td>22.000000</td>\n",
       "      <td>1</td>\n",
       "      <td>0</td>\n",
       "      <td>A/5 21171</td>\n",
       "      <td>7.2500</td>\n",
       "      <td>NaN</td>\n",
       "      <td>S</td>\n",
       "      <td>Braund</td>\n",
       "      <td>Mr</td>\n",
       "      <td>Owen Harris</td>\n",
       "    </tr>\n",
       "    <tr>\n",
       "      <th>1</th>\n",
       "      <td>2</td>\n",
       "      <td>1.0</td>\n",
       "      <td>1</td>\n",
       "      <td>Cumings, Mrs. John Bradley (Florence Briggs Th...</td>\n",
       "      <td>female</td>\n",
       "      <td>38.000000</td>\n",
       "      <td>1</td>\n",
       "      <td>0</td>\n",
       "      <td>PC 17599</td>\n",
       "      <td>71.2833</td>\n",
       "      <td>C85</td>\n",
       "      <td>C</td>\n",
       "      <td>Cumings</td>\n",
       "      <td>Mrs</td>\n",
       "      <td>John Bradley (Florence Briggs Thayer)</td>\n",
       "    </tr>\n",
       "    <tr>\n",
       "      <th>2</th>\n",
       "      <td>3</td>\n",
       "      <td>1.0</td>\n",
       "      <td>3</td>\n",
       "      <td>Heikkinen, Miss. Laina</td>\n",
       "      <td>female</td>\n",
       "      <td>26.000000</td>\n",
       "      <td>0</td>\n",
       "      <td>0</td>\n",
       "      <td>STON/O2. 3101282</td>\n",
       "      <td>7.9250</td>\n",
       "      <td>NaN</td>\n",
       "      <td>S</td>\n",
       "      <td>Heikkinen</td>\n",
       "      <td>Miss</td>\n",
       "      <td>Laina</td>\n",
       "    </tr>\n",
       "    <tr>\n",
       "      <th>3</th>\n",
       "      <td>4</td>\n",
       "      <td>1.0</td>\n",
       "      <td>1</td>\n",
       "      <td>Futrelle, Mrs. Jacques Heath (Lily May Peel)</td>\n",
       "      <td>female</td>\n",
       "      <td>35.000000</td>\n",
       "      <td>1</td>\n",
       "      <td>0</td>\n",
       "      <td>113803</td>\n",
       "      <td>53.1000</td>\n",
       "      <td>C123</td>\n",
       "      <td>S</td>\n",
       "      <td>Futrelle</td>\n",
       "      <td>Mrs</td>\n",
       "      <td>Jacques Heath (Lily May Peel)</td>\n",
       "    </tr>\n",
       "    <tr>\n",
       "      <th>4</th>\n",
       "      <td>5</td>\n",
       "      <td>0.0</td>\n",
       "      <td>3</td>\n",
       "      <td>Allen, Mr. William Henry</td>\n",
       "      <td>male</td>\n",
       "      <td>35.000000</td>\n",
       "      <td>0</td>\n",
       "      <td>0</td>\n",
       "      <td>373450</td>\n",
       "      <td>8.0500</td>\n",
       "      <td>NaN</td>\n",
       "      <td>S</td>\n",
       "      <td>Allen</td>\n",
       "      <td>Mr</td>\n",
       "      <td>William Henry</td>\n",
       "    </tr>\n",
       "    <tr>\n",
       "      <th>...</th>\n",
       "      <td>...</td>\n",
       "      <td>...</td>\n",
       "      <td>...</td>\n",
       "      <td>...</td>\n",
       "      <td>...</td>\n",
       "      <td>...</td>\n",
       "      <td>...</td>\n",
       "      <td>...</td>\n",
       "      <td>...</td>\n",
       "      <td>...</td>\n",
       "      <td>...</td>\n",
       "      <td>...</td>\n",
       "      <td>...</td>\n",
       "      <td>...</td>\n",
       "      <td>...</td>\n",
       "    </tr>\n",
       "    <tr>\n",
       "      <th>1304</th>\n",
       "      <td>1305</td>\n",
       "      <td>NaN</td>\n",
       "      <td>3</td>\n",
       "      <td>Spector, Mr. Woolf</td>\n",
       "      <td>male</td>\n",
       "      <td>32.545531</td>\n",
       "      <td>0</td>\n",
       "      <td>0</td>\n",
       "      <td>A.5. 3236</td>\n",
       "      <td>8.0500</td>\n",
       "      <td>NaN</td>\n",
       "      <td>S</td>\n",
       "      <td>Spector</td>\n",
       "      <td>Mr</td>\n",
       "      <td>Woolf</td>\n",
       "    </tr>\n",
       "    <tr>\n",
       "      <th>1305</th>\n",
       "      <td>1306</td>\n",
       "      <td>NaN</td>\n",
       "      <td>1</td>\n",
       "      <td>Oliva y Ocana, Dona. Fermina</td>\n",
       "      <td>female</td>\n",
       "      <td>39.000000</td>\n",
       "      <td>0</td>\n",
       "      <td>0</td>\n",
       "      <td>PC 17758</td>\n",
       "      <td>108.9000</td>\n",
       "      <td>C105</td>\n",
       "      <td>C</td>\n",
       "      <td>Oliva y Ocana</td>\n",
       "      <td>Mrs</td>\n",
       "      <td>Fermina</td>\n",
       "    </tr>\n",
       "    <tr>\n",
       "      <th>1306</th>\n",
       "      <td>1307</td>\n",
       "      <td>NaN</td>\n",
       "      <td>3</td>\n",
       "      <td>Saether, Mr. Simon Sivertsen</td>\n",
       "      <td>male</td>\n",
       "      <td>38.500000</td>\n",
       "      <td>0</td>\n",
       "      <td>0</td>\n",
       "      <td>SOTON/O.Q. 3101262</td>\n",
       "      <td>7.2500</td>\n",
       "      <td>NaN</td>\n",
       "      <td>S</td>\n",
       "      <td>Saether</td>\n",
       "      <td>Mr</td>\n",
       "      <td>Simon Sivertsen</td>\n",
       "    </tr>\n",
       "    <tr>\n",
       "      <th>1307</th>\n",
       "      <td>1308</td>\n",
       "      <td>NaN</td>\n",
       "      <td>3</td>\n",
       "      <td>Ware, Mr. Frederick</td>\n",
       "      <td>male</td>\n",
       "      <td>32.545531</td>\n",
       "      <td>0</td>\n",
       "      <td>0</td>\n",
       "      <td>359309</td>\n",
       "      <td>8.0500</td>\n",
       "      <td>NaN</td>\n",
       "      <td>S</td>\n",
       "      <td>Ware</td>\n",
       "      <td>Mr</td>\n",
       "      <td>Frederick</td>\n",
       "    </tr>\n",
       "    <tr>\n",
       "      <th>1308</th>\n",
       "      <td>1309</td>\n",
       "      <td>NaN</td>\n",
       "      <td>3</td>\n",
       "      <td>Peter, Master. Michael J</td>\n",
       "      <td>male</td>\n",
       "      <td>5.482642</td>\n",
       "      <td>1</td>\n",
       "      <td>1</td>\n",
       "      <td>2668</td>\n",
       "      <td>22.3583</td>\n",
       "      <td>NaN</td>\n",
       "      <td>C</td>\n",
       "      <td>Peter</td>\n",
       "      <td>Master</td>\n",
       "      <td>Michael J</td>\n",
       "    </tr>\n",
       "  </tbody>\n",
       "</table>\n",
       "<p>1309 rows × 15 columns</p>\n",
       "</div>"
      ],
      "text/plain": [
       "      PassengerId  Survived  Pclass  \\\n",
       "0               1       0.0       3   \n",
       "1               2       1.0       1   \n",
       "2               3       1.0       3   \n",
       "3               4       1.0       1   \n",
       "4               5       0.0       3   \n",
       "...           ...       ...     ...   \n",
       "1304         1305       NaN       3   \n",
       "1305         1306       NaN       1   \n",
       "1306         1307       NaN       3   \n",
       "1307         1308       NaN       3   \n",
       "1308         1309       NaN       3   \n",
       "\n",
       "                                                   Name     Sex        Age  \\\n",
       "0                               Braund, Mr. Owen Harris    male  22.000000   \n",
       "1     Cumings, Mrs. John Bradley (Florence Briggs Th...  female  38.000000   \n",
       "2                                Heikkinen, Miss. Laina  female  26.000000   \n",
       "3          Futrelle, Mrs. Jacques Heath (Lily May Peel)  female  35.000000   \n",
       "4                              Allen, Mr. William Henry    male  35.000000   \n",
       "...                                                 ...     ...        ...   \n",
       "1304                                 Spector, Mr. Woolf    male  32.545531   \n",
       "1305                       Oliva y Ocana, Dona. Fermina  female  39.000000   \n",
       "1306                       Saether, Mr. Simon Sivertsen    male  38.500000   \n",
       "1307                                Ware, Mr. Frederick    male  32.545531   \n",
       "1308                           Peter, Master. Michael J    male   5.482642   \n",
       "\n",
       "      SibSp  Parch              Ticket      Fare Cabin Embarked  \\\n",
       "0         1      0           A/5 21171    7.2500   NaN        S   \n",
       "1         1      0            PC 17599   71.2833   C85        C   \n",
       "2         0      0    STON/O2. 3101282    7.9250   NaN        S   \n",
       "3         1      0              113803   53.1000  C123        S   \n",
       "4         0      0              373450    8.0500   NaN        S   \n",
       "...     ...    ...                 ...       ...   ...      ...   \n",
       "1304      0      0           A.5. 3236    8.0500   NaN        S   \n",
       "1305      0      0            PC 17758  108.9000  C105        C   \n",
       "1306      0      0  SOTON/O.Q. 3101262    7.2500   NaN        S   \n",
       "1307      0      0              359309    8.0500   NaN        S   \n",
       "1308      1      1                2668   22.3583   NaN        C   \n",
       "\n",
       "        family_name honorific                                   name  \n",
       "0            Braund        Mr                            Owen Harris  \n",
       "1           Cumings       Mrs  John Bradley (Florence Briggs Thayer)  \n",
       "2         Heikkinen      Miss                                  Laina  \n",
       "3          Futrelle       Mrs          Jacques Heath (Lily May Peel)  \n",
       "4             Allen        Mr                          William Henry  \n",
       "...             ...       ...                                    ...  \n",
       "1304        Spector        Mr                                  Woolf  \n",
       "1305  Oliva y Ocana       Mrs                                Fermina  \n",
       "1306        Saether        Mr                        Simon Sivertsen  \n",
       "1307           Ware        Mr                              Frederick  \n",
       "1308          Peter    Master                              Michael J  \n",
       "\n",
       "[1309 rows x 15 columns]"
      ]
     },
     "execution_count": 66,
     "metadata": {},
     "output_type": "execute_result"
    }
   ],
   "source": [
    "all_df"
   ]
  },
  {
   "cell_type": "markdown",
   "id": "c18c911a",
   "metadata": {
    "papermill": {
     "duration": 0.036153,
     "end_time": "2024-07-30T07:03:18.916402",
     "exception": false,
     "start_time": "2024-07-30T07:03:18.880249",
     "status": "completed"
    },
    "tags": []
   },
   "source": [
    "### 가족 인원수 추가하기"
   ]
  },
  {
   "cell_type": "code",
   "execution_count": 67,
   "id": "8bdaa4ce",
   "metadata": {
    "execution": {
     "iopub.execute_input": "2024-07-30T07:03:18.992048Z",
     "iopub.status.busy": "2024-07-30T07:03:18.991657Z",
     "iopub.status.idle": "2024-07-30T07:03:19.001062Z",
     "shell.execute_reply": "2024-07-30T07:03:19.000041Z"
    },
    "papermill": {
     "duration": 0.050093,
     "end_time": "2024-07-30T07:03:19.003224",
     "exception": false,
     "start_time": "2024-07-30T07:03:18.953131",
     "status": "completed"
    },
    "tags": []
   },
   "outputs": [
    {
     "data": {
      "text/plain": [
       "family_num\n",
       "0     790\n",
       "1     235\n",
       "2     159\n",
       "3      43\n",
       "5      25\n",
       "4      22\n",
       "6      16\n",
       "10     11\n",
       "7       8\n",
       "Name: count, dtype: int64"
      ]
     },
     "execution_count": 67,
     "metadata": {},
     "output_type": "execute_result"
    }
   ],
   "source": [
    "all_df['family_num'] = all_df['Parch'] + all_df['SibSp']\n",
    "all_df['family_num'].value_counts()"
   ]
  },
  {
   "cell_type": "markdown",
   "id": "e84429c5",
   "metadata": {
    "papermill": {
     "duration": 0.036222,
     "end_time": "2024-07-30T07:03:19.077618",
     "exception": false,
     "start_time": "2024-07-30T07:03:19.041396",
     "status": "completed"
    },
    "tags": []
   },
   "source": [
    "### 홀로 승선했는지 여부를 새로운 변수로 추가하기"
   ]
  },
  {
   "cell_type": "code",
   "execution_count": 68,
   "id": "4d34e063",
   "metadata": {
    "execution": {
     "iopub.execute_input": "2024-07-30T07:03:19.152698Z",
     "iopub.status.busy": "2024-07-30T07:03:19.152334Z",
     "iopub.status.idle": "2024-07-30T07:03:19.161773Z",
     "shell.execute_reply": "2024-07-30T07:03:19.160612Z"
    },
    "papermill": {
     "duration": 0.050103,
     "end_time": "2024-07-30T07:03:19.164327",
     "exception": false,
     "start_time": "2024-07-30T07:03:19.114224",
     "status": "completed"
    },
    "tags": []
   },
   "outputs": [],
   "source": [
    "all_df.loc[all_df['family_num']==0, 'alone'] = 1\n",
    "all_df.fillna(0, inplace=True)"
   ]
  },
  {
   "cell_type": "code",
   "execution_count": 69,
   "id": "d2f647b6",
   "metadata": {
    "execution": {
     "iopub.execute_input": "2024-07-30T07:03:19.239791Z",
     "iopub.status.busy": "2024-07-30T07:03:19.239424Z",
     "iopub.status.idle": "2024-07-30T07:03:19.263414Z",
     "shell.execute_reply": "2024-07-30T07:03:19.262382Z"
    },
    "papermill": {
     "duration": 0.064162,
     "end_time": "2024-07-30T07:03:19.265594",
     "exception": false,
     "start_time": "2024-07-30T07:03:19.201432",
     "status": "completed"
    },
    "tags": []
   },
   "outputs": [
    {
     "data": {
      "text/html": [
       "<div>\n",
       "<style scoped>\n",
       "    .dataframe tbody tr th:only-of-type {\n",
       "        vertical-align: middle;\n",
       "    }\n",
       "\n",
       "    .dataframe tbody tr th {\n",
       "        vertical-align: top;\n",
       "    }\n",
       "\n",
       "    .dataframe thead th {\n",
       "        text-align: right;\n",
       "    }\n",
       "</style>\n",
       "<table border=\"1\" class=\"dataframe\">\n",
       "  <thead>\n",
       "    <tr style=\"text-align: right;\">\n",
       "      <th></th>\n",
       "      <th>PassengerId</th>\n",
       "      <th>Survived</th>\n",
       "      <th>Pclass</th>\n",
       "      <th>Name</th>\n",
       "      <th>Sex</th>\n",
       "      <th>Age</th>\n",
       "      <th>SibSp</th>\n",
       "      <th>Parch</th>\n",
       "      <th>Ticket</th>\n",
       "      <th>Fare</th>\n",
       "      <th>Cabin</th>\n",
       "      <th>Embarked</th>\n",
       "      <th>family_name</th>\n",
       "      <th>honorific</th>\n",
       "      <th>name</th>\n",
       "      <th>family_num</th>\n",
       "      <th>alone</th>\n",
       "    </tr>\n",
       "  </thead>\n",
       "  <tbody>\n",
       "    <tr>\n",
       "      <th>0</th>\n",
       "      <td>1</td>\n",
       "      <td>0.0</td>\n",
       "      <td>3</td>\n",
       "      <td>Braund, Mr. Owen Harris</td>\n",
       "      <td>male</td>\n",
       "      <td>22.000000</td>\n",
       "      <td>1</td>\n",
       "      <td>0</td>\n",
       "      <td>A/5 21171</td>\n",
       "      <td>7.2500</td>\n",
       "      <td>0</td>\n",
       "      <td>S</td>\n",
       "      <td>Braund</td>\n",
       "      <td>Mr</td>\n",
       "      <td>Owen Harris</td>\n",
       "      <td>1</td>\n",
       "      <td>0.0</td>\n",
       "    </tr>\n",
       "    <tr>\n",
       "      <th>1</th>\n",
       "      <td>2</td>\n",
       "      <td>1.0</td>\n",
       "      <td>1</td>\n",
       "      <td>Cumings, Mrs. John Bradley (Florence Briggs Th...</td>\n",
       "      <td>female</td>\n",
       "      <td>38.000000</td>\n",
       "      <td>1</td>\n",
       "      <td>0</td>\n",
       "      <td>PC 17599</td>\n",
       "      <td>71.2833</td>\n",
       "      <td>C85</td>\n",
       "      <td>C</td>\n",
       "      <td>Cumings</td>\n",
       "      <td>Mrs</td>\n",
       "      <td>John Bradley (Florence Briggs Thayer)</td>\n",
       "      <td>1</td>\n",
       "      <td>0.0</td>\n",
       "    </tr>\n",
       "    <tr>\n",
       "      <th>2</th>\n",
       "      <td>3</td>\n",
       "      <td>1.0</td>\n",
       "      <td>3</td>\n",
       "      <td>Heikkinen, Miss. Laina</td>\n",
       "      <td>female</td>\n",
       "      <td>26.000000</td>\n",
       "      <td>0</td>\n",
       "      <td>0</td>\n",
       "      <td>STON/O2. 3101282</td>\n",
       "      <td>7.9250</td>\n",
       "      <td>0</td>\n",
       "      <td>S</td>\n",
       "      <td>Heikkinen</td>\n",
       "      <td>Miss</td>\n",
       "      <td>Laina</td>\n",
       "      <td>0</td>\n",
       "      <td>1.0</td>\n",
       "    </tr>\n",
       "    <tr>\n",
       "      <th>3</th>\n",
       "      <td>4</td>\n",
       "      <td>1.0</td>\n",
       "      <td>1</td>\n",
       "      <td>Futrelle, Mrs. Jacques Heath (Lily May Peel)</td>\n",
       "      <td>female</td>\n",
       "      <td>35.000000</td>\n",
       "      <td>1</td>\n",
       "      <td>0</td>\n",
       "      <td>113803</td>\n",
       "      <td>53.1000</td>\n",
       "      <td>C123</td>\n",
       "      <td>S</td>\n",
       "      <td>Futrelle</td>\n",
       "      <td>Mrs</td>\n",
       "      <td>Jacques Heath (Lily May Peel)</td>\n",
       "      <td>1</td>\n",
       "      <td>0.0</td>\n",
       "    </tr>\n",
       "    <tr>\n",
       "      <th>4</th>\n",
       "      <td>5</td>\n",
       "      <td>0.0</td>\n",
       "      <td>3</td>\n",
       "      <td>Allen, Mr. William Henry</td>\n",
       "      <td>male</td>\n",
       "      <td>35.000000</td>\n",
       "      <td>0</td>\n",
       "      <td>0</td>\n",
       "      <td>373450</td>\n",
       "      <td>8.0500</td>\n",
       "      <td>0</td>\n",
       "      <td>S</td>\n",
       "      <td>Allen</td>\n",
       "      <td>Mr</td>\n",
       "      <td>William Henry</td>\n",
       "      <td>0</td>\n",
       "      <td>1.0</td>\n",
       "    </tr>\n",
       "    <tr>\n",
       "      <th>...</th>\n",
       "      <td>...</td>\n",
       "      <td>...</td>\n",
       "      <td>...</td>\n",
       "      <td>...</td>\n",
       "      <td>...</td>\n",
       "      <td>...</td>\n",
       "      <td>...</td>\n",
       "      <td>...</td>\n",
       "      <td>...</td>\n",
       "      <td>...</td>\n",
       "      <td>...</td>\n",
       "      <td>...</td>\n",
       "      <td>...</td>\n",
       "      <td>...</td>\n",
       "      <td>...</td>\n",
       "      <td>...</td>\n",
       "      <td>...</td>\n",
       "    </tr>\n",
       "    <tr>\n",
       "      <th>1304</th>\n",
       "      <td>1305</td>\n",
       "      <td>0.0</td>\n",
       "      <td>3</td>\n",
       "      <td>Spector, Mr. Woolf</td>\n",
       "      <td>male</td>\n",
       "      <td>32.545531</td>\n",
       "      <td>0</td>\n",
       "      <td>0</td>\n",
       "      <td>A.5. 3236</td>\n",
       "      <td>8.0500</td>\n",
       "      <td>0</td>\n",
       "      <td>S</td>\n",
       "      <td>Spector</td>\n",
       "      <td>Mr</td>\n",
       "      <td>Woolf</td>\n",
       "      <td>0</td>\n",
       "      <td>1.0</td>\n",
       "    </tr>\n",
       "    <tr>\n",
       "      <th>1305</th>\n",
       "      <td>1306</td>\n",
       "      <td>0.0</td>\n",
       "      <td>1</td>\n",
       "      <td>Oliva y Ocana, Dona. Fermina</td>\n",
       "      <td>female</td>\n",
       "      <td>39.000000</td>\n",
       "      <td>0</td>\n",
       "      <td>0</td>\n",
       "      <td>PC 17758</td>\n",
       "      <td>108.9000</td>\n",
       "      <td>C105</td>\n",
       "      <td>C</td>\n",
       "      <td>Oliva y Ocana</td>\n",
       "      <td>Mrs</td>\n",
       "      <td>Fermina</td>\n",
       "      <td>0</td>\n",
       "      <td>1.0</td>\n",
       "    </tr>\n",
       "    <tr>\n",
       "      <th>1306</th>\n",
       "      <td>1307</td>\n",
       "      <td>0.0</td>\n",
       "      <td>3</td>\n",
       "      <td>Saether, Mr. Simon Sivertsen</td>\n",
       "      <td>male</td>\n",
       "      <td>38.500000</td>\n",
       "      <td>0</td>\n",
       "      <td>0</td>\n",
       "      <td>SOTON/O.Q. 3101262</td>\n",
       "      <td>7.2500</td>\n",
       "      <td>0</td>\n",
       "      <td>S</td>\n",
       "      <td>Saether</td>\n",
       "      <td>Mr</td>\n",
       "      <td>Simon Sivertsen</td>\n",
       "      <td>0</td>\n",
       "      <td>1.0</td>\n",
       "    </tr>\n",
       "    <tr>\n",
       "      <th>1307</th>\n",
       "      <td>1308</td>\n",
       "      <td>0.0</td>\n",
       "      <td>3</td>\n",
       "      <td>Ware, Mr. Frederick</td>\n",
       "      <td>male</td>\n",
       "      <td>32.545531</td>\n",
       "      <td>0</td>\n",
       "      <td>0</td>\n",
       "      <td>359309</td>\n",
       "      <td>8.0500</td>\n",
       "      <td>0</td>\n",
       "      <td>S</td>\n",
       "      <td>Ware</td>\n",
       "      <td>Mr</td>\n",
       "      <td>Frederick</td>\n",
       "      <td>0</td>\n",
       "      <td>1.0</td>\n",
       "    </tr>\n",
       "    <tr>\n",
       "      <th>1308</th>\n",
       "      <td>1309</td>\n",
       "      <td>0.0</td>\n",
       "      <td>3</td>\n",
       "      <td>Peter, Master. Michael J</td>\n",
       "      <td>male</td>\n",
       "      <td>5.482642</td>\n",
       "      <td>1</td>\n",
       "      <td>1</td>\n",
       "      <td>2668</td>\n",
       "      <td>22.3583</td>\n",
       "      <td>0</td>\n",
       "      <td>C</td>\n",
       "      <td>Peter</td>\n",
       "      <td>Master</td>\n",
       "      <td>Michael J</td>\n",
       "      <td>2</td>\n",
       "      <td>0.0</td>\n",
       "    </tr>\n",
       "  </tbody>\n",
       "</table>\n",
       "<p>1309 rows × 17 columns</p>\n",
       "</div>"
      ],
      "text/plain": [
       "      PassengerId  Survived  Pclass  \\\n",
       "0               1       0.0       3   \n",
       "1               2       1.0       1   \n",
       "2               3       1.0       3   \n",
       "3               4       1.0       1   \n",
       "4               5       0.0       3   \n",
       "...           ...       ...     ...   \n",
       "1304         1305       0.0       3   \n",
       "1305         1306       0.0       1   \n",
       "1306         1307       0.0       3   \n",
       "1307         1308       0.0       3   \n",
       "1308         1309       0.0       3   \n",
       "\n",
       "                                                   Name     Sex        Age  \\\n",
       "0                               Braund, Mr. Owen Harris    male  22.000000   \n",
       "1     Cumings, Mrs. John Bradley (Florence Briggs Th...  female  38.000000   \n",
       "2                                Heikkinen, Miss. Laina  female  26.000000   \n",
       "3          Futrelle, Mrs. Jacques Heath (Lily May Peel)  female  35.000000   \n",
       "4                              Allen, Mr. William Henry    male  35.000000   \n",
       "...                                                 ...     ...        ...   \n",
       "1304                                 Spector, Mr. Woolf    male  32.545531   \n",
       "1305                       Oliva y Ocana, Dona. Fermina  female  39.000000   \n",
       "1306                       Saether, Mr. Simon Sivertsen    male  38.500000   \n",
       "1307                                Ware, Mr. Frederick    male  32.545531   \n",
       "1308                           Peter, Master. Michael J    male   5.482642   \n",
       "\n",
       "      SibSp  Parch              Ticket      Fare Cabin Embarked  \\\n",
       "0         1      0           A/5 21171    7.2500     0        S   \n",
       "1         1      0            PC 17599   71.2833   C85        C   \n",
       "2         0      0    STON/O2. 3101282    7.9250     0        S   \n",
       "3         1      0              113803   53.1000  C123        S   \n",
       "4         0      0              373450    8.0500     0        S   \n",
       "...     ...    ...                 ...       ...   ...      ...   \n",
       "1304      0      0           A.5. 3236    8.0500     0        S   \n",
       "1305      0      0            PC 17758  108.9000  C105        C   \n",
       "1306      0      0  SOTON/O.Q. 3101262    7.2500     0        S   \n",
       "1307      0      0              359309    8.0500     0        S   \n",
       "1308      1      1                2668   22.3583     0        C   \n",
       "\n",
       "        family_name honorific                                   name  \\\n",
       "0            Braund        Mr                            Owen Harris   \n",
       "1           Cumings       Mrs  John Bradley (Florence Briggs Thayer)   \n",
       "2         Heikkinen      Miss                                  Laina   \n",
       "3          Futrelle       Mrs          Jacques Heath (Lily May Peel)   \n",
       "4             Allen        Mr                          William Henry   \n",
       "...             ...       ...                                    ...   \n",
       "1304        Spector        Mr                                  Woolf   \n",
       "1305  Oliva y Ocana       Mrs                                Fermina   \n",
       "1306        Saether        Mr                        Simon Sivertsen   \n",
       "1307           Ware        Mr                              Frederick   \n",
       "1308          Peter    Master                              Michael J   \n",
       "\n",
       "      family_num  alone  \n",
       "0              1    0.0  \n",
       "1              1    0.0  \n",
       "2              0    1.0  \n",
       "3              1    0.0  \n",
       "4              0    1.0  \n",
       "...          ...    ...  \n",
       "1304           0    1.0  \n",
       "1305           0    1.0  \n",
       "1306           0    1.0  \n",
       "1307           0    1.0  \n",
       "1308           2    0.0  \n",
       "\n",
       "[1309 rows x 17 columns]"
      ]
     },
     "execution_count": 69,
     "metadata": {},
     "output_type": "execute_result"
    }
   ],
   "source": [
    "all_df"
   ]
  },
  {
   "cell_type": "markdown",
   "id": "f37b2d35",
   "metadata": {
    "papermill": {
     "duration": 0.037453,
     "end_time": "2024-07-30T07:03:19.340452",
     "exception": false,
     "start_time": "2024-07-30T07:03:19.302999",
     "status": "completed"
    },
    "tags": []
   },
   "source": [
    "### 요금 가격대로 나누기"
   ]
  },
  {
   "cell_type": "code",
   "execution_count": 70,
   "id": "a54b08f1",
   "metadata": {
    "execution": {
     "iopub.execute_input": "2024-07-30T07:03:19.419192Z",
     "iopub.status.busy": "2024-07-30T07:03:19.418760Z",
     "iopub.status.idle": "2024-07-30T07:03:19.447047Z",
     "shell.execute_reply": "2024-07-30T07:03:19.445977Z"
    },
    "papermill": {
     "duration": 0.071565,
     "end_time": "2024-07-30T07:03:19.450197",
     "exception": false,
     "start_time": "2024-07-30T07:03:19.378632",
     "status": "completed"
    },
    "tags": []
   },
   "outputs": [
    {
     "name": "stderr",
     "output_type": "stream",
     "text": [
      "/tmp/ipykernel_18/1295442804.py:2: FutureWarning: The default of observed=False is deprecated and will be changed to True in a future version of pandas. Pass observed=False to retain current behavior or observed=True to adopt the future default and silence this warning.\n",
      "  all_df.groupby(['Fare_Range'])['Survived'].mean().to_frame().style.background_gradient(cmap='summer_r')\n"
     ]
    },
    {
     "data": {
      "text/html": [
       "<style type=\"text/css\">\n",
       "#T_ec201_row0_col0 {\n",
       "  background-color: #ffff66;\n",
       "  color: #000000;\n",
       "}\n",
       "#T_ec201_row1_col0 {\n",
       "  background-color: #b1d866;\n",
       "  color: #000000;\n",
       "}\n",
       "#T_ec201_row2_col0 {\n",
       "  background-color: #56ab66;\n",
       "  color: #f1f1f1;\n",
       "}\n",
       "#T_ec201_row3_col0 {\n",
       "  background-color: #008066;\n",
       "  color: #f1f1f1;\n",
       "}\n",
       "</style>\n",
       "<table id=\"T_ec201\">\n",
       "  <thead>\n",
       "    <tr>\n",
       "      <th class=\"blank level0\" >&nbsp;</th>\n",
       "      <th id=\"T_ec201_level0_col0\" class=\"col_heading level0 col0\" >Survived</th>\n",
       "    </tr>\n",
       "    <tr>\n",
       "      <th class=\"index_name level0\" >Fare_Range</th>\n",
       "      <th class=\"blank col0\" >&nbsp;</th>\n",
       "    </tr>\n",
       "  </thead>\n",
       "  <tbody>\n",
       "    <tr>\n",
       "      <th id=\"T_ec201_level0_row0\" class=\"row_heading level0 row0\" >(-0.001, 7.896]</th>\n",
       "      <td id=\"T_ec201_row0_col0\" class=\"data row0 col0\" >0.130178</td>\n",
       "    </tr>\n",
       "    <tr>\n",
       "      <th id=\"T_ec201_level0_row1\" class=\"row_heading level0 row1\" >(7.896, 14.454]</th>\n",
       "      <td id=\"T_ec201_row1_col0\" class=\"data row1 col0\" >0.212500</td>\n",
       "    </tr>\n",
       "    <tr>\n",
       "      <th id=\"T_ec201_level0_row2\" class=\"row_heading level0 row2\" >(14.454, 31.275]</th>\n",
       "      <td id=\"T_ec201_row2_col0\" class=\"data row2 col0\" >0.307927</td>\n",
       "    </tr>\n",
       "    <tr>\n",
       "      <th id=\"T_ec201_level0_row3\" class=\"row_heading level0 row3\" >(31.275, 512.329]</th>\n",
       "      <td id=\"T_ec201_row3_col0\" class=\"data row3 col0\" >0.399381</td>\n",
       "    </tr>\n",
       "  </tbody>\n",
       "</table>\n"
      ],
      "text/plain": [
       "<pandas.io.formats.style.Styler at 0x7b7fc0e40eb0>"
      ]
     },
     "execution_count": 70,
     "metadata": {},
     "output_type": "execute_result"
    }
   ],
   "source": [
    "all_df['Fare_Range'] = pd.qcut(all_df['Fare'], 4)\n",
    "all_df.groupby(['Fare_Range'])['Survived'].mean().to_frame().style.background_gradient(cmap='summer_r')"
   ]
  },
  {
   "cell_type": "code",
   "execution_count": 71,
   "id": "b1a1f599",
   "metadata": {
    "execution": {
     "iopub.execute_input": "2024-07-30T07:03:19.527379Z",
     "iopub.status.busy": "2024-07-30T07:03:19.526996Z",
     "iopub.status.idle": "2024-07-30T07:03:19.537878Z",
     "shell.execute_reply": "2024-07-30T07:03:19.536834Z"
    },
    "papermill": {
     "duration": 0.052294,
     "end_time": "2024-07-30T07:03:19.540144",
     "exception": false,
     "start_time": "2024-07-30T07:03:19.487850",
     "status": "completed"
    },
    "tags": []
   },
   "outputs": [
    {
     "data": {
      "text/plain": [
       "0         (-0.001, 7.896]\n",
       "1       (31.275, 512.329]\n",
       "2         (7.896, 14.454]\n",
       "3       (31.275, 512.329]\n",
       "4         (7.896, 14.454]\n",
       "              ...        \n",
       "1304      (7.896, 14.454]\n",
       "1305    (31.275, 512.329]\n",
       "1306      (-0.001, 7.896]\n",
       "1307      (7.896, 14.454]\n",
       "1308     (14.454, 31.275]\n",
       "Name: Fare_Range, Length: 1309, dtype: category\n",
       "Categories (4, interval[float64, right]): [(-0.001, 7.896] < (7.896, 14.454] < (14.454, 31.275] < (31.275, 512.329]]"
      ]
     },
     "execution_count": 71,
     "metadata": {},
     "output_type": "execute_result"
    }
   ],
   "source": [
    "all_df['Fare_Range']"
   ]
  },
  {
   "cell_type": "code",
   "execution_count": 72,
   "id": "6a6c357a",
   "metadata": {
    "execution": {
     "iopub.execute_input": "2024-07-30T07:03:19.617827Z",
     "iopub.status.busy": "2024-07-30T07:03:19.617439Z",
     "iopub.status.idle": "2024-07-30T07:03:19.629127Z",
     "shell.execute_reply": "2024-07-30T07:03:19.628030Z"
    },
    "papermill": {
     "duration": 0.053512,
     "end_time": "2024-07-30T07:03:19.631465",
     "exception": false,
     "start_time": "2024-07-30T07:03:19.577953",
     "status": "completed"
    },
    "tags": []
   },
   "outputs": [],
   "source": [
    "all_df['Fare_cat'] = 0\n",
    "all_df.loc[all_df['Fare']<=7.91, 'Fare_cat'] = 0\n",
    "all_df.loc[(all_df['Fare']>7.91)&(all_df['Fare']<=14.454),'Fare_cat'] = 1\n",
    "all_df.loc[(all_df['Fare']>14.454)&(all_df['Fare']<=31.0),'Fare_cat'] = 2\n",
    "all_df.loc[(all_df['Fare']>31.0)&(all_df['Fare']<=512.329),'Fare_cat'] = 3"
   ]
  },
  {
   "cell_type": "code",
   "execution_count": 73,
   "id": "bb401814",
   "metadata": {
    "execution": {
     "iopub.execute_input": "2024-07-30T07:03:19.709122Z",
     "iopub.status.busy": "2024-07-30T07:03:19.708622Z",
     "iopub.status.idle": "2024-07-30T07:03:20.448353Z",
     "shell.execute_reply": "2024-07-30T07:03:20.447219Z"
    },
    "papermill": {
     "duration": 0.781151,
     "end_time": "2024-07-30T07:03:20.450765",
     "exception": false,
     "start_time": "2024-07-30T07:03:19.669614",
     "status": "completed"
    },
    "tags": []
   },
   "outputs": [
    {
     "data": {
      "text/plain": [
       "<seaborn.axisgrid.FacetGrid at 0x7b7fc0da5e40>"
      ]
     },
     "execution_count": 73,
     "metadata": {},
     "output_type": "execute_result"
    },
    {
     "data": {
      "image/png": "[encoded data removed]",
      "text/plain": [
       "<Figure size 998x600 with 1 Axes>"
      ]
     },
     "metadata": {},
     "output_type": "display_data"
    }
   ],
   "source": [
    "sns.catplot(x='Fare_cat', y='Survived', hue='Sex', kind='point', height=6, data=all_df, aspect=1.5)"
   ]
  },
  {
   "cell_type": "markdown",
   "id": "f40acd5b",
   "metadata": {
    "papermill": {
     "duration": 0.039157,
     "end_time": "2024-07-30T07:03:20.529827",
     "exception": false,
     "start_time": "2024-07-30T07:03:20.490670",
     "status": "completed"
    },
    "tags": []
   },
   "source": [
    "### 불필요한 변수 삭제하기"
   ]
  },
  {
   "cell_type": "code",
   "execution_count": 74,
   "id": "3ebee6b5",
   "metadata": {
    "execution": {
     "iopub.execute_input": "2024-07-30T07:03:20.609492Z",
     "iopub.status.busy": "2024-07-30T07:03:20.608422Z",
     "iopub.status.idle": "2024-07-30T07:03:20.615999Z",
     "shell.execute_reply": "2024-07-30T07:03:20.614758Z"
    },
    "papermill": {
     "duration": 0.050012,
     "end_time": "2024-07-30T07:03:20.618799",
     "exception": false,
     "start_time": "2024-07-30T07:03:20.568787",
     "status": "completed"
    },
    "tags": []
   },
   "outputs": [],
   "source": [
    "all_df = all_df.drop(['PassengerId','Name','family_name','name','Ticket','Cabin','Fare','Fare_Range'], axis=1)"
   ]
  },
  {
   "cell_type": "code",
   "execution_count": 75,
   "id": "5054db95",
   "metadata": {
    "execution": {
     "iopub.execute_input": "2024-07-30T07:03:20.705954Z",
     "iopub.status.busy": "2024-07-30T07:03:20.704886Z",
     "iopub.status.idle": "2024-07-30T07:03:20.721268Z",
     "shell.execute_reply": "2024-07-30T07:03:20.720126Z"
    },
    "papermill": {
     "duration": 0.05868,
     "end_time": "2024-07-30T07:03:20.723529",
     "exception": false,
     "start_time": "2024-07-30T07:03:20.664849",
     "status": "completed"
    },
    "tags": []
   },
   "outputs": [
    {
     "data": {
      "text/html": [
       "<div>\n",
       "<style scoped>\n",
       "    .dataframe tbody tr th:only-of-type {\n",
       "        vertical-align: middle;\n",
       "    }\n",
       "\n",
       "    .dataframe tbody tr th {\n",
       "        vertical-align: top;\n",
       "    }\n",
       "\n",
       "    .dataframe thead th {\n",
       "        text-align: right;\n",
       "    }\n",
       "</style>\n",
       "<table border=\"1\" class=\"dataframe\">\n",
       "  <thead>\n",
       "    <tr style=\"text-align: right;\">\n",
       "      <th></th>\n",
       "      <th>Survived</th>\n",
       "      <th>Pclass</th>\n",
       "      <th>Sex</th>\n",
       "      <th>Age</th>\n",
       "      <th>SibSp</th>\n",
       "      <th>Parch</th>\n",
       "      <th>Embarked</th>\n",
       "      <th>honorific</th>\n",
       "      <th>family_num</th>\n",
       "      <th>alone</th>\n",
       "      <th>Fare_cat</th>\n",
       "    </tr>\n",
       "  </thead>\n",
       "  <tbody>\n",
       "    <tr>\n",
       "      <th>0</th>\n",
       "      <td>0.0</td>\n",
       "      <td>3</td>\n",
       "      <td>male</td>\n",
       "      <td>22.0</td>\n",
       "      <td>1</td>\n",
       "      <td>0</td>\n",
       "      <td>S</td>\n",
       "      <td>Mr</td>\n",
       "      <td>1</td>\n",
       "      <td>0.0</td>\n",
       "      <td>0</td>\n",
       "    </tr>\n",
       "    <tr>\n",
       "      <th>1</th>\n",
       "      <td>1.0</td>\n",
       "      <td>1</td>\n",
       "      <td>female</td>\n",
       "      <td>38.0</td>\n",
       "      <td>1</td>\n",
       "      <td>0</td>\n",
       "      <td>C</td>\n",
       "      <td>Mrs</td>\n",
       "      <td>1</td>\n",
       "      <td>0.0</td>\n",
       "      <td>3</td>\n",
       "    </tr>\n",
       "    <tr>\n",
       "      <th>2</th>\n",
       "      <td>1.0</td>\n",
       "      <td>3</td>\n",
       "      <td>female</td>\n",
       "      <td>26.0</td>\n",
       "      <td>0</td>\n",
       "      <td>0</td>\n",
       "      <td>S</td>\n",
       "      <td>Miss</td>\n",
       "      <td>0</td>\n",
       "      <td>1.0</td>\n",
       "      <td>1</td>\n",
       "    </tr>\n",
       "    <tr>\n",
       "      <th>3</th>\n",
       "      <td>1.0</td>\n",
       "      <td>1</td>\n",
       "      <td>female</td>\n",
       "      <td>35.0</td>\n",
       "      <td>1</td>\n",
       "      <td>0</td>\n",
       "      <td>S</td>\n",
       "      <td>Mrs</td>\n",
       "      <td>1</td>\n",
       "      <td>0.0</td>\n",
       "      <td>3</td>\n",
       "    </tr>\n",
       "    <tr>\n",
       "      <th>4</th>\n",
       "      <td>0.0</td>\n",
       "      <td>3</td>\n",
       "      <td>male</td>\n",
       "      <td>35.0</td>\n",
       "      <td>0</td>\n",
       "      <td>0</td>\n",
       "      <td>S</td>\n",
       "      <td>Mr</td>\n",
       "      <td>0</td>\n",
       "      <td>1.0</td>\n",
       "      <td>1</td>\n",
       "    </tr>\n",
       "  </tbody>\n",
       "</table>\n",
       "</div>"
      ],
      "text/plain": [
       "   Survived  Pclass     Sex   Age  SibSp  Parch Embarked honorific  \\\n",
       "0       0.0       3    male  22.0      1      0        S        Mr   \n",
       "1       1.0       1  female  38.0      1      0        C       Mrs   \n",
       "2       1.0       3  female  26.0      0      0        S      Miss   \n",
       "3       1.0       1  female  35.0      1      0        S       Mrs   \n",
       "4       0.0       3    male  35.0      0      0        S        Mr   \n",
       "\n",
       "   family_num  alone  Fare_cat  \n",
       "0           1    0.0         0  \n",
       "1           1    0.0         3  \n",
       "2           0    1.0         1  \n",
       "3           1    0.0         3  \n",
       "4           0    1.0         1  "
      ]
     },
     "execution_count": 75,
     "metadata": {},
     "output_type": "execute_result"
    }
   ],
   "source": [
    "all_df.head()"
   ]
  },
  {
   "cell_type": "markdown",
   "id": "86d72506",
   "metadata": {
    "papermill": {
     "duration": 0.038824,
     "end_time": "2024-07-30T07:03:20.802052",
     "exception": false,
     "start_time": "2024-07-30T07:03:20.763228",
     "status": "completed"
    },
    "tags": []
   },
   "source": [
    "### 카테고리 변수를 수치로 변환하기"
   ]
  },
  {
   "cell_type": "code",
   "execution_count": 76,
   "id": "9b7a1b53",
   "metadata": {
    "execution": {
     "iopub.execute_input": "2024-07-30T07:03:20.882084Z",
     "iopub.status.busy": "2024-07-30T07:03:20.881085Z",
     "iopub.status.idle": "2024-07-30T07:03:20.888296Z",
     "shell.execute_reply": "2024-07-30T07:03:20.887140Z"
    },
    "papermill": {
     "duration": 0.050077,
     "end_time": "2024-07-30T07:03:20.891105",
     "exception": false,
     "start_time": "2024-07-30T07:03:20.841028",
     "status": "completed"
    },
    "tags": []
   },
   "outputs": [
    {
     "name": "stdout",
     "output_type": "stream",
     "text": [
      "Index(['Sex', 'Embarked', 'honorific'], dtype='object')\n"
     ]
    }
   ],
   "source": [
    "categories = all_df.columns[all_df.dtypes == 'object']\n",
    "print(categories)"
   ]
  },
  {
   "cell_type": "code",
   "execution_count": 77,
   "id": "7926959f",
   "metadata": {
    "execution": {
     "iopub.execute_input": "2024-07-30T07:03:20.976039Z",
     "iopub.status.busy": "2024-07-30T07:03:20.975542Z",
     "iopub.status.idle": "2024-07-30T07:03:20.986478Z",
     "shell.execute_reply": "2024-07-30T07:03:20.985228Z"
    },
    "papermill": {
     "duration": 0.054286,
     "end_time": "2024-07-30T07:03:20.988922",
     "exception": false,
     "start_time": "2024-07-30T07:03:20.934636",
     "status": "completed"
    },
    "tags": []
   },
   "outputs": [
    {
     "data": {
      "text/plain": [
       "honorific\n",
       "Mr        770\n",
       "Miss      265\n",
       "Mrs       200\n",
       "Master     61\n",
       "Other      13\n",
       "Name: count, dtype: int64"
      ]
     },
     "execution_count": 77,
     "metadata": {},
     "output_type": "execute_result"
    }
   ],
   "source": [
    "all_df.honorific.value_counts()"
   ]
  },
  {
   "cell_type": "markdown",
   "id": "a0b60446",
   "metadata": {
    "papermill": {
     "duration": 0.043784,
     "end_time": "2024-07-30T07:03:21.073062",
     "exception": false,
     "start_time": "2024-07-30T07:03:21.029278",
     "status": "completed"
    },
    "tags": []
   },
   "source": [
    "### 문자열을 수치로 변환하기: 라벨 인코딩\n",
    "라벨 인코딩: 각 카테고리를 임의의 숫자로 대체함. 숫자의 대소는 의미 없음."
   ]
  },
  {
   "cell_type": "code",
   "execution_count": 78,
   "id": "ce176f1f",
   "metadata": {
    "execution": {
     "iopub.execute_input": "2024-07-30T07:03:21.154023Z",
     "iopub.status.busy": "2024-07-30T07:03:21.153628Z",
     "iopub.status.idle": "2024-07-30T07:03:21.162408Z",
     "shell.execute_reply": "2024-07-30T07:03:21.161201Z"
    },
    "papermill": {
     "duration": 0.051434,
     "end_time": "2024-07-30T07:03:21.164730",
     "exception": false,
     "start_time": "2024-07-30T07:03:21.113296",
     "status": "completed"
    },
    "tags": []
   },
   "outputs": [
    {
     "data": {
      "text/plain": [
       "Embarked\n",
       "S    914\n",
       "C    270\n",
       "Q    123\n",
       "0      2\n",
       "Name: count, dtype: int64"
      ]
     },
     "execution_count": 78,
     "metadata": {},
     "output_type": "execute_result"
    }
   ],
   "source": [
    "all_df['Embarked'].value_counts()"
   ]
  },
  {
   "cell_type": "code",
   "execution_count": 79,
   "id": "527ca396",
   "metadata": {
    "execution": {
     "iopub.execute_input": "2024-07-30T07:03:21.244496Z",
     "iopub.status.busy": "2024-07-30T07:03:21.244057Z",
     "iopub.status.idle": "2024-07-30T07:03:21.250583Z",
     "shell.execute_reply": "2024-07-30T07:03:21.249416Z"
    },
    "papermill": {
     "duration": 0.048706,
     "end_time": "2024-07-30T07:03:21.252832",
     "exception": false,
     "start_time": "2024-07-30T07:03:21.204126",
     "status": "completed"
    },
    "tags": []
   },
   "outputs": [],
   "source": [
    "all_df.loc[all_df['Embarked']==0, 'Embarked'] = 'S'"
   ]
  },
  {
   "cell_type": "code",
   "execution_count": 80,
   "id": "6a07c2b7",
   "metadata": {
    "execution": {
     "iopub.execute_input": "2024-07-30T07:03:21.332750Z",
     "iopub.status.busy": "2024-07-30T07:03:21.332364Z",
     "iopub.status.idle": "2024-07-30T07:03:21.340969Z",
     "shell.execute_reply": "2024-07-30T07:03:21.339866Z"
    },
    "papermill": {
     "duration": 0.051429,
     "end_time": "2024-07-30T07:03:21.343180",
     "exception": false,
     "start_time": "2024-07-30T07:03:21.291751",
     "status": "completed"
    },
    "tags": []
   },
   "outputs": [
    {
     "data": {
      "text/plain": [
       "Embarked\n",
       "S    916\n",
       "C    270\n",
       "Q    123\n",
       "Name: count, dtype: int64"
      ]
     },
     "execution_count": 80,
     "metadata": {},
     "output_type": "execute_result"
    }
   ],
   "source": [
    "all_df['Embarked'].value_counts()"
   ]
  },
  {
   "cell_type": "code",
   "execution_count": 81,
   "id": "ac1cff47",
   "metadata": {
    "execution": {
     "iopub.execute_input": "2024-07-30T07:03:21.424752Z",
     "iopub.status.busy": "2024-07-30T07:03:21.423745Z",
     "iopub.status.idle": "2024-07-30T07:03:21.615883Z",
     "shell.execute_reply": "2024-07-30T07:03:21.614724Z"
    },
    "papermill": {
     "duration": 0.235767,
     "end_time": "2024-07-30T07:03:21.618099",
     "exception": false,
     "start_time": "2024-07-30T07:03:21.382332",
     "status": "completed"
    },
    "tags": []
   },
   "outputs": [
    {
     "data": {
      "text/html": [
       "<div>\n",
       "<style scoped>\n",
       "    .dataframe tbody tr th:only-of-type {\n",
       "        vertical-align: middle;\n",
       "    }\n",
       "\n",
       "    .dataframe tbody tr th {\n",
       "        vertical-align: top;\n",
       "    }\n",
       "\n",
       "    .dataframe thead th {\n",
       "        text-align: right;\n",
       "    }\n",
       "</style>\n",
       "<table border=\"1\" class=\"dataframe\">\n",
       "  <thead>\n",
       "    <tr style=\"text-align: right;\">\n",
       "      <th></th>\n",
       "      <th>Survived</th>\n",
       "      <th>Pclass</th>\n",
       "      <th>Sex</th>\n",
       "      <th>Age</th>\n",
       "      <th>SibSp</th>\n",
       "      <th>Parch</th>\n",
       "      <th>Embarked</th>\n",
       "      <th>honorific</th>\n",
       "      <th>family_num</th>\n",
       "      <th>alone</th>\n",
       "      <th>Fare_cat</th>\n",
       "    </tr>\n",
       "  </thead>\n",
       "  <tbody>\n",
       "    <tr>\n",
       "      <th>0</th>\n",
       "      <td>0.0</td>\n",
       "      <td>3</td>\n",
       "      <td>male</td>\n",
       "      <td>22.0</td>\n",
       "      <td>1</td>\n",
       "      <td>0</td>\n",
       "      <td>S</td>\n",
       "      <td>Mr</td>\n",
       "      <td>1</td>\n",
       "      <td>0.0</td>\n",
       "      <td>0</td>\n",
       "    </tr>\n",
       "    <tr>\n",
       "      <th>1</th>\n",
       "      <td>1.0</td>\n",
       "      <td>1</td>\n",
       "      <td>female</td>\n",
       "      <td>38.0</td>\n",
       "      <td>1</td>\n",
       "      <td>0</td>\n",
       "      <td>C</td>\n",
       "      <td>Mrs</td>\n",
       "      <td>1</td>\n",
       "      <td>0.0</td>\n",
       "      <td>3</td>\n",
       "    </tr>\n",
       "    <tr>\n",
       "      <th>2</th>\n",
       "      <td>1.0</td>\n",
       "      <td>3</td>\n",
       "      <td>female</td>\n",
       "      <td>26.0</td>\n",
       "      <td>0</td>\n",
       "      <td>0</td>\n",
       "      <td>S</td>\n",
       "      <td>Miss</td>\n",
       "      <td>0</td>\n",
       "      <td>1.0</td>\n",
       "      <td>1</td>\n",
       "    </tr>\n",
       "    <tr>\n",
       "      <th>3</th>\n",
       "      <td>1.0</td>\n",
       "      <td>1</td>\n",
       "      <td>female</td>\n",
       "      <td>35.0</td>\n",
       "      <td>1</td>\n",
       "      <td>0</td>\n",
       "      <td>S</td>\n",
       "      <td>Mrs</td>\n",
       "      <td>1</td>\n",
       "      <td>0.0</td>\n",
       "      <td>3</td>\n",
       "    </tr>\n",
       "    <tr>\n",
       "      <th>4</th>\n",
       "      <td>0.0</td>\n",
       "      <td>3</td>\n",
       "      <td>male</td>\n",
       "      <td>35.0</td>\n",
       "      <td>0</td>\n",
       "      <td>0</td>\n",
       "      <td>S</td>\n",
       "      <td>Mr</td>\n",
       "      <td>0</td>\n",
       "      <td>1.0</td>\n",
       "      <td>1</td>\n",
       "    </tr>\n",
       "  </tbody>\n",
       "</table>\n",
       "</div>"
      ],
      "text/plain": [
       "   Survived  Pclass     Sex   Age  SibSp  Parch Embarked honorific  \\\n",
       "0       0.0       3    male  22.0      1      0        S        Mr   \n",
       "1       1.0       1  female  38.0      1      0        C       Mrs   \n",
       "2       1.0       3  female  26.0      0      0        S      Miss   \n",
       "3       1.0       1  female  35.0      1      0        S       Mrs   \n",
       "4       0.0       3    male  35.0      0      0        S        Mr   \n",
       "\n",
       "   family_num  alone  Fare_cat  \n",
       "0           1    0.0         0  \n",
       "1           1    0.0         3  \n",
       "2           0    1.0         1  \n",
       "3           1    0.0         3  \n",
       "4           0    1.0         1  "
      ]
     },
     "execution_count": 81,
     "metadata": {},
     "output_type": "execute_result"
    }
   ],
   "source": [
    "from sklearn.preprocessing import LabelEncoder\n",
    "\n",
    "all_df.head()"
   ]
  },
  {
   "cell_type": "code",
   "execution_count": 82,
   "id": "2f35911f",
   "metadata": {
    "execution": {
     "iopub.execute_input": "2024-07-30T07:03:21.698886Z",
     "iopub.status.busy": "2024-07-30T07:03:21.698484Z",
     "iopub.status.idle": "2024-07-30T07:03:21.705704Z",
     "shell.execute_reply": "2024-07-30T07:03:21.704405Z"
    },
    "papermill": {
     "duration": 0.05072,
     "end_time": "2024-07-30T07:03:21.708227",
     "exception": false,
     "start_time": "2024-07-30T07:03:21.657507",
     "status": "completed"
    },
    "tags": []
   },
   "outputs": [],
   "source": [
    "le = LabelEncoder()\n",
    "le = le.fit(all_df['Sex'])\n",
    "all_df['Sex'] = le.transform(all_df['Sex'])"
   ]
  },
  {
   "cell_type": "code",
   "execution_count": 83,
   "id": "600dc2c1",
   "metadata": {
    "execution": {
     "iopub.execute_input": "2024-07-30T07:03:21.789110Z",
     "iopub.status.busy": "2024-07-30T07:03:21.788669Z",
     "iopub.status.idle": "2024-07-30T07:03:21.804922Z",
     "shell.execute_reply": "2024-07-30T07:03:21.803750Z"
    },
    "papermill": {
     "duration": 0.059194,
     "end_time": "2024-07-30T07:03:21.807219",
     "exception": false,
     "start_time": "2024-07-30T07:03:21.748025",
     "status": "completed"
    },
    "tags": []
   },
   "outputs": [
    {
     "data": {
      "text/html": [
       "<div>\n",
       "<style scoped>\n",
       "    .dataframe tbody tr th:only-of-type {\n",
       "        vertical-align: middle;\n",
       "    }\n",
       "\n",
       "    .dataframe tbody tr th {\n",
       "        vertical-align: top;\n",
       "    }\n",
       "\n",
       "    .dataframe thead th {\n",
       "        text-align: right;\n",
       "    }\n",
       "</style>\n",
       "<table border=\"1\" class=\"dataframe\">\n",
       "  <thead>\n",
       "    <tr style=\"text-align: right;\">\n",
       "      <th></th>\n",
       "      <th>Survived</th>\n",
       "      <th>Pclass</th>\n",
       "      <th>Sex</th>\n",
       "      <th>Age</th>\n",
       "      <th>SibSp</th>\n",
       "      <th>Parch</th>\n",
       "      <th>Embarked</th>\n",
       "      <th>honorific</th>\n",
       "      <th>family_num</th>\n",
       "      <th>alone</th>\n",
       "      <th>Fare_cat</th>\n",
       "    </tr>\n",
       "  </thead>\n",
       "  <tbody>\n",
       "    <tr>\n",
       "      <th>0</th>\n",
       "      <td>0.0</td>\n",
       "      <td>3</td>\n",
       "      <td>1</td>\n",
       "      <td>22.0</td>\n",
       "      <td>1</td>\n",
       "      <td>0</td>\n",
       "      <td>S</td>\n",
       "      <td>Mr</td>\n",
       "      <td>1</td>\n",
       "      <td>0.0</td>\n",
       "      <td>0</td>\n",
       "    </tr>\n",
       "    <tr>\n",
       "      <th>1</th>\n",
       "      <td>1.0</td>\n",
       "      <td>1</td>\n",
       "      <td>0</td>\n",
       "      <td>38.0</td>\n",
       "      <td>1</td>\n",
       "      <td>0</td>\n",
       "      <td>C</td>\n",
       "      <td>Mrs</td>\n",
       "      <td>1</td>\n",
       "      <td>0.0</td>\n",
       "      <td>3</td>\n",
       "    </tr>\n",
       "    <tr>\n",
       "      <th>2</th>\n",
       "      <td>1.0</td>\n",
       "      <td>3</td>\n",
       "      <td>0</td>\n",
       "      <td>26.0</td>\n",
       "      <td>0</td>\n",
       "      <td>0</td>\n",
       "      <td>S</td>\n",
       "      <td>Miss</td>\n",
       "      <td>0</td>\n",
       "      <td>1.0</td>\n",
       "      <td>1</td>\n",
       "    </tr>\n",
       "    <tr>\n",
       "      <th>3</th>\n",
       "      <td>1.0</td>\n",
       "      <td>1</td>\n",
       "      <td>0</td>\n",
       "      <td>35.0</td>\n",
       "      <td>1</td>\n",
       "      <td>0</td>\n",
       "      <td>S</td>\n",
       "      <td>Mrs</td>\n",
       "      <td>1</td>\n",
       "      <td>0.0</td>\n",
       "      <td>3</td>\n",
       "    </tr>\n",
       "    <tr>\n",
       "      <th>4</th>\n",
       "      <td>0.0</td>\n",
       "      <td>3</td>\n",
       "      <td>1</td>\n",
       "      <td>35.0</td>\n",
       "      <td>0</td>\n",
       "      <td>0</td>\n",
       "      <td>S</td>\n",
       "      <td>Mr</td>\n",
       "      <td>0</td>\n",
       "      <td>1.0</td>\n",
       "      <td>1</td>\n",
       "    </tr>\n",
       "  </tbody>\n",
       "</table>\n",
       "</div>"
      ],
      "text/plain": [
       "   Survived  Pclass  Sex   Age  SibSp  Parch Embarked honorific  family_num  \\\n",
       "0       0.0       3    1  22.0      1      0        S        Mr           1   \n",
       "1       1.0       1    0  38.0      1      0        C       Mrs           1   \n",
       "2       1.0       3    0  26.0      0      0        S      Miss           0   \n",
       "3       1.0       1    0  35.0      1      0        S       Mrs           1   \n",
       "4       0.0       3    1  35.0      0      0        S        Mr           0   \n",
       "\n",
       "   alone  Fare_cat  \n",
       "0    0.0         0  \n",
       "1    0.0         3  \n",
       "2    1.0         1  \n",
       "3    0.0         3  \n",
       "4    1.0         1  "
      ]
     },
     "execution_count": 83,
     "metadata": {},
     "output_type": "execute_result"
    }
   ],
   "source": [
    "all_df.head()"
   ]
  },
  {
   "cell_type": "code",
   "execution_count": 84,
   "id": "73c8da9e",
   "metadata": {
    "execution": {
     "iopub.execute_input": "2024-07-30T07:03:21.888739Z",
     "iopub.status.busy": "2024-07-30T07:03:21.888371Z",
     "iopub.status.idle": "2024-07-30T07:03:21.897074Z",
     "shell.execute_reply": "2024-07-30T07:03:21.895887Z"
    },
    "papermill": {
     "duration": 0.052288,
     "end_time": "2024-07-30T07:03:21.899320",
     "exception": false,
     "start_time": "2024-07-30T07:03:21.847032",
     "status": "completed"
    },
    "tags": []
   },
   "outputs": [
    {
     "name": "stdout",
     "output_type": "stream",
     "text": [
      "Sex\n",
      "Embarked\n",
      "honorific\n"
     ]
    }
   ],
   "source": [
    "for cat in categories:\n",
    "    le = LabelEncoder()\n",
    "    print(cat)\n",
    "    if all_df[cat].dtypes == 'object':\n",
    "        le = le.fit(all_df[cat])\n",
    "        all_df[cat] = le.transform(all_df[cat])"
   ]
  },
  {
   "cell_type": "code",
   "execution_count": 85,
   "id": "c2f221f2",
   "metadata": {
    "execution": {
     "iopub.execute_input": "2024-07-30T07:03:21.981635Z",
     "iopub.status.busy": "2024-07-30T07:03:21.981228Z",
     "iopub.status.idle": "2024-07-30T07:03:21.997196Z",
     "shell.execute_reply": "2024-07-30T07:03:21.995980Z"
    },
    "papermill": {
     "duration": 0.059364,
     "end_time": "2024-07-30T07:03:21.999470",
     "exception": false,
     "start_time": "2024-07-30T07:03:21.940106",
     "status": "completed"
    },
    "tags": []
   },
   "outputs": [
    {
     "data": {
      "text/html": [
       "<div>\n",
       "<style scoped>\n",
       "    .dataframe tbody tr th:only-of-type {\n",
       "        vertical-align: middle;\n",
       "    }\n",
       "\n",
       "    .dataframe tbody tr th {\n",
       "        vertical-align: top;\n",
       "    }\n",
       "\n",
       "    .dataframe thead th {\n",
       "        text-align: right;\n",
       "    }\n",
       "</style>\n",
       "<table border=\"1\" class=\"dataframe\">\n",
       "  <thead>\n",
       "    <tr style=\"text-align: right;\">\n",
       "      <th></th>\n",
       "      <th>Survived</th>\n",
       "      <th>Pclass</th>\n",
       "      <th>Sex</th>\n",
       "      <th>Age</th>\n",
       "      <th>SibSp</th>\n",
       "      <th>Parch</th>\n",
       "      <th>Embarked</th>\n",
       "      <th>honorific</th>\n",
       "      <th>family_num</th>\n",
       "      <th>alone</th>\n",
       "      <th>Fare_cat</th>\n",
       "    </tr>\n",
       "  </thead>\n",
       "  <tbody>\n",
       "    <tr>\n",
       "      <th>0</th>\n",
       "      <td>0.0</td>\n",
       "      <td>3</td>\n",
       "      <td>1</td>\n",
       "      <td>22.0</td>\n",
       "      <td>1</td>\n",
       "      <td>0</td>\n",
       "      <td>2</td>\n",
       "      <td>2</td>\n",
       "      <td>1</td>\n",
       "      <td>0.0</td>\n",
       "      <td>0</td>\n",
       "    </tr>\n",
       "    <tr>\n",
       "      <th>1</th>\n",
       "      <td>1.0</td>\n",
       "      <td>1</td>\n",
       "      <td>0</td>\n",
       "      <td>38.0</td>\n",
       "      <td>1</td>\n",
       "      <td>0</td>\n",
       "      <td>0</td>\n",
       "      <td>3</td>\n",
       "      <td>1</td>\n",
       "      <td>0.0</td>\n",
       "      <td>3</td>\n",
       "    </tr>\n",
       "    <tr>\n",
       "      <th>2</th>\n",
       "      <td>1.0</td>\n",
       "      <td>3</td>\n",
       "      <td>0</td>\n",
       "      <td>26.0</td>\n",
       "      <td>0</td>\n",
       "      <td>0</td>\n",
       "      <td>2</td>\n",
       "      <td>1</td>\n",
       "      <td>0</td>\n",
       "      <td>1.0</td>\n",
       "      <td>1</td>\n",
       "    </tr>\n",
       "    <tr>\n",
       "      <th>3</th>\n",
       "      <td>1.0</td>\n",
       "      <td>1</td>\n",
       "      <td>0</td>\n",
       "      <td>35.0</td>\n",
       "      <td>1</td>\n",
       "      <td>0</td>\n",
       "      <td>2</td>\n",
       "      <td>3</td>\n",
       "      <td>1</td>\n",
       "      <td>0.0</td>\n",
       "      <td>3</td>\n",
       "    </tr>\n",
       "    <tr>\n",
       "      <th>4</th>\n",
       "      <td>0.0</td>\n",
       "      <td>3</td>\n",
       "      <td>1</td>\n",
       "      <td>35.0</td>\n",
       "      <td>0</td>\n",
       "      <td>0</td>\n",
       "      <td>2</td>\n",
       "      <td>2</td>\n",
       "      <td>0</td>\n",
       "      <td>1.0</td>\n",
       "      <td>1</td>\n",
       "    </tr>\n",
       "  </tbody>\n",
       "</table>\n",
       "</div>"
      ],
      "text/plain": [
       "   Survived  Pclass  Sex   Age  SibSp  Parch  Embarked  honorific  family_num  \\\n",
       "0       0.0       3    1  22.0      1      0         2          2           1   \n",
       "1       1.0       1    0  38.0      1      0         0          3           1   \n",
       "2       1.0       3    0  26.0      0      0         2          1           0   \n",
       "3       1.0       1    0  35.0      1      0         2          3           1   \n",
       "4       0.0       3    1  35.0      0      0         2          2           0   \n",
       "\n",
       "   alone  Fare_cat  \n",
       "0    0.0         0  \n",
       "1    0.0         3  \n",
       "2    1.0         1  \n",
       "3    0.0         3  \n",
       "4    1.0         1  "
      ]
     },
     "execution_count": 85,
     "metadata": {},
     "output_type": "execute_result"
    }
   ],
   "source": [
    "all_df.head()"
   ]
  },
  {
   "cell_type": "markdown",
   "id": "8a8e52b0",
   "metadata": {
    "papermill": {
     "duration": 0.040474,
     "end_time": "2024-07-30T07:03:22.082655",
     "exception": false,
     "start_time": "2024-07-30T07:03:22.042181",
     "status": "completed"
    },
    "tags": []
   },
   "source": [
    "### 모든 데이터를 학습 데이터와 테스트 데이터로 되돌리기"
   ]
  },
  {
   "cell_type": "code",
   "execution_count": 86,
   "id": "9dec74e9",
   "metadata": {
    "execution": {
     "iopub.execute_input": "2024-07-30T07:03:22.165762Z",
     "iopub.status.busy": "2024-07-30T07:03:22.165394Z",
     "iopub.status.idle": "2024-07-30T07:03:22.175880Z",
     "shell.execute_reply": "2024-07-30T07:03:22.174744Z"
    },
    "papermill": {
     "duration": 0.053859,
     "end_time": "2024-07-30T07:03:22.178412",
     "exception": false,
     "start_time": "2024-07-30T07:03:22.124553",
     "status": "completed"
    },
    "tags": []
   },
   "outputs": [],
   "source": [
    "train_X = all_df[~all_df['Survived'].isnull()].drop('Survived', axis=1).reset_index(drop=True)\n",
    "train_Y = train_df['Survived']\n",
    "test_X = all_df[all_df['Survived'].isnull()].drop('Survived', axis=1).reset_index(drop=True)"
   ]
  },
  {
   "cell_type": "code",
   "execution_count": null,
   "id": "a13e7ba6",
   "metadata": {
    "papermill": {
     "duration": 0.040781,
     "end_time": "2024-07-30T07:03:22.260458",
     "exception": false,
     "start_time": "2024-07-30T07:03:22.219677",
     "status": "completed"
    },
    "tags": []
   },
   "outputs": [],
   "source": []
  }
 ],
 "metadata": {
  "kaggle": {
   "accelerator": "none",
   "dataSources": [
    {
     "databundleVersionId": 26502,
     "sourceId": 3136,
     "sourceType": "competition"
    }
   ],
   "isGpuEnabled": false,
   "isInternetEnabled": false,
   "language": "python",
   "sourceType": "notebook"
  },
  "kernelspec": {
   "display_name": "Python 3",
   "language": "python",
   "name": "python3"
  },
  "language_info": {
   "codemirror_mode": {
    "name": "ipython",
    "version": 3
   },
   "file_extension": ".py",
   "mimetype": "text/x-python",
   "name": "python",
   "nbconvert_exporter": "python",
   "pygments_lexer": "ipython3",
   "version": "3.10.13"
  },
  "papermill": {
   "default_parameters": {},
   "duration": 18.572464,
   "end_time": "2024-07-30T07:03:22.923540",
   "environment_variables": {},
   "exception": null,
   "input_path": "__notebook__.ipynb",
   "output_path": "__notebook__.ipynb",
   "parameters": {},
   "start_time": "2024-07-30T07:03:04.351076",
   "version": "2.5.0"
  }
 },
 "nbformat": 4,
 "nbformat_minor": 5
}
