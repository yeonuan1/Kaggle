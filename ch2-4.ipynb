{
 "cells": [
  {
   "cell_type": "code",
   "execution_count": 1,
   "id": "cbd6ddf3",
   "metadata": {
    "_cell_guid": "b1076dfc-b9ad-4769-8c92-a6c4dae69d19",
    "_uuid": "8f2839f25d086af736a60e9eeb907d3b93b6e0e5",
    "execution": {
     "iopub.execute_input": "2024-01-15T11:31:51.537849Z",
     "iopub.status.busy": "2024-01-15T11:31:51.537041Z",
     "iopub.status.idle": "2024-01-15T11:31:52.049925Z",
     "shell.execute_reply": "2024-01-15T11:31:52.047999Z"
    },
    "papermill": {
     "duration": 0.526182,
     "end_time": "2024-01-15T11:31:52.053615",
     "exception": false,
     "start_time": "2024-01-15T11:31:51.527433",
     "status": "completed"
    },
    "tags": []
   },
   "outputs": [
    {
     "name": "stdout",
     "output_type": "stream",
     "text": [
      "/kaggle/input/titanic/train.csv\n",
      "/kaggle/input/titanic/test.csv\n",
      "/kaggle/input/titanic/gender_submission.csv\n"
     ]
    }
   ],
   "source": [
    "# This Python 3 environment comes with many helpful analytics libraries installed\n",
    "# It is defined by the kaggle/python Docker image: https://github.com/kaggle/docker-python\n",
    "# For example, here's several helpful packages to load\n",
    "\n",
    "import numpy as np # linear algebra\n",
    "import pandas as pd # data processing, CSV file I/O (e.g. pd.read_csv)\n",
    "\n",
    "# Input data files are available in the read-only \"../input/\" directory\n",
    "# For example, running this (by clicking run or pressing Shift+Enter) will list all files under the input directory\n",
    "\n",
    "import os\n",
    "for dirname, _, filenames in os.walk('/kaggle/input'):\n",
    "    for filename in filenames:\n",
    "        print(os.path.join(dirname, filename))\n",
    "\n",
    "# You can write up to 20GB to the current directory (/kaggle/working/) that gets preserved as output when you create a version using \"Save & Run All\" \n",
    "# You can also write temporary files to /kaggle/temp/, but they won't be saved outside of the current session"
   ]
  },
  {
   "cell_type": "code",
   "execution_count": 2,
   "id": "5c3d0faa",
   "metadata": {
    "execution": {
     "iopub.execute_input": "2024-01-15T11:31:52.070536Z",
     "iopub.status.busy": "2024-01-15T11:31:52.069880Z",
     "iopub.status.idle": "2024-01-15T11:31:52.120468Z",
     "shell.execute_reply": "2024-01-15T11:31:52.119307Z"
    },
    "papermill": {
     "duration": 0.062254,
     "end_time": "2024-01-15T11:31:52.123425",
     "exception": false,
     "start_time": "2024-01-15T11:31:52.061171",
     "status": "completed"
    },
    "tags": []
   },
   "outputs": [],
   "source": [
    "train = pd.read_csv('../input/titanic/train.csv')\n",
    "test = pd.read_csv('../input/titanic/test.csv')\n",
    "\n",
    "data = pd.concat([train, test], sort=False)"
   ]
  },
  {
   "cell_type": "markdown",
   "id": "18ccd4a5",
   "metadata": {
    "papermill": {
     "duration": 0.006325,
     "end_time": "2024-01-15T11:31:52.136471",
     "exception": false,
     "start_time": "2024-01-15T11:31:52.130146",
     "status": "completed"
    },
    "tags": []
   },
   "source": [
    "# 2.4 가설을 기반으로 새로운 feature 만들기"
   ]
  },
  {
   "cell_type": "markdown",
   "id": "1b7a4094",
   "metadata": {
    "papermill": {
     "duration": 0.006114,
     "end_time": "2024-01-15T11:31:52.149144",
     "exception": false,
     "start_time": "2024-01-15T11:31:52.143030",
     "status": "completed"
    },
    "tags": []
   },
   "source": [
    "### 2.4.1 재현성"
   ]
  },
  {
   "cell_type": "markdown",
   "id": "0d4f45ec",
   "metadata": {
    "papermill": {
     "duration": 0.006323,
     "end_time": "2024-01-15T11:31:52.162105",
     "exception": false,
     "start_time": "2024-01-15T11:31:52.155782",
     "status": "completed"
    },
    "tags": []
   },
   "source": [
    "- 결측치를 채울 때 재현성을 고려하는 방법\n",
    "1. 랜덤한 값을 사용하지 않고 다른 값들을 기반으로 중앙값을 찾아서 넣기\n",
    "2. 랜덤 값에 seed를 지정해 고정시키기"
   ]
  },
  {
   "cell_type": "code",
   "execution_count": 3,
   "id": "8b91c5b4",
   "metadata": {
    "execution": {
     "iopub.execute_input": "2024-01-15T11:31:52.177833Z",
     "iopub.status.busy": "2024-01-15T11:31:52.177346Z",
     "iopub.status.idle": "2024-01-15T11:31:52.188091Z",
     "shell.execute_reply": "2024-01-15T11:31:52.186863Z"
    },
    "papermill": {
     "duration": 0.022036,
     "end_time": "2024-01-15T11:31:52.190765",
     "exception": false,
     "start_time": "2024-01-15T11:31:52.168729",
     "status": "completed"
    },
    "tags": []
   },
   "outputs": [
    {
     "data": {
      "text/plain": [
       "263"
      ]
     },
     "execution_count": 3,
     "metadata": {},
     "output_type": "execute_result"
    }
   ],
   "source": [
    "data['Age'].isnull().sum() "
   ]
  },
  {
   "cell_type": "code",
   "execution_count": 4,
   "id": "d95ecc66",
   "metadata": {
    "execution": {
     "iopub.execute_input": "2024-01-15T11:31:52.207959Z",
     "iopub.status.busy": "2024-01-15T11:31:52.206401Z",
     "iopub.status.idle": "2024-01-15T11:31:52.215510Z",
     "shell.execute_reply": "2024-01-15T11:31:52.214510Z"
    },
    "papermill": {
     "duration": 0.020729,
     "end_time": "2024-01-15T11:31:52.218428",
     "exception": false,
     "start_time": "2024-01-15T11:31:52.197699",
     "status": "completed"
    },
    "tags": []
   },
   "outputs": [],
   "source": [
    "# 랜덤한 값을 사용하는 방법\n",
    "age_avg = data['Age'].mean()\n",
    "age_std = data['Age'].std()\n",
    "\n",
    "data['Age'].fillna(np.random.randint(age_avg-age_std, age_avg+age_std), inplace=True)"
   ]
  },
  {
   "cell_type": "code",
   "execution_count": 5,
   "id": "4547c774",
   "metadata": {
    "execution": {
     "iopub.execute_input": "2024-01-15T11:31:52.235386Z",
     "iopub.status.busy": "2024-01-15T11:31:52.234907Z",
     "iopub.status.idle": "2024-01-15T11:31:52.244102Z",
     "shell.execute_reply": "2024-01-15T11:31:52.243090Z"
    },
    "papermill": {
     "duration": 0.021617,
     "end_time": "2024-01-15T11:31:52.246966",
     "exception": false,
     "start_time": "2024-01-15T11:31:52.225349",
     "status": "completed"
    },
    "tags": []
   },
   "outputs": [],
   "source": [
    "# 중앙값을 찾아서 보완하기\n",
    "data['Age'].fillna(data['Age'].median(), inplace=True)"
   ]
  },
  {
   "cell_type": "code",
   "execution_count": 6,
   "id": "98214137",
   "metadata": {
    "execution": {
     "iopub.execute_input": "2024-01-15T11:31:52.264157Z",
     "iopub.status.busy": "2024-01-15T11:31:52.263348Z",
     "iopub.status.idle": "2024-01-15T11:31:53.928313Z",
     "shell.execute_reply": "2024-01-15T11:31:53.927198Z"
    },
    "papermill": {
     "duration": 1.677632,
     "end_time": "2024-01-15T11:31:53.931957",
     "exception": false,
     "start_time": "2024-01-15T11:31:52.254325",
     "status": "completed"
    },
    "tags": []
   },
   "outputs": [],
   "source": [
    "# 하이퍼파라미터로 seed를 고정하기\n",
    "from sklearn.linear_model import LogisticRegression\n",
    "clf = LogisticRegression(penalty='l2', solver='sag', random_state=0)"
   ]
  },
  {
   "cell_type": "markdown",
   "id": "221ae7f8",
   "metadata": {
    "papermill": {
     "duration": 0.006588,
     "end_time": "2024-01-15T11:31:53.946557",
     "exception": false,
     "start_time": "2024-01-15T11:31:53.939969",
     "status": "completed"
    },
    "tags": []
   },
   "source": [
    "### 2.4.2 가설을 기반으로 새로운 feature 만들기"
   ]
  },
  {
   "cell_type": "markdown",
   "id": "833ccba6",
   "metadata": {
    "papermill": {
     "duration": 0.006703,
     "end_time": "2024-01-15T11:31:53.960100",
     "exception": false,
     "start_time": "2024-01-15T11:31:53.953397",
     "status": "completed"
    },
    "tags": []
   },
   "source": [
    "- Parch와 SibSp가 일정 값을 넘으면 생존률이 낮아짐\n",
    "- 이를 더해 '가족 수'라는 feature를 만들고, '예측 성능에 기여할 가능성이 있다'는 가설이 맞는지 확인."
   ]
  },
  {
   "cell_type": "code",
   "execution_count": 7,
   "id": "e631dd8c",
   "metadata": {
    "execution": {
     "iopub.execute_input": "2024-01-15T11:31:53.976376Z",
     "iopub.status.busy": "2024-01-15T11:31:53.975856Z",
     "iopub.status.idle": "2024-01-15T11:31:53.989937Z",
     "shell.execute_reply": "2024-01-15T11:31:53.988701Z"
    },
    "papermill": {
     "duration": 0.025691,
     "end_time": "2024-01-15T11:31:53.992585",
     "exception": false,
     "start_time": "2024-01-15T11:31:53.966894",
     "status": "completed"
    },
    "tags": []
   },
   "outputs": [
    {
     "data": {
      "text/plain": [
       "SibSp\n",
       "0    891\n",
       "1    319\n",
       "2     42\n",
       "4     22\n",
       "3     20\n",
       "8      9\n",
       "5      6\n",
       "Name: count, dtype: int64"
      ]
     },
     "execution_count": 7,
     "metadata": {},
     "output_type": "execute_result"
    }
   ],
   "source": [
    "data['SibSp'].value_counts()"
   ]
  },
  {
   "cell_type": "code",
   "execution_count": 8,
   "id": "e776a4e6",
   "metadata": {
    "execution": {
     "iopub.execute_input": "2024-01-15T11:31:54.009786Z",
     "iopub.status.busy": "2024-01-15T11:31:54.008653Z",
     "iopub.status.idle": "2024-01-15T11:31:54.020601Z",
     "shell.execute_reply": "2024-01-15T11:31:54.019279Z"
    },
    "papermill": {
     "duration": 0.023694,
     "end_time": "2024-01-15T11:31:54.023551",
     "exception": false,
     "start_time": "2024-01-15T11:31:53.999857",
     "status": "completed"
    },
    "tags": []
   },
   "outputs": [
    {
     "data": {
      "text/plain": [
       "Parch\n",
       "0    1002\n",
       "1     170\n",
       "2     113\n",
       "3       8\n",
       "5       6\n",
       "4       6\n",
       "6       2\n",
       "9       2\n",
       "Name: count, dtype: int64"
      ]
     },
     "execution_count": 8,
     "metadata": {},
     "output_type": "execute_result"
    }
   ],
   "source": [
    "data['Parch'].value_counts()"
   ]
  },
  {
   "cell_type": "code",
   "execution_count": 9,
   "id": "bc045d91",
   "metadata": {
    "execution": {
     "iopub.execute_input": "2024-01-15T11:31:54.041490Z",
     "iopub.status.busy": "2024-01-15T11:31:54.040729Z",
     "iopub.status.idle": "2024-01-15T11:31:54.884329Z",
     "shell.execute_reply": "2024-01-15T11:31:54.883131Z"
    },
    "papermill": {
     "duration": 0.855788,
     "end_time": "2024-01-15T11:31:54.887009",
     "exception": false,
     "start_time": "2024-01-15T11:31:54.031221",
     "status": "completed"
    },
    "tags": []
   },
   "outputs": [
    {
     "data": {
      "text/plain": [
       "<Axes: xlabel='FamilySize', ylabel='count'>"
      ]
     },
     "execution_count": 9,
     "metadata": {},
     "output_type": "execute_result"
    },
    {
     "data": {
      "image/png": "[encoded data removed]",
      "text/plain": [
       "<Figure size 640x480 with 1 Axes>"
      ]
     },
     "metadata": {},
     "output_type": "display_data"
    }
   ],
   "source": [
    "# 시각화\n",
    "# FamilySize열에는 자신을 포함한 가족 구성원 수가 들어감\n",
    "data['FamilySize'] = data['Parch'] + data['SibSp'] + 1\n",
    "train['FamilySize'] = data['FamilySize'][:len(train)]\n",
    "test['FamilySize'] = data['FamilySize'][len(train):]\n",
    "\n",
    "import seaborn as sns\n",
    "sns.countplot(x = 'FamilySize', data=train, hue='Survived')"
   ]
  },
  {
   "cell_type": "markdown",
   "id": "dd31c894",
   "metadata": {
    "papermill": {
     "duration": 0.00746,
     "end_time": "2024-01-15T11:31:54.902275",
     "exception": false,
     "start_time": "2024-01-15T11:31:54.894815",
     "status": "completed"
    },
    "tags": []
   },
   "source": [
    "1. Family size가 5 이상일 때부터 사망률이 생존률을 넘어선다.(생존률이 낮아진다)\n",
    "2. Family size가 1인 사람이 압도적으로 많다.\n",
    "-> 두 사실 모두 예측에 영향을 줄 수 있음 "
   ]
  },
  {
   "cell_type": "code",
   "execution_count": 10,
   "id": "ead8ae73",
   "metadata": {
    "execution": {
     "iopub.execute_input": "2024-01-15T11:31:54.919897Z",
     "iopub.status.busy": "2024-01-15T11:31:54.919379Z",
     "iopub.status.idle": "2024-01-15T11:31:54.929430Z",
     "shell.execute_reply": "2024-01-15T11:31:54.928472Z"
    },
    "papermill": {
     "duration": 0.022431,
     "end_time": "2024-01-15T11:31:54.932419",
     "exception": false,
     "start_time": "2024-01-15T11:31:54.909988",
     "status": "completed"
    },
    "tags": []
   },
   "outputs": [],
   "source": [
    "# 구성원이 혼자인 경우를 새로운 feature로 만든다.\n",
    "\n",
    "data['IsAlone'] = 0\n",
    "data.loc[data['FamilySize']==1, 'IsAlone'] = 1\n",
    "train['IsAlone'] = data['IsAlone'][:len(train)]\n",
    "test['IsAlone'] = data['IsAlone'][len(train):]"
   ]
  },
  {
   "cell_type": "code",
   "execution_count": 11,
   "id": "b7394bff",
   "metadata": {
    "execution": {
     "iopub.execute_input": "2024-01-15T11:31:54.950637Z",
     "iopub.status.busy": "2024-01-15T11:31:54.949862Z",
     "iopub.status.idle": "2024-01-15T11:31:55.262914Z",
     "shell.execute_reply": "2024-01-15T11:31:55.261512Z"
    },
    "papermill": {
     "duration": 0.325417,
     "end_time": "2024-01-15T11:31:55.265606",
     "exception": false,
     "start_time": "2024-01-15T11:31:54.940189",
     "status": "completed"
    },
    "tags": []
   },
   "outputs": [
    {
     "data": {
      "text/plain": [
       "<matplotlib.legend.Legend at 0x7819cb1ca980>"
      ]
     },
     "execution_count": 11,
     "metadata": {},
     "output_type": "execute_result"
    },
    {
     "data": {
      "image/png": "[encoded data removed]",
      "text/plain": [
       "<Figure size 640x480 with 1 Axes>"
      ]
     },
     "metadata": {},
     "output_type": "display_data"
    }
   ],
   "source": [
    "import matplotlib.pyplot as plt\n",
    "sns.countplot(x = 'IsAlone', hue = 'Survived', data = train)\n",
    "plt.legend(loc = 'upper right', title = 'Survived')"
   ]
  },
  {
   "cell_type": "code",
   "execution_count": null,
   "id": "f21f111c",
   "metadata": {
    "papermill": {
     "duration": 0.007851,
     "end_time": "2024-01-15T11:31:55.281735",
     "exception": false,
     "start_time": "2024-01-15T11:31:55.273884",
     "status": "completed"
    },
    "tags": []
   },
   "outputs": [],
   "source": []
  },
  {
   "cell_type": "code",
   "execution_count": null,
   "id": "e29a2595",
   "metadata": {
    "papermill": {
     "duration": 0.007928,
     "end_time": "2024-01-15T11:31:55.297872",
     "exception": false,
     "start_time": "2024-01-15T11:31:55.289944",
     "status": "completed"
    },
    "tags": []
   },
   "outputs": [],
   "source": []
  }
 ],
 "metadata": {
  "kaggle": {
   "accelerator": "none",
   "dataSources": [
    {
     "databundleVersionId": 26502,
     "sourceId": 3136,
     "sourceType": "competition"
    }
   ],
   "dockerImageVersionId": 30635,
   "isGpuEnabled": false,
   "isInternetEnabled": false,
   "language": "python",
   "sourceType": "notebook"
  },
  "kernelspec": {
   "display_name": "Python 3",
   "language": "python",
   "name": "python3"
  },
  "language_info": {
   "codemirror_mode": {
    "name": "ipython",
    "version": 3
   },
   "file_extension": ".py",
   "mimetype": "text/x-python",
   "name": "python",
   "nbconvert_exporter": "python",
   "pygments_lexer": "ipython3",
   "version": "3.10.12"
  },
  "papermill": {
   "default_parameters": {},
   "duration": 8.609782,
   "end_time": "2024-01-15T11:31:56.231157",
   "environment_variables": {},
   "exception": null,
   "input_path": "__notebook__.ipynb",
   "output_path": "__notebook__.ipynb",
   "parameters": {},
   "start_time": "2024-01-15T11:31:47.621375",
   "version": "2.4.0"
  }
 },
 "nbformat": 4,
 "nbformat_minor": 5
}
